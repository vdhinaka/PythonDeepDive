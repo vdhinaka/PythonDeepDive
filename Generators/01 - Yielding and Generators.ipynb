{
  "cells": [
    {
      "cell_type": "markdown",
      "metadata": {
        "id": "view-in-github",
        "colab_type": "text"
      },
      "source": [
        "<a href=\"https://colab.research.google.com/github/vdhinaka/PythonDeepDive/blob/master/Generators/01%20-%20Yielding%20and%20Generators.ipynb\" target=\"_parent\"><img src=\"https://colab.research.google.com/assets/colab-badge.svg\" alt=\"Open In Colab\"/></a>"
      ]
    },
    {
      "cell_type": "markdown",
      "metadata": {
        "id": "66K-2of7g7XP"
      },
      "source": [
        "### Yielding and Generators"
      ]
    },
    {
      "cell_type": "markdown",
      "source": [
        "**generators** \n",
        "- a type of iterator <br>\n",
        "\n",
        "**generator functions** \n",
        "- generator factories <br>\n",
        "- they return a generator when called <br>\n",
        "\n",
        "**generator expressions** \n",
        "- uses comprehension syntax <br>\n",
        "- a more concise way of creating generators in simple situations                         \n",
        "\n"
      ],
      "metadata": {
        "id": "imxRh5cJhKWY"
      }
    },
    {
      "cell_type": "markdown",
      "metadata": {
        "id": "Ldk7FcwKg7XT"
      },
      "source": [
        "Let's start by writing a \"simple\" iterator first using the techniques we learned in the previous section."
      ]
    },
    {
      "cell_type": "code",
      "execution_count": 1,
      "metadata": {
        "collapsed": true,
        "id": "nW5PlrRJg7XU"
      },
      "outputs": [],
      "source": [
        "import math"
      ]
    },
    {
      "cell_type": "code",
      "execution_count": 3,
      "metadata": {
        "collapsed": true,
        "id": "NK8jnNJUg7XV"
      },
      "outputs": [],
      "source": [
        "class FactIter:\n",
        "    def __init__(self, n):\n",
        "        self.n = n\n",
        "        self.i = 0\n",
        "\n",
        "    def __iter__(self):\n",
        "        return self\n",
        "\n",
        "    def __next__(self):\n",
        "        if self.i >= self.n:\n",
        "            raise StopIteration\n",
        "        else:\n",
        "            result = math.factorial(self.i)\n",
        "            self.i += 1\n",
        "            return result"
      ]
    },
    {
      "cell_type": "code",
      "execution_count": 5,
      "metadata": {
        "collapsed": true,
        "id": "129KQhgdg7XV"
      },
      "outputs": [],
      "source": [
        "fact_iter = FactIter(5)"
      ]
    },
    {
      "cell_type": "code",
      "execution_count": 8,
      "metadata": {
        "scrolled": true,
        "id": "FLXRzo4Og7XW"
      },
      "outputs": [],
      "source": [
        "for num in fact_iter:\n",
        "    print(num)"
      ]
    },
    {
      "cell_type": "markdown",
      "metadata": {
        "id": "bXX6fgztg7XW"
      },
      "source": [
        "We could achieve the same thing using the `iter` method's second form - we just have to know our sentinel value - in this case it would be the factorial of n+1 where n is the last integer's factorial we want our iterator to produce:"
      ]
    },
    {
      "cell_type": "code",
      "execution_count": null,
      "metadata": {
        "collapsed": true,
        "id": "hU404oWZg7XX"
      },
      "outputs": [],
      "source": [
        "def fact():\n",
        "    i = 0\n",
        "    def inner():\n",
        "        nonlocal i\n",
        "        result = math.factorial(i)\n",
        "        i += 1\n",
        "        return result\n",
        "    return inner           "
      ]
    },
    {
      "cell_type": "code",
      "execution_count": null,
      "metadata": {
        "collapsed": true,
        "id": "MYSjRhrVg7XX"
      },
      "outputs": [],
      "source": [
        "fact_iter = iter(fact(), math.factorial(5))"
      ]
    },
    {
      "cell_type": "code",
      "execution_count": null,
      "metadata": {
        "id": "GYLNGevYg7XY",
        "outputId": "4bb153f2-825d-4fb0-fbc1-b1f1ea7ff2ca"
      },
      "outputs": [
        {
          "name": "stdout",
          "output_type": "stream",
          "text": [
            "1\n",
            "1\n",
            "2\n",
            "6\n",
            "24\n"
          ]
        }
      ],
      "source": [
        "for num in fact_iter:\n",
        "    print(num)"
      ]
    },
    {
      "cell_type": "markdown",
      "metadata": {
        "id": "8pqXZwp0g7XY"
      },
      "source": [
        "You'll note that in both cases `fact_iter` was an **iterator**. In the first example we implemented the iterator ourselves, in the second example Python built-it for us.\n",
        "\n",
        "The second example was a little less code, but maybe a little more difficult to understand if we were just shown the code without having written it ourselves.\n",
        "\n",
        "There has to be a better way!!"
      ]
    },
    {
      "cell_type": "markdown",
      "metadata": {
        "id": "7uXKwqLZg7XY"
      },
      "source": [
        "And indeed, there is... generators."
      ]
    },
    {
      "cell_type": "markdown",
      "metadata": {
        "id": "OErMg1FUg7XZ"
      },
      "source": [
        "Let's look at the `yield` statement first.\n",
        "\n",
        "The `yield` statement is used almost like a `return` statement in a function - but there is a huge difference - when the `yield` statement is encountered, Python returns whatever value `yield` specifies, but it \"pauses\" execution of the function. We can then \"call\" the same function again and it will \"resume\" from where the last `yield` was encountered.\n",
        "\n",
        "I say \"call\" because we do not \"resume\" the function by calling it - instead we use the function... `next()` !!!\n",
        "\n",
        "Let's try it:"
      ]
    },
    {
      "cell_type": "code",
      "execution_count": 9,
      "metadata": {
        "collapsed": true,
        "id": "n4PwGptHg7XZ"
      },
      "outputs": [],
      "source": [
        "def my_func():\n",
        "    print('line 1')\n",
        "    yield 'Flying'\n",
        "    print('line 2')\n",
        "    yield 'Circus'    "
      ]
    },
    {
      "cell_type": "code",
      "execution_count": 11,
      "metadata": {
        "id": "mEtYTVqug7XZ",
        "outputId": "d75397d3-a16e-4a5b-fc78-1e4df1463f1f",
        "colab": {
          "base_uri": "https://localhost:8080/"
        }
      },
      "outputs": [
        {
          "output_type": "execute_result",
          "data": {
            "text/plain": [
              "<generator object my_func at 0x7fc56a7bad60>"
            ]
          },
          "metadata": {},
          "execution_count": 11
        }
      ],
      "source": [
        "my_func()"
      ]
    },
    {
      "cell_type": "markdown",
      "metadata": {
        "id": "9ekS2J60g7XZ"
      },
      "source": [
        "So, executing `my_func()`, returned a generator object - it did not actually \"run\" the body of `my_func` (none of our print statements actually ran).\n",
        "\n",
        "To do that, we need to use the `next()` function. \n",
        "\n",
        "`next()`?? Isn't that what we use for iteration??"
      ]
    },
    {
      "cell_type": "code",
      "execution_count": 41,
      "metadata": {
        "collapsed": true,
        "id": "XOuuV0Img7Xa"
      },
      "outputs": [],
      "source": [
        "gen_my_func = my_func()"
      ]
    },
    {
      "cell_type": "code",
      "execution_count": 42,
      "metadata": {
        "id": "huuoR60ig7Xa",
        "outputId": "1c3fa374-72c1-4a95-e4d0-caec40a48094",
        "colab": {
          "base_uri": "https://localhost:8080/"
        }
      },
      "outputs": [
        {
          "output_type": "stream",
          "name": "stdout",
          "text": [
            "line 1\n"
          ]
        }
      ],
      "source": [
        "result = next(gen_my_func)"
      ]
    },
    {
      "cell_type": "code",
      "source": [
        "result"
      ],
      "metadata": {
        "id": "Fj41Oqx5yOtz",
        "outputId": "851ee8f7-6781-45a1-e951-d03c95a4f11b",
        "colab": {
          "base_uri": "https://localhost:8080/",
          "height": 36
        }
      },
      "execution_count": 43,
      "outputs": [
        {
          "output_type": "execute_result",
          "data": {
            "text/plain": [
              "'Flying'"
            ],
            "application/vnd.google.colaboratory.intrinsic+json": {
              "type": "string"
            }
          },
          "metadata": {},
          "execution_count": 43
        }
      ]
    },
    {
      "cell_type": "code",
      "execution_count": 44,
      "metadata": {
        "id": "tAxTITUIg7Xa",
        "outputId": "586ef7cf-e692-4575-fc31-b7b257b0b43e",
        "colab": {
          "base_uri": "https://localhost:8080/",
          "height": 53
        }
      },
      "outputs": [
        {
          "output_type": "stream",
          "name": "stdout",
          "text": [
            "line 2\n"
          ]
        },
        {
          "output_type": "execute_result",
          "data": {
            "text/plain": [
              "'Circus'"
            ],
            "application/vnd.google.colaboratory.intrinsic+json": {
              "type": "string"
            }
          },
          "metadata": {},
          "execution_count": 44
        }
      ],
      "source": [
        "next(gen_my_func)"
      ]
    },
    {
      "cell_type": "markdown",
      "metadata": {
        "id": "VSXbzv8Dg7Xa"
      },
      "source": [
        "And let's call it one more time:"
      ]
    },
    {
      "cell_type": "code",
      "execution_count": 45,
      "metadata": {
        "id": "801f7etWg7Xa",
        "outputId": "ef10043e-fe70-4430-abe3-5aa36613ac72",
        "colab": {
          "base_uri": "https://localhost:8080/",
          "height": 165
        }
      },
      "outputs": [
        {
          "output_type": "error",
          "ename": "StopIteration",
          "evalue": "ignored",
          "traceback": [
            "\u001b[0;31m---------------------------------------------------------------------------\u001b[0m",
            "\u001b[0;31mStopIteration\u001b[0m                             Traceback (most recent call last)",
            "\u001b[0;32m<ipython-input-45-3e3de0f07cab>\u001b[0m in \u001b[0;36m<module>\u001b[0;34m\u001b[0m\n\u001b[0;32m----> 1\u001b[0;31m \u001b[0mresult\u001b[0m \u001b[0;34m=\u001b[0m \u001b[0mnext\u001b[0m\u001b[0;34m(\u001b[0m\u001b[0mgen_my_func\u001b[0m\u001b[0;34m)\u001b[0m\u001b[0;34m\u001b[0m\u001b[0;34m\u001b[0m\u001b[0m\n\u001b[0m",
            "\u001b[0;31mStopIteration\u001b[0m: "
          ]
        }
      ],
      "source": [
        "result = next(gen_my_func)"
      ]
    },
    {
      "cell_type": "code",
      "source": [
        "result"
      ],
      "metadata": {
        "id": "FDd8hJucyhHW",
        "outputId": "9b03521b-defc-4ee7-c0d4-b2aef6d266a2",
        "colab": {
          "base_uri": "https://localhost:8080/",
          "height": 36
        }
      },
      "execution_count": 46,
      "outputs": [
        {
          "output_type": "execute_result",
          "data": {
            "text/plain": [
              "'Flying'"
            ],
            "application/vnd.google.colaboratory.intrinsic+json": {
              "type": "string"
            }
          },
          "metadata": {},
          "execution_count": 46
        }
      ]
    },
    {
      "cell_type": "markdown",
      "metadata": {
        "id": "MZTvId2dg7Xa"
      },
      "source": [
        "A `StopIteration` exception.\n",
        "\n",
        "Hmmm... `next`, `StopIteration`? What does this look like? \n",
        "\n",
        "An **iterator**!"
      ]
    },
    {
      "cell_type": "markdown",
      "metadata": {
        "id": "7EK8YIHQg7Xb"
      },
      "source": [
        "And in fact that's exactly what Python generators are - they **are** iterators. "
      ]
    },
    {
      "cell_type": "markdown",
      "metadata": {
        "id": "SGwsuDyjg7Xb"
      },
      "source": [
        "If generators are iterators, they should implement the iterator **protocol**.\n",
        "\n",
        "Let's see:"
      ]
    },
    {
      "cell_type": "code",
      "execution_count": 16,
      "metadata": {
        "collapsed": true,
        "id": "KIOez4_Xg7Xb"
      },
      "outputs": [],
      "source": [
        "gen_my_func = my_func()"
      ]
    },
    {
      "cell_type": "code",
      "execution_count": 17,
      "metadata": {
        "id": "08zAVkvcg7Xb",
        "outputId": "944a6340-4543-445b-d827-d286f1765644",
        "colab": {
          "base_uri": "https://localhost:8080/"
        }
      },
      "outputs": [
        {
          "output_type": "execute_result",
          "data": {
            "text/plain": [
              "True"
            ]
          },
          "metadata": {},
          "execution_count": 17
        }
      ],
      "source": [
        "'__iter__' in dir(gen_my_func)"
      ]
    },
    {
      "cell_type": "code",
      "execution_count": 18,
      "metadata": {
        "id": "lAyXnoBug7Xb",
        "outputId": "3e798133-7f80-4001-b91b-bf95a713d1d6",
        "colab": {
          "base_uri": "https://localhost:8080/"
        }
      },
      "outputs": [
        {
          "output_type": "execute_result",
          "data": {
            "text/plain": [
              "True"
            ]
          },
          "metadata": {},
          "execution_count": 18
        }
      ],
      "source": [
        "'__next__' in dir(gen_my_func)"
      ]
    },
    {
      "cell_type": "markdown",
      "metadata": {
        "id": "MIpduURhg7Xf"
      },
      "source": [
        "And so we just have an iterator, which we can use with the `iter()` function and the `next()` function like any other iterator:"
      ]
    },
    {
      "cell_type": "code",
      "execution_count": 19,
      "metadata": {
        "id": "SxvJUpI7g7Xf",
        "outputId": "25a3696b-0daf-4aa1-9888-a2dab316fd3c",
        "colab": {
          "base_uri": "https://localhost:8080/"
        }
      },
      "outputs": [
        {
          "output_type": "execute_result",
          "data": {
            "text/plain": [
              "<generator object my_func at 0x7fc56a7c0820>"
            ]
          },
          "metadata": {},
          "execution_count": 19
        }
      ],
      "source": [
        "gen_my_func"
      ]
    },
    {
      "cell_type": "code",
      "execution_count": 20,
      "metadata": {
        "id": "eo5fq7aZg7Xf",
        "outputId": "044ef902-112f-4a00-e457-bd6bb234b684",
        "colab": {
          "base_uri": "https://localhost:8080/"
        }
      },
      "outputs": [
        {
          "output_type": "execute_result",
          "data": {
            "text/plain": [
              "<generator object my_func at 0x7fc56a7c0820>"
            ]
          },
          "metadata": {},
          "execution_count": 20
        }
      ],
      "source": [
        "iter(gen_my_func)"
      ]
    },
    {
      "cell_type": "markdown",
      "metadata": {
        "id": "bHf3xunag7Xg"
      },
      "source": [
        "As you can see, the `iter` function returned the same object - something we expect with iterators."
      ]
    },
    {
      "cell_type": "markdown",
      "metadata": {
        "id": "SLYxNGCgg7Xg"
      },
      "source": [
        "So if this is an iterator that Python builds, how does it know when to stop the iteration (raise the `StopIteration` exception)?\n",
        "\n",
        "In the example above, it seemed clear - when the function finished running - there were no more statements after that last `yield`.\n",
        "\n",
        "What actually happens if a function finishes running and we don't explicitly return something?\n",
        "\n",
        "Remember that Python fills in the gap, and returns `None`.\n",
        "\n",
        "In general, the iteration will terminate when we **return** something from the function.\n",
        "\n",
        "Let's take a look:"
      ]
    },
    {
      "cell_type": "code",
      "execution_count": 21,
      "metadata": {
        "collapsed": true,
        "id": "1FMr0QPWg7Xg"
      },
      "outputs": [],
      "source": [
        "def squares(sentinel):\n",
        "    i = 0\n",
        "    while True:\n",
        "        if i < sentinel:\n",
        "            result = i**2\n",
        "            i += 1\n",
        "            yield result\n",
        "        else:\n",
        "            return 'all done!'"
      ]
    },
    {
      "cell_type": "code",
      "execution_count": 22,
      "metadata": {
        "collapsed": true,
        "id": "O6bVEZiNg7Xg"
      },
      "outputs": [],
      "source": [
        "sq = squares(3)"
      ]
    },
    {
      "cell_type": "code",
      "source": [
        "type(sq)"
      ],
      "metadata": {
        "id": "wuECkZaFvlFO",
        "outputId": "d9bcfdcf-ccf2-4a95-a860-184398f34891",
        "colab": {
          "base_uri": "https://localhost:8080/"
        }
      },
      "execution_count": 23,
      "outputs": [
        {
          "output_type": "execute_result",
          "data": {
            "text/plain": [
              "generator"
            ]
          },
          "metadata": {},
          "execution_count": 23
        }
      ]
    },
    {
      "cell_type": "code",
      "execution_count": 24,
      "metadata": {
        "id": "SDiSNImbg7Xg",
        "outputId": "da76c229-8140-46a6-bcde-da2012bbf67e",
        "colab": {
          "base_uri": "https://localhost:8080/"
        }
      },
      "outputs": [
        {
          "output_type": "execute_result",
          "data": {
            "text/plain": [
              "0"
            ]
          },
          "metadata": {},
          "execution_count": 24
        }
      ],
      "source": [
        "next(sq)"
      ]
    },
    {
      "cell_type": "code",
      "execution_count": 25,
      "metadata": {
        "id": "XxnuJTBBg7Xg",
        "outputId": "95ce4cd7-7f26-45b0-b672-36597558a42d",
        "colab": {
          "base_uri": "https://localhost:8080/"
        }
      },
      "outputs": [
        {
          "output_type": "execute_result",
          "data": {
            "text/plain": [
              "1"
            ]
          },
          "metadata": {},
          "execution_count": 25
        }
      ],
      "source": [
        "next(sq)"
      ]
    },
    {
      "cell_type": "code",
      "execution_count": 27,
      "metadata": {
        "id": "iPFhxTseg7Xh",
        "outputId": "a63ee8d9-dc70-43ee-df90-d0dc368f3958",
        "colab": {
          "base_uri": "https://localhost:8080/",
          "height": 165
        }
      },
      "outputs": [
        {
          "output_type": "error",
          "ename": "StopIteration",
          "evalue": "ignored",
          "traceback": [
            "\u001b[0;31m---------------------------------------------------------------------------\u001b[0m",
            "\u001b[0;31mStopIteration\u001b[0m                             Traceback (most recent call last)",
            "\u001b[0;32m<ipython-input-27-498d28888231>\u001b[0m in \u001b[0;36m<module>\u001b[0;34m\u001b[0m\n\u001b[0;32m----> 1\u001b[0;31m \u001b[0mnext\u001b[0m\u001b[0;34m(\u001b[0m\u001b[0msq\u001b[0m\u001b[0;34m)\u001b[0m\u001b[0;34m\u001b[0m\u001b[0;34m\u001b[0m\u001b[0m\n\u001b[0m",
            "\u001b[0;31mStopIteration\u001b[0m: all done!"
          ]
        }
      ],
      "source": [
        "next(sq)"
      ]
    },
    {
      "cell_type": "code",
      "execution_count": 29,
      "metadata": {
        "id": "GzfosIhug7Xh",
        "outputId": "7b990133-6312-4e8d-cea9-c2fe9e58b132",
        "colab": {
          "base_uri": "https://localhost:8080/",
          "height": 165
        }
      },
      "outputs": [
        {
          "output_type": "error",
          "ename": "StopIteration",
          "evalue": "ignored",
          "traceback": [
            "\u001b[0;31m---------------------------------------------------------------------------\u001b[0m",
            "\u001b[0;31mStopIteration\u001b[0m                             Traceback (most recent call last)",
            "\u001b[0;32m<ipython-input-29-498d28888231>\u001b[0m in \u001b[0;36m<module>\u001b[0;34m\u001b[0m\n\u001b[0;32m----> 1\u001b[0;31m \u001b[0mnext\u001b[0m\u001b[0;34m(\u001b[0m\u001b[0msq\u001b[0m\u001b[0;34m)\u001b[0m\u001b[0;34m\u001b[0m\u001b[0;34m\u001b[0m\u001b[0m\n\u001b[0m",
            "\u001b[0;31mStopIteration\u001b[0m: "
          ]
        }
      ],
      "source": [
        "next(sq)"
      ]
    },
    {
      "cell_type": "markdown",
      "metadata": {
        "id": "7Vpe47KFg7Xh"
      },
      "source": [
        "And the return value of our function became the message of the `StopIteration` exception."
      ]
    },
    {
      "cell_type": "markdown",
      "metadata": {
        "id": "WdG7rjNKg7Xh"
      },
      "source": [
        "But, we can simplify this slightly:"
      ]
    },
    {
      "cell_type": "code",
      "execution_count": 30,
      "metadata": {
        "collapsed": true,
        "id": "S2iGx4LKg7Xh"
      },
      "outputs": [],
      "source": [
        "def squares(sentinel):\n",
        "    i = 0\n",
        "    while True:\n",
        "        if i < sentinel:\n",
        "            yield i**2\n",
        "            i += 1 # note how we can incremenet **after** the yield\n",
        "        else:\n",
        "            return 'all done!'"
      ]
    },
    {
      "cell_type": "code",
      "execution_count": 32,
      "metadata": {
        "id": "I-1sMjxjg7Xh",
        "outputId": "74bab5d6-a05f-424c-cc06-5ec3d625e378",
        "colab": {
          "base_uri": "https://localhost:8080/"
        }
      },
      "outputs": [
        {
          "output_type": "stream",
          "name": "stdout",
          "text": [
            "0\n",
            "1\n",
            "4\n",
            "9\n",
            "16\n"
          ]
        }
      ],
      "source": [
        "for num in squares(5):\n",
        "    print(num)"
      ]
    },
    {
      "cell_type": "markdown",
      "metadata": {
        "id": "eVx4qGO6g7Xi"
      },
      "source": [
        "So now let's see how we could re-write our initial `factorial` example:"
      ]
    },
    {
      "cell_type": "code",
      "execution_count": 33,
      "metadata": {
        "collapsed": true,
        "id": "WGydm-vjg7Xi"
      },
      "outputs": [],
      "source": [
        "def factorials(n):\n",
        "    for i in range(n):\n",
        "        yield math.factorial(i)    "
      ]
    },
    {
      "cell_type": "code",
      "execution_count": 34,
      "metadata": {
        "id": "ESfTb1w4g7Xi",
        "outputId": "6a31fc87-7053-41d0-ec9b-9b38252f3bab",
        "colab": {
          "base_uri": "https://localhost:8080/"
        }
      },
      "outputs": [
        {
          "output_type": "stream",
          "name": "stdout",
          "text": [
            "1\n",
            "1\n",
            "2\n",
            "6\n",
            "24\n"
          ]
        }
      ],
      "source": [
        "for num in factorials(5):\n",
        "    print(num)"
      ]
    },
    {
      "cell_type": "markdown",
      "metadata": {
        "id": "C-Q8hYeag7Xi"
      },
      "source": [
        "Now that's a much simpler and understandable way to create the iterator!"
      ]
    },
    {
      "cell_type": "markdown",
      "metadata": {
        "collapsed": true,
        "id": "ly9C3w-yg7Xi"
      },
      "source": [
        "Note that a generator **is** an iterator, but not vice-versa - iterators are not necessarily generators, just like sequences are iterables, but iterables are not necessarily sequences."
      ]
    },
    {
      "cell_type": "markdown",
      "metadata": {
        "id": "HaWrwmJBg7Xi"
      },
      "source": [
        "Another thing to note is that since generators are iterators, they also  become exhausted (consumed) just like an iterator does."
      ]
    },
    {
      "cell_type": "code",
      "execution_count": null,
      "metadata": {
        "collapsed": true,
        "id": "9_mpx_uNg7Xi"
      },
      "outputs": [],
      "source": [
        "facts = factorials(5)"
      ]
    },
    {
      "cell_type": "code",
      "execution_count": null,
      "metadata": {
        "id": "pP_N30Phg7Xi",
        "outputId": "92d05cff-ab77-4442-ece5-0de788d742f9"
      },
      "outputs": [
        {
          "data": {
            "text/plain": [
              "[1, 1, 2, 6, 24]"
            ]
          },
          "execution_count": 30,
          "metadata": {},
          "output_type": "execute_result"
        }
      ],
      "source": [
        "list(facts)"
      ]
    },
    {
      "cell_type": "code",
      "execution_count": null,
      "metadata": {
        "id": "0a9OmLqkg7Xi",
        "outputId": "c1524555-5c0e-44ed-d79a-c25b6061bee1"
      },
      "outputs": [
        {
          "data": {
            "text/plain": [
              "[]"
            ]
          },
          "execution_count": 31,
          "metadata": {},
          "output_type": "execute_result"
        }
      ],
      "source": [
        "list(facts)"
      ]
    },
    {
      "cell_type": "markdown",
      "metadata": {
        "id": "P2HVtzFvg7Xj"
      },
      "source": [
        "As you can see, our second iteration through the same generator ended up with nothing - that's because the generator has been exhausted:"
      ]
    },
    {
      "cell_type": "code",
      "execution_count": null,
      "metadata": {
        "scrolled": true,
        "id": "OJCSvZYAg7Xj",
        "outputId": "308fbf4e-cc0c-49f4-af3d-eed00fc90baf"
      },
      "outputs": [
        {
          "ename": "StopIteration",
          "evalue": "",
          "output_type": "error",
          "traceback": [
            "\u001b[1;31m---------------------------------------------------------------------------\u001b[0m",
            "\u001b[1;31mStopIteration\u001b[0m                             Traceback (most recent call last)",
            "\u001b[1;32m<ipython-input-32-daa7075c5300>\u001b[0m in \u001b[0;36m<module>\u001b[1;34m()\u001b[0m\n\u001b[1;32m----> 1\u001b[1;33m \u001b[0mnext\u001b[0m\u001b[1;33m(\u001b[0m\u001b[0mfacts\u001b[0m\u001b[1;33m)\u001b[0m\u001b[1;33m\u001b[0m\u001b[0m\n\u001b[0m",
            "\u001b[1;31mStopIteration\u001b[0m: "
          ]
        }
      ],
      "source": [
        "next(facts)"
      ]
    },
    {
      "cell_type": "markdown",
      "source": [
        "### Generators\n",
        "A function that uses the yield statement is called a generator function. Such functions are generator factories.\n",
        "- calling my_func() returns a generator object\n",
        "- the generator is executed by calling next(gen)\n",
        "- the body will execute until it encounters a yield statement\n",
        "- it yields (as return value of next()) and suspends itself\n",
        "\n"
      ],
      "metadata": {
        "id": "hcCEXIo75RST"
      }
    },
    {
      "cell_type": "code",
      "source": [
        "def my_func():\n",
        "    yield 1\n",
        "    return 1000\n",
        "    yield 2\n",
        "    yield 3"
      ],
      "metadata": {
        "id": "GA2jTQ8a5zLV"
      },
      "execution_count": 55,
      "outputs": []
    },
    {
      "cell_type": "code",
      "source": [
        "gen = my_func()"
      ],
      "metadata": {
        "id": "ZE4mzpK755E1"
      },
      "execution_count": 56,
      "outputs": []
    },
    {
      "cell_type": "code",
      "source": [
        "type(gen)"
      ],
      "metadata": {
        "id": "ST2taSC568DO",
        "outputId": "854249b9-03be-47b5-bf3f-b906453b72cb",
        "colab": {
          "base_uri": "https://localhost:8080/"
        }
      },
      "execution_count": 57,
      "outputs": [
        {
          "output_type": "execute_result",
          "data": {
            "text/plain": [
              "generator"
            ]
          },
          "metadata": {},
          "execution_count": 57
        }
      ]
    },
    {
      "cell_type": "code",
      "source": [
        "next(gen)"
      ],
      "metadata": {
        "id": "P0nkquYF685t",
        "outputId": "50599b81-9680-4f95-cf04-b28839bea3c9",
        "colab": {
          "base_uri": "https://localhost:8080/"
        }
      },
      "execution_count": 58,
      "outputs": [
        {
          "output_type": "execute_result",
          "data": {
            "text/plain": [
              "1"
            ]
          },
          "metadata": {},
          "execution_count": 58
        }
      ]
    },
    {
      "cell_type": "code",
      "source": [
        "next(gen)"
      ],
      "metadata": {
        "id": "SZDzLd7v6_N2",
        "outputId": "f7a078ff-e7cd-458f-f8ba-dd83ab83b3e8",
        "colab": {
          "base_uri": "https://localhost:8080/",
          "height": 165
        }
      },
      "execution_count": 59,
      "outputs": [
        {
          "output_type": "error",
          "ename": "StopIteration",
          "evalue": "ignored",
          "traceback": [
            "\u001b[0;31m---------------------------------------------------------------------------\u001b[0m",
            "\u001b[0;31mStopIteration\u001b[0m                             Traceback (most recent call last)",
            "\u001b[0;32m<ipython-input-59-6e72e47198db>\u001b[0m in \u001b[0;36m<module>\u001b[0;34m\u001b[0m\n\u001b[0;32m----> 1\u001b[0;31m \u001b[0mnext\u001b[0m\u001b[0;34m(\u001b[0m\u001b[0mgen\u001b[0m\u001b[0;34m)\u001b[0m\u001b[0;34m\u001b[0m\u001b[0;34m\u001b[0m\u001b[0m\n\u001b[0m",
            "\u001b[0;31mStopIteration\u001b[0m: 1000"
          ]
        }
      ]
    },
    {
      "cell_type": "code",
      "source": [
        "def my_func():\n",
        "    yield 1\n",
        "    yield 2\n",
        "    yield 3\n",
        "    return 1000"
      ],
      "metadata": {
        "id": "sLZvWwxF7AGm"
      },
      "execution_count": 60,
      "outputs": []
    },
    {
      "cell_type": "code",
      "source": [
        "gen = my_func()"
      ],
      "metadata": {
        "id": "UiqrWJqW7BY1"
      },
      "execution_count": 61,
      "outputs": []
    },
    {
      "cell_type": "code",
      "source": [
        "next(gen)"
      ],
      "metadata": {
        "id": "QaRlPe157CiN",
        "outputId": "93d100f4-36cb-4417-b19c-e1f6bf627f0a",
        "colab": {
          "base_uri": "https://localhost:8080/"
        }
      },
      "execution_count": 62,
      "outputs": [
        {
          "output_type": "execute_result",
          "data": {
            "text/plain": [
              "1"
            ]
          },
          "metadata": {},
          "execution_count": 62
        }
      ]
    },
    {
      "cell_type": "code",
      "source": [
        "next(gen)"
      ],
      "metadata": {
        "id": "60v8bo3HI1PT",
        "outputId": "db3b5c12-c218-4d1f-c08b-69fc8a3505a8",
        "colab": {
          "base_uri": "https://localhost:8080/"
        }
      },
      "execution_count": 63,
      "outputs": [
        {
          "output_type": "execute_result",
          "data": {
            "text/plain": [
              "2"
            ]
          },
          "metadata": {},
          "execution_count": 63
        }
      ]
    },
    {
      "cell_type": "code",
      "source": [
        "next(gen)"
      ],
      "metadata": {
        "id": "yW36qgxRI2HT",
        "outputId": "f8e6afea-7977-41b3-b709-e7cfb8950a30",
        "colab": {
          "base_uri": "https://localhost:8080/"
        }
      },
      "execution_count": 64,
      "outputs": [
        {
          "output_type": "execute_result",
          "data": {
            "text/plain": [
              "3"
            ]
          },
          "metadata": {},
          "execution_count": 64
        }
      ]
    },
    {
      "cell_type": "code",
      "source": [
        "next(gen)"
      ],
      "metadata": {
        "id": "wpjgMkrnI3kb",
        "outputId": "dacb0ac0-0952-406f-8a31-54dd5bd55eb5",
        "colab": {
          "base_uri": "https://localhost:8080/",
          "height": 165
        }
      },
      "execution_count": 65,
      "outputs": [
        {
          "output_type": "error",
          "ename": "StopIteration",
          "evalue": "ignored",
          "traceback": [
            "\u001b[0;31m---------------------------------------------------------------------------\u001b[0m",
            "\u001b[0;31mStopIteration\u001b[0m                             Traceback (most recent call last)",
            "\u001b[0;32m<ipython-input-65-6e72e47198db>\u001b[0m in \u001b[0;36m<module>\u001b[0;34m\u001b[0m\n\u001b[0;32m----> 1\u001b[0;31m \u001b[0mnext\u001b[0m\u001b[0;34m(\u001b[0m\u001b[0mgen\u001b[0m\u001b[0;34m)\u001b[0m\u001b[0;34m\u001b[0m\u001b[0;34m\u001b[0m\u001b[0m\n\u001b[0m",
            "\u001b[0;31mStopIteration\u001b[0m: 1000"
          ]
        }
      ]
    },
    {
      "cell_type": "code",
      "source": [
        "def my_func():\n",
        "    yield 1\n",
        "    yield 2\n",
        "    "
      ],
      "metadata": {
        "id": "GEQofAnrI410"
      },
      "execution_count": 70,
      "outputs": []
    },
    {
      "cell_type": "code",
      "source": [
        "gen = my_func()"
      ],
      "metadata": {
        "id": "JB8cmhBrI_Xc"
      },
      "execution_count": 71,
      "outputs": []
    },
    {
      "cell_type": "code",
      "source": [
        "next(gen)"
      ],
      "metadata": {
        "id": "gjYJvYBmJGOm",
        "outputId": "c68c85cc-f760-42ec-d94b-bafffc93e260",
        "colab": {
          "base_uri": "https://localhost:8080/"
        }
      },
      "execution_count": 73,
      "outputs": [
        {
          "output_type": "execute_result",
          "data": {
            "text/plain": [
              "1"
            ]
          },
          "metadata": {},
          "execution_count": 73
        }
      ]
    },
    {
      "cell_type": "code",
      "source": [
        "next(gen)"
      ],
      "metadata": {
        "id": "r2OkhIyxK9y0",
        "outputId": "1a9fdc14-42d3-42d0-8798-876f8e5746b7",
        "colab": {
          "base_uri": "https://localhost:8080/"
        }
      },
      "execution_count": 74,
      "outputs": [
        {
          "output_type": "execute_result",
          "data": {
            "text/plain": [
              "2"
            ]
          },
          "metadata": {},
          "execution_count": 74
        }
      ]
    },
    {
      "cell_type": "code",
      "source": [
        "next(gen)"
      ],
      "metadata": {
        "id": "2eAvEJELLAhs",
        "outputId": "908c5a6a-5549-48b1-ae25-c3159d63a08c",
        "colab": {
          "base_uri": "https://localhost:8080/",
          "height": 165
        }
      },
      "execution_count": 75,
      "outputs": [
        {
          "output_type": "error",
          "ename": "StopIteration",
          "evalue": "ignored",
          "traceback": [
            "\u001b[0;31m---------------------------------------------------------------------------\u001b[0m",
            "\u001b[0;31mStopIteration\u001b[0m                             Traceback (most recent call last)",
            "\u001b[0;32m<ipython-input-75-6e72e47198db>\u001b[0m in \u001b[0;36m<module>\u001b[0;34m\u001b[0m\n\u001b[0;32m----> 1\u001b[0;31m \u001b[0mnext\u001b[0m\u001b[0;34m(\u001b[0m\u001b[0mgen\u001b[0m\u001b[0;34m)\u001b[0m\u001b[0;34m\u001b[0m\u001b[0;34m\u001b[0m\u001b[0m\n\u001b[0m",
            "\u001b[0;31mStopIteration\u001b[0m: "
          ]
        }
      ]
    },
    {
      "cell_type": "code",
      "source": [
        "x = None\n",
        "x"
      ],
      "metadata": {
        "id": "cJZokdoJLBcr"
      },
      "execution_count": 76,
      "outputs": []
    },
    {
      "cell_type": "code",
      "source": [
        "iter(gen)"
      ],
      "metadata": {
        "id": "bPJ_-qN0LJOe",
        "outputId": "da4cf597-89e4-43a9-9e46-d39286b1cf97",
        "colab": {
          "base_uri": "https://localhost:8080/"
        }
      },
      "execution_count": 77,
      "outputs": [
        {
          "output_type": "execute_result",
          "data": {
            "text/plain": [
              "<generator object my_func at 0x7fc569c7f040>"
            ]
          },
          "metadata": {},
          "execution_count": 77
        }
      ]
    },
    {
      "cell_type": "code",
      "source": [
        "gen"
      ],
      "metadata": {
        "id": "xzKmtcMvLYt4",
        "outputId": "dea2002f-5599-4e2e-bef1-637b7870aa57",
        "colab": {
          "base_uri": "https://localhost:8080/"
        }
      },
      "execution_count": 78,
      "outputs": [
        {
          "output_type": "execute_result",
          "data": {
            "text/plain": [
              "<generator object my_func at 0x7fc569c7f040>"
            ]
          },
          "metadata": {},
          "execution_count": 78
        }
      ]
    },
    {
      "cell_type": "code",
      "source": [
        "def factorial(n):\n",
        "    for i in range(n):\n",
        "        yield math.factorial(i)\n",
        "\n",
        "fact_iter = factorial(5)"
      ],
      "metadata": {
        "id": "utwfVBPuMgLh"
      },
      "execution_count": 93,
      "outputs": []
    },
    {
      "cell_type": "code",
      "source": [
        "for i in range(5):\n",
        "    print(next(fact_iter))"
      ],
      "metadata": {
        "id": "fVtDUKXeLZx3",
        "outputId": "8cf0bcde-79a0-4dba-c2cd-4db106500d11",
        "colab": {
          "base_uri": "https://localhost:8080/"
        }
      },
      "execution_count": 94,
      "outputs": [
        {
          "output_type": "stream",
          "name": "stdout",
          "text": [
            "1\n",
            "1\n",
            "2\n",
            "6\n",
            "24\n"
          ]
        }
      ]
    },
    {
      "cell_type": "code",
      "source": [],
      "metadata": {
        "id": "UQr8UdySNAxk"
      },
      "execution_count": null,
      "outputs": []
    },
    {
      "cell_type": "markdown",
      "source": [
        "- Generators are functions which contain at least one yield statement\n",
        "- When a generator function is called, Python creates a generator object\n",
        "- Generators implement the iterator protocol\n",
        "- Generators are inherently lazy iterators (and can be infinite)\n",
        "- Generators are iterators and can be used in the same way in for loops, comperhensions etc\n",
        "- Generators become exhausted once the function returns a value\n"
      ],
      "metadata": {
        "id": "WsyLdAUHPq8u"
      }
    }
  ],
  "metadata": {
    "kernelspec": {
      "display_name": "Python 3",
      "language": "python",
      "name": "python3"
    },
    "language_info": {
      "codemirror_mode": {
        "name": "ipython",
        "version": 3
      },
      "file_extension": ".py",
      "mimetype": "text/x-python",
      "name": "python",
      "nbconvert_exporter": "python",
      "pygments_lexer": "ipython3",
      "version": "3.6.2"
    },
    "colab": {
      "provenance": [],
      "include_colab_link": true
    }
  },
  "nbformat": 4,
  "nbformat_minor": 0
}