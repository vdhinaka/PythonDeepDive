{
  "cells": [
    {
      "cell_type": "markdown",
      "metadata": {
        "id": "view-in-github",
        "colab_type": "text"
      },
      "source": [
        "<a href=\"https://colab.research.google.com/github/vdhinaka/PythonDeepDive/blob/master/Sequences/04%20-%20Copying%20Sequences.ipynb\" target=\"_parent\"><img src=\"https://colab.research.google.com/assets/colab-badge.svg\" alt=\"Open In Colab\"/></a>"
      ]
    },
    {
      "cell_type": "markdown",
      "metadata": {
        "id": "MD-F1Isbba0X"
      },
      "source": [
        "### Copying Sequences"
      ]
    },
    {
      "cell_type": "markdown",
      "metadata": {
        "id": "xqgzswmhba0b"
      },
      "source": [
        "#### Shallow Copies"
      ]
    },
    {
      "cell_type": "markdown",
      "metadata": {
        "id": "Cwu70Hnfba0c"
      },
      "source": [
        "##### Simple Loop"
      ]
    },
    {
      "cell_type": "markdown",
      "metadata": {
        "id": "MvPQYZ8Mba0d"
      },
      "source": [
        "Really not a very Pythonic approach, but it works..."
      ]
    },
    {
      "cell_type": "code",
      "execution_count": null,
      "metadata": {
        "id": "KqFrMFDYba0d",
        "outputId": "2dc4f906-8226-40ba-f574-5a30103084ef"
      },
      "outputs": [
        {
          "name": "stdout",
          "output_type": "stream",
          "text": [
            "[1, 2, 3]\n"
          ]
        }
      ],
      "source": [
        "l1 = [1, 2, 3]\n",
        "\n",
        "l1_copy = []\n",
        "for item in l1:\n",
        "    l1_copy.append(item)\n",
        "\n",
        "print(l1_copy)"
      ]
    },
    {
      "cell_type": "markdown",
      "metadata": {
        "id": "cpknqQNLba0f"
      },
      "source": [
        "And we can see that `l1` and `l1_copy` are not the same objects:"
      ]
    },
    {
      "cell_type": "code",
      "execution_count": null,
      "metadata": {
        "id": "r8tMfq0Yba0g",
        "outputId": "6984cdbf-c815-4a4e-8c95-f121fa50dab4"
      },
      "outputs": [
        {
          "data": {
            "text/plain": [
              "False"
            ]
          },
          "execution_count": 2,
          "metadata": {},
          "output_type": "execute_result"
        }
      ],
      "source": [
        "l1 is l1_copy"
      ]
    },
    {
      "cell_type": "markdown",
      "metadata": {
        "id": "7PGZmS8Rba0g"
      },
      "source": [
        "##### List Comprehension"
      ]
    },
    {
      "cell_type": "markdown",
      "metadata": {
        "id": "1rGJGpXpba0h"
      },
      "source": [
        "We can use a list comprehension to do exactly what we did in the previous example:"
      ]
    },
    {
      "cell_type": "code",
      "execution_count": null,
      "metadata": {
        "id": "FfXQZy2zba0h",
        "outputId": "c22c5c06-891c-4bee-db50-f4e41f7cc28e"
      },
      "outputs": [
        {
          "name": "stdout",
          "output_type": "stream",
          "text": [
            "[1, 2, 3]\n"
          ]
        }
      ],
      "source": [
        "l1 = [1, 2, 3]\n",
        "l1_copy = [item for item in l1]\n",
        "print(l1_copy)"
      ]
    },
    {
      "cell_type": "markdown",
      "metadata": {
        "id": "IVAGpyRmba0i"
      },
      "source": [
        "And once again, the objects are not the same:"
      ]
    },
    {
      "cell_type": "code",
      "execution_count": null,
      "metadata": {
        "id": "tqsXRK6iba0i",
        "outputId": "e3db39be-e408-485f-82de-522a9140b429"
      },
      "outputs": [
        {
          "data": {
            "text/plain": [
              "False"
            ]
          },
          "execution_count": 4,
          "metadata": {},
          "output_type": "execute_result"
        }
      ],
      "source": [
        "l1 is l1_copy"
      ]
    },
    {
      "cell_type": "markdown",
      "metadata": {
        "id": "WKpsMHo2ba0i"
      },
      "source": [
        "##### Using the copy() method"
      ]
    },
    {
      "cell_type": "markdown",
      "metadata": {
        "id": "zjP8cSJSba0i"
      },
      "source": [
        "Since lists are mutable sequence types, they have the `copy()` method."
      ]
    },
    {
      "cell_type": "code",
      "execution_count": null,
      "metadata": {
        "id": "vNtIuOo2ba0i",
        "outputId": "ea742c27-1658-432d-f055-43430061bb88"
      },
      "outputs": [
        {
          "name": "stdout",
          "output_type": "stream",
          "text": [
            "[1, 2, 3]\n"
          ]
        }
      ],
      "source": [
        "l1 = [1, 2, 3]\n",
        "l1_copy = l1.copy()\n",
        "print(l1_copy)"
      ]
    },
    {
      "cell_type": "markdown",
      "metadata": {
        "id": "q10i5q9uba0j"
      },
      "source": [
        "And once again, the objects are different:"
      ]
    },
    {
      "cell_type": "code",
      "execution_count": null,
      "metadata": {
        "id": "m85XQ6ZUba0j",
        "outputId": "236267cc-b86b-4ef7-9df1-ee45da18f86a"
      },
      "outputs": [
        {
          "data": {
            "text/plain": [
              "False"
            ]
          },
          "execution_count": 6,
          "metadata": {},
          "output_type": "execute_result"
        }
      ],
      "source": [
        "l1 is l1_copy"
      ]
    },
    {
      "cell_type": "markdown",
      "metadata": {
        "id": "FGL8w1BCba0j"
      },
      "source": [
        "##### Using the built-in list() Function"
      ]
    },
    {
      "cell_type": "markdown",
      "metadata": {
        "id": "7lduGGU1ba0j"
      },
      "source": [
        "The built-in `list()` function will make a list out of any iterable. This always ends up with a copy of the iterable:"
      ]
    },
    {
      "cell_type": "code",
      "execution_count": null,
      "metadata": {
        "collapsed": true,
        "id": "DH3-0lMnba0k"
      },
      "outputs": [],
      "source": [
        "l1 = [1, 2, 3]"
      ]
    },
    {
      "cell_type": "code",
      "execution_count": null,
      "metadata": {
        "id": "pdvQBc8qba0k",
        "outputId": "3b8ebe25-4346-41d9-a862-03981f93c2c7"
      },
      "outputs": [
        {
          "name": "stdout",
          "output_type": "stream",
          "text": [
            "[1, 2, 3]\n"
          ]
        }
      ],
      "source": [
        "l1_copy = list(l1)\n",
        "print(l1_copy)"
      ]
    },
    {
      "cell_type": "code",
      "execution_count": null,
      "metadata": {
        "id": "mPNXD9ruba0k",
        "outputId": "823161d8-690b-4b95-d757-39248129b51b"
      },
      "outputs": [
        {
          "data": {
            "text/plain": [
              "False"
            ]
          },
          "execution_count": 9,
          "metadata": {},
          "output_type": "execute_result"
        }
      ],
      "source": [
        "l1 is l1_copy"
      ]
    },
    {
      "cell_type": "markdown",
      "metadata": {
        "id": "zheYqKihba0k"
      },
      "source": [
        "Note that `list()` will take in any iterable, so you can technically copy any iterable into a list:"
      ]
    },
    {
      "cell_type": "code",
      "execution_count": null,
      "metadata": {
        "id": "nYHTJ_JOba0l",
        "outputId": "6267d442-760d-4a89-e6af-b7b49c4c6c60"
      },
      "outputs": [
        {
          "name": "stdout",
          "output_type": "stream",
          "text": [
            "[1, 2, 3]\n"
          ]
        }
      ],
      "source": [
        "t1 = (1, 2, 3)\n",
        "t1_copy = list(t1)\n",
        "print(t1_copy)"
      ]
    },
    {
      "cell_type": "markdown",
      "metadata": {
        "id": "hbXKAUg1ba0l"
      },
      "source": [
        "Of course, we get a list, not a tuple - so not exactly a copy."
      ]
    },
    {
      "cell_type": "markdown",
      "metadata": {
        "id": "6I36blo0ba0l"
      },
      "source": [
        "We've seen this before, but be careful with the `tuple()` built-in function. When we copy tuples, since they are immutable, we just get the original tuple back:"
      ]
    },
    {
      "cell_type": "code",
      "execution_count": null,
      "metadata": {
        "id": "OxH-rCJAba0l",
        "outputId": "45fc0b8f-92cf-426b-a019-aba4432b859a"
      },
      "outputs": [
        {
          "name": "stdout",
          "output_type": "stream",
          "text": [
            "(1, 2, 3)\n"
          ]
        }
      ],
      "source": [
        "t1 = (1, 2, 3)\n",
        "t1_copy = tuple(t1)\n",
        "print(t1_copy)"
      ]
    },
    {
      "cell_type": "markdown",
      "metadata": {
        "id": "ajjwuirqba0l"
      },
      "source": [
        "But here, the objects are the **same**:"
      ]
    },
    {
      "cell_type": "code",
      "execution_count": null,
      "metadata": {
        "id": "4QovBa6Gba0l",
        "outputId": "8a83517f-ba92-4576-84e8-dc501c2ef45a"
      },
      "outputs": [
        {
          "data": {
            "text/plain": [
              "True"
            ]
          },
          "execution_count": 12,
          "metadata": {},
          "output_type": "execute_result"
        }
      ],
      "source": [
        "t1 is t1_copy"
      ]
    },
    {
      "cell_type": "markdown",
      "metadata": {
        "id": "M6x43fdqba0m"
      },
      "source": [
        "##### Using Slicing"
      ]
    },
    {
      "cell_type": "markdown",
      "metadata": {
        "id": "5bJRRRm-ba0m"
      },
      "source": [
        "We can also use slicing to copy sequences.\n",
        "\n",
        "We'll cover slicing in detail in an upcoming lecture, but with slicing we can also access subsets of the sequence - here we use slicing to select the entire sequence:"
      ]
    },
    {
      "cell_type": "code",
      "execution_count": null,
      "metadata": {
        "id": "hvjhNv5Fba0m",
        "outputId": "da9d72d9-b55b-4689-85c4-03f99cc09bbf"
      },
      "outputs": [
        {
          "name": "stdout",
          "output_type": "stream",
          "text": [
            "[1, 2, 3]\n",
            "False\n"
          ]
        }
      ],
      "source": [
        "l1 = [1, 2, 3]\n",
        "l1_copy = l1[:]\n",
        "print(l1_copy)\n",
        "print(l1 is l1_copy)"
      ]
    },
    {
      "cell_type": "markdown",
      "metadata": {
        "id": "2tCO9Jjbba0m"
      },
      "source": [
        "But again, watch out with tuples!!"
      ]
    },
    {
      "cell_type": "code",
      "execution_count": null,
      "metadata": {
        "id": "nUOK5aJLba0m",
        "outputId": "4c278614-46f0-43f5-f910-82e0d820fe29"
      },
      "outputs": [
        {
          "name": "stdout",
          "output_type": "stream",
          "text": [
            "(1, 2, 3)\n",
            "True\n"
          ]
        }
      ],
      "source": [
        "t1 = (1, 2, 3)\n",
        "t1_copy = t1[:]\n",
        "print(t1_copy)\n",
        "print(t1 is t1_copy)"
      ]
    },
    {
      "cell_type": "markdown",
      "metadata": {
        "id": "wbA7xssuba0m"
      },
      "source": [
        "As you can see, since the slice was the entire tuple, a copy was not made, instead the reference to the original tuple was returned!"
      ]
    },
    {
      "cell_type": "markdown",
      "metadata": {
        "id": "ILGsIdWJba0n"
      },
      "source": [
        "Same deal with strings:"
      ]
    },
    {
      "cell_type": "code",
      "execution_count": null,
      "metadata": {
        "id": "T1pEFdW2ba0n",
        "outputId": "ee766d8c-5842-42c3-9717-090656af861a"
      },
      "outputs": [
        {
          "name": "stdout",
          "output_type": "stream",
          "text": [
            "python\n",
            "True\n"
          ]
        }
      ],
      "source": [
        "s1 = 'python'\n",
        "s2 = str(s1)\n",
        "print(s2)\n",
        "print(s1 is s2)"
      ]
    },
    {
      "cell_type": "code",
      "execution_count": null,
      "metadata": {
        "id": "a7DtEGs0ba0n",
        "outputId": "eb5ffce7-ed10-47a8-b572-b235268d470c"
      },
      "outputs": [
        {
          "name": "stdout",
          "output_type": "stream",
          "text": [
            "python\n",
            "True\n"
          ]
        }
      ],
      "source": [
        "s1 = 'python'\n",
        "s2 = s1[:]\n",
        "print(s2)\n",
        "print(s1 is s2)"
      ]
    },
    {
      "cell_type": "markdown",
      "metadata": {
        "id": "ZoL4Eqkwba0n"
      },
      "source": [
        "If you're wondering why Python has that behavior, just think about it.\n",
        "\n",
        "If you create a copy of a tuple, what are you going to do to that copy? Modify it?? You can't!\n",
        "\n",
        "Modify the contents of a contained mutable element? Sure you can, but whether you had a copy or not, you would still be modifying the **same** element - having the sequence copied is no safer than not.\n",
        "\n",
        "Not needed, so Python basically optimizes things for us."
      ]
    },
    {
      "cell_type": "markdown",
      "metadata": {
        "id": "-5kvXaliba0n"
      },
      "source": [
        "##### The `copy` module"
      ]
    },
    {
      "cell_type": "code",
      "execution_count": null,
      "metadata": {
        "collapsed": true,
        "id": "MrTtIBWFba0o"
      },
      "outputs": [],
      "source": [
        "import copy"
      ]
    },
    {
      "cell_type": "markdown",
      "metadata": {
        "id": "Py2R-TyQba0o"
      },
      "source": [
        "The `copy` module has a generic `copy` function as well:"
      ]
    },
    {
      "cell_type": "code",
      "execution_count": null,
      "metadata": {
        "id": "ANkd525hba0o",
        "outputId": "0910a183-8aa6-4da4-9a6d-3309c6456a4b"
      },
      "outputs": [
        {
          "name": "stdout",
          "output_type": "stream",
          "text": [
            "[1, 2, 3]\n",
            "False\n"
          ]
        }
      ],
      "source": [
        "l1 = [1, 2, 3]\n",
        "l1_copy = copy.copy(l1)\n",
        "print(l1_copy)\n",
        "print(l1 is l1_copy)"
      ]
    },
    {
      "cell_type": "markdown",
      "metadata": {
        "id": "UxzNYe4Oba0o"
      },
      "source": [
        "And for tuples:"
      ]
    },
    {
      "cell_type": "code",
      "execution_count": null,
      "metadata": {
        "id": "KUIFI1jZba0o",
        "outputId": "befdec71-4830-4730-c35e-93b0710df791"
      },
      "outputs": [
        {
          "name": "stdout",
          "output_type": "stream",
          "text": [
            "(1, 2, 3)\n",
            "True\n"
          ]
        }
      ],
      "source": [
        "t1 = (1, 2, 3)\n",
        "t1_copy = copy.copy(t1)\n",
        "print(t1_copy)\n",
        "print(t1 is t1_copy)"
      ]
    },
    {
      "cell_type": "markdown",
      "metadata": {
        "id": "an6Etmc_ba0o"
      },
      "source": [
        "As you can see the same thing happens with tuples as we saw before."
      ]
    },
    {
      "cell_type": "markdown",
      "metadata": {
        "id": "B27dORlqba0o"
      },
      "source": [
        "#### Shallow vs Deep Copies"
      ]
    },
    {
      "cell_type": "markdown",
      "metadata": {
        "id": "vSaAyUAuba0o"
      },
      "source": [
        "What we have been doing so far is creating **shallow** copies.\n",
        "\n",
        "This means that when a sequence is copied, each element of the new sequence is bound to precisely the same memory address as the corresponding element in the original sequence:"
      ]
    },
    {
      "cell_type": "code",
      "execution_count": null,
      "metadata": {
        "collapsed": true,
        "id": "N47MCurSba0p"
      },
      "outputs": [],
      "source": [
        "v1 = [0, 0]\n",
        "v2 = [0, 0]\n",
        "\n",
        "line1 = [v1, v2]"
      ]
    },
    {
      "cell_type": "code",
      "execution_count": null,
      "metadata": {
        "id": "Dhvb3vUNba0p",
        "outputId": "9295383a-1bb2-4b2d-86ac-28eaff0ea0ce"
      },
      "outputs": [
        {
          "name": "stdout",
          "output_type": "stream",
          "text": [
            "[[0, 0], [0, 0]]\n",
            "2018950765896 2018950764104\n"
          ]
        }
      ],
      "source": [
        "print(line1)\n",
        "print(id(line1[0]), id(line1[1]))"
      ]
    },
    {
      "cell_type": "markdown",
      "metadata": {
        "id": "57nfLp1iba0p"
      },
      "source": [
        "Now let's make a copy of the line using any of the techniques we just looked at:"
      ]
    },
    {
      "cell_type": "code",
      "execution_count": null,
      "metadata": {
        "collapsed": true,
        "id": "TD-AV264ba0p"
      },
      "outputs": [],
      "source": [
        "line2 = line1.copy()"
      ]
    },
    {
      "cell_type": "code",
      "execution_count": null,
      "metadata": {
        "id": "J3yLh22zba0p",
        "outputId": "5eb8e4b5-aa47-4268-fd2c-a77d266555c5"
      },
      "outputs": [
        {
          "data": {
            "text/plain": [
              "False"
            ]
          },
          "execution_count": 23,
          "metadata": {},
          "output_type": "execute_result"
        }
      ],
      "source": [
        "line1 is line2"
      ]
    },
    {
      "cell_type": "markdown",
      "metadata": {
        "id": "enJ7rNJeba0p"
      },
      "source": [
        "So not the same objects. Now let's look at the contained elements themselves:"
      ]
    },
    {
      "cell_type": "code",
      "execution_count": null,
      "metadata": {
        "id": "0axXW5Wsba0p",
        "outputId": "bebf733f-2e9c-427b-8b00-04f850c398c6"
      },
      "outputs": [
        {
          "name": "stdout",
          "output_type": "stream",
          "text": [
            "2018950765896 2018950764104\n",
            "2018950765896 2018950764104\n"
          ]
        }
      ],
      "source": [
        "print(id(line1[0]), id(line1[1]))\n",
        "print(id(line2[0]), id(line2[1]))"
      ]
    },
    {
      "cell_type": "markdown",
      "metadata": {
        "id": "gNhdFa_1ba0p"
      },
      "source": [
        "As you can see, the element references are the same!"
      ]
    },
    {
      "cell_type": "markdown",
      "metadata": {
        "id": "A1B0WSiEba0q"
      },
      "source": [
        "So, if we do this:"
      ]
    },
    {
      "cell_type": "code",
      "execution_count": null,
      "metadata": {
        "collapsed": true,
        "id": "Qt5nDRuqba0q"
      },
      "outputs": [],
      "source": [
        "line2[0][0] = 100"
      ]
    },
    {
      "cell_type": "code",
      "execution_count": null,
      "metadata": {
        "id": "KhzZwa1kba0q",
        "outputId": "20cfa56a-ab52-4069-f0bf-6851a4c35566"
      },
      "outputs": [
        {
          "data": {
            "text/plain": [
              "[[100, 0], [0, 0]]"
            ]
          },
          "execution_count": 26,
          "metadata": {},
          "output_type": "execute_result"
        }
      ],
      "source": [
        "line2"
      ]
    },
    {
      "cell_type": "code",
      "execution_count": null,
      "metadata": {
        "id": "IvGN1Xr5ba0q",
        "outputId": "a6c9a1f1-fbb4-4d26-edfc-befa592d16be"
      },
      "outputs": [
        {
          "data": {
            "text/plain": [
              "[[100, 0], [0, 0]]"
            ]
          },
          "execution_count": 27,
          "metadata": {},
          "output_type": "execute_result"
        }
      ],
      "source": [
        "line1"
      ]
    },
    {
      "cell_type": "markdown",
      "metadata": {
        "id": "1sTsgou5ba0q"
      },
      "source": [
        "`line1`'s contents has also changed."
      ]
    },
    {
      "cell_type": "markdown",
      "metadata": {
        "id": "WlddHOWvba0q"
      },
      "source": [
        "If we want the contained elements **also** to be copied, then we need to explicitly do so as well. This is called creating a **deep** copy.\n",
        "\n",
        "Let's see how we might do this:"
      ]
    },
    {
      "cell_type": "code",
      "execution_count": null,
      "metadata": {
        "collapsed": true,
        "id": "r9mLwW2nba0q"
      },
      "outputs": [],
      "source": [
        "v1 = [0, 0]\n",
        "v2 = [0, 0]\n",
        "\n",
        "line1 = [v1, v2]"
      ]
    },
    {
      "cell_type": "code",
      "execution_count": null,
      "metadata": {
        "collapsed": true,
        "id": "fjWevF1Mba0q"
      },
      "outputs": [],
      "source": [
        "line2 = [item[:] for item in line1]"
      ]
    },
    {
      "cell_type": "code",
      "execution_count": null,
      "metadata": {
        "id": "dZk6ku_cba0r",
        "outputId": "13fdc232-b990-481a-f48c-10473e3dc80b"
      },
      "outputs": [
        {
          "name": "stdout",
          "output_type": "stream",
          "text": [
            "2018950613000 2018948315720\n",
            "2018950712904 2018950766408\n"
          ]
        }
      ],
      "source": [
        "print(id(line1[0]), id(line1[1]))\n",
        "print(id(line2[0]), id(line2[1]))"
      ]
    },
    {
      "cell_type": "markdown",
      "metadata": {
        "id": "YqMpc0bBba0r"
      },
      "source": [
        "As you can see, now we have copies of the elements as well:"
      ]
    },
    {
      "cell_type": "code",
      "execution_count": null,
      "metadata": {
        "id": "hBZ0O4Ubba0r",
        "outputId": "1c5b9302-522e-407a-eed7-7e61f3f430f9"
      },
      "outputs": [
        {
          "name": "stdout",
          "output_type": "stream",
          "text": [
            "[[100, 0], [0, 0]]\n",
            "[[0, 0], [0, 0]]\n"
          ]
        }
      ],
      "source": [
        "line1[0][0] = 100\n",
        "print(line1)\n",
        "print(line2)"
      ]
    },
    {
      "cell_type": "markdown",
      "metadata": {
        "id": "GYupU0Dvba0r"
      },
      "source": [
        "and `line2` is unaffacted when we modify `line1`.\n",
        "\n",
        "So not only did we do a copy of `line1`, but we also made a shallow copy of `v1` and `v2` as well.\n",
        "\n",
        "But the problem is that we only went two levels deep - what if the variables `v1` and `v2` themselves contained mutable types instead of just integers? We would have to nest deeper and deeper - in general that's what a deep copy needs to do, and usually recursive approaches need to be used."
      ]
    },
    {
      "cell_type": "markdown",
      "metadata": {
        "id": "HJZo8tffba0r"
      },
      "source": [
        "Fortunately, Python has that functionality built-in for us so we don't have to do that!"
      ]
    },
    {
      "cell_type": "markdown",
      "metadata": {
        "id": "4m0NZl-wba0r"
      },
      "source": [
        "The `copy` module has a `deepcopy()` function we can use to create deep copies. It handles all kinds of weird situations where we might have circular references - doing it ourselves is certainly possible, but does take some work."
      ]
    },
    {
      "cell_type": "code",
      "execution_count": null,
      "metadata": {
        "collapsed": true,
        "id": "_aNyNoZFba0r"
      },
      "outputs": [],
      "source": [
        "v1 = [0, 0]\n",
        "v2 = [0, 0]\n",
        "line1 = [v1, v2]"
      ]
    },
    {
      "cell_type": "code",
      "execution_count": null,
      "metadata": {
        "id": "caIzItJ_ba0r",
        "outputId": "040c3095-291b-4242-d232-b9ae78ffb68f"
      },
      "outputs": [
        {
          "name": "stdout",
          "output_type": "stream",
          "text": [
            "2018950611912 2018948484808\n",
            "2018950458184 2018950611976\n"
          ]
        }
      ],
      "source": [
        "line2 = copy.deepcopy(line1)\n",
        "print(id(line1[0]), id(line1[1]))\n",
        "print(id(line2[0]), id(line2[1]))"
      ]
    },
    {
      "cell_type": "code",
      "execution_count": null,
      "metadata": {
        "collapsed": true,
        "id": "ulo8hT9Jba0s"
      },
      "outputs": [],
      "source": [
        "line2[0][0] = 100"
      ]
    },
    {
      "cell_type": "code",
      "execution_count": null,
      "metadata": {
        "id": "UKKXt5Tsba0s",
        "outputId": "1c087b89-8048-480c-c388-a80694519f80"
      },
      "outputs": [
        {
          "name": "stdout",
          "output_type": "stream",
          "text": [
            "[[0, 0], [0, 0]]\n",
            "[[100, 0], [0, 0]]\n"
          ]
        }
      ],
      "source": [
        "print(line1)\n",
        "print(line2)"
      ]
    },
    {
      "cell_type": "markdown",
      "metadata": {
        "id": "elm4Uzqtba0s"
      },
      "source": [
        "And of course, it works with any level of nested objects:"
      ]
    },
    {
      "cell_type": "code",
      "execution_count": null,
      "metadata": {
        "id": "b4PepwDaba0s",
        "outputId": "e0f71ef3-111d-4650-a950-a1093a175993"
      },
      "outputs": [
        {
          "name": "stdout",
          "output_type": "stream",
          "text": [
            "[[[11, 12], [21, 22]], [[31, 32], [41, 42]]]\n"
          ]
        }
      ],
      "source": [
        "v1 = [11, 12]\n",
        "v2 = [21, 22]\n",
        "line1 = [v1, v2]\n",
        "\n",
        "v3 = [31, 32]\n",
        "v4 = [41, 42]\n",
        "line2 = [v3, v4]\n",
        "\n",
        "plane1 = [line1, line2]\n",
        "print(plane1)"
      ]
    },
    {
      "cell_type": "code",
      "execution_count": null,
      "metadata": {
        "collapsed": true,
        "id": "TKPSncwlba0s"
      },
      "outputs": [],
      "source": [
        "plane2 = copy.deepcopy(plane1)"
      ]
    },
    {
      "cell_type": "code",
      "execution_count": null,
      "metadata": {
        "id": "BgLZVISrba0s",
        "outputId": "7d9f4684-20ec-43bb-c7e7-f855bd721814"
      },
      "outputs": [
        {
          "name": "stdout",
          "output_type": "stream",
          "text": [
            "[[[11, 12], [21, 22]], [[31, 32], [41, 42]]]\n"
          ]
        }
      ],
      "source": [
        "print(plane2)"
      ]
    },
    {
      "cell_type": "code",
      "execution_count": null,
      "metadata": {
        "id": "J2LEFE1Mba0s",
        "outputId": "0f8ad536-8e83-4151-fdf3-021091a290b5"
      },
      "outputs": [
        {
          "name": "stdout",
          "output_type": "stream",
          "text": [
            "[[11, 12], [21, 22]] 2018950458632\n",
            "[[11, 12], [21, 22]] 2018950611080\n"
          ]
        }
      ],
      "source": [
        "print(plane1[0], id(plane1[0]))\n",
        "print(plane2[0], id(plane2[0]))"
      ]
    },
    {
      "cell_type": "code",
      "execution_count": null,
      "metadata": {
        "id": "XggqgOhLba0t",
        "outputId": "466858e0-630d-4f3c-b133-0046c89b18a0"
      },
      "outputs": [
        {
          "name": "stdout",
          "output_type": "stream",
          "text": [
            "[11, 12] 2018948481288\n",
            "[11, 12] 2018950763080\n"
          ]
        }
      ],
      "source": [
        "print(plane1[0][0], id(plane1[0][0]))\n",
        "print(plane2[0][0], id(plane2[0][0]))"
      ]
    },
    {
      "cell_type": "markdown",
      "metadata": {
        "id": "cR_QTXNlba0t"
      },
      "source": [
        "#### Even works with custom classes"
      ]
    },
    {
      "cell_type": "code",
      "execution_count": null,
      "metadata": {
        "collapsed": true,
        "id": "nasAoUC4ba0t"
      },
      "outputs": [],
      "source": [
        "class Point:\n",
        "    def __init__(self, x, y):\n",
        "        self.x = x\n",
        "        self.y = y\n",
        "    \n",
        "    def __repr__(self):\n",
        "        return f'Point({self.x}, {self.y})'\n",
        "    \n",
        "class Line:\n",
        "    def __init__(self, p1, p2):\n",
        "        self.p1 = p1\n",
        "        self.p2 = p2\n",
        "        \n",
        "    def __repr__(self):\n",
        "        return f'Line({self.p1.__repr__()}, {self.p2.__repr__()})'"
      ]
    },
    {
      "cell_type": "code",
      "execution_count": null,
      "metadata": {
        "scrolled": true,
        "id": "Z8WPabsBba0t",
        "outputId": "49d8de2f-780b-470d-b9fc-cdd55609cde8"
      },
      "outputs": [
        {
          "name": "stdout",
          "output_type": "stream",
          "text": [
            "Point(0, 0) 2018950806944\n",
            "Point(0, 0) 2018950807280\n"
          ]
        }
      ],
      "source": [
        "p1 = Point(0, 0)\n",
        "p2 = Point(10, 10)\n",
        "line1 = Line(p1, p2)\n",
        "line2 = copy.deepcopy(line1)\n",
        "\n",
        "print(line1.p1, id(line1.p1))\n",
        "print(line2.p1, id(line2.p1))"
      ]
    },
    {
      "cell_type": "markdown",
      "metadata": {
        "id": "-xZWjNPuba0t"
      },
      "source": [
        "As you can see, the memory address of the points are different - that was because of the deep copy."
      ]
    },
    {
      "cell_type": "markdown",
      "metadata": {
        "id": "_tFJmThhba0t"
      },
      "source": [
        "However, if we had done a shallow copy:"
      ]
    },
    {
      "cell_type": "code",
      "execution_count": null,
      "metadata": {
        "id": "MQdXHoaLba0t",
        "outputId": "2d8d1bfc-2925-4106-f754-1810f0625c2c"
      },
      "outputs": [
        {
          "name": "stdout",
          "output_type": "stream",
          "text": [
            "Point(0, 0) 2018950806832\n",
            "Point(0, 0) 2018950806832\n"
          ]
        }
      ],
      "source": [
        "p1 = Point(0, 0)\n",
        "p2 = Point(10, 10)\n",
        "line1 = Line(p1, p2)\n",
        "line2 = copy.copy(line1)\n",
        "\n",
        "print(line1.p1, id(line1.p1))\n",
        "print(line2.p1, id(line2.p1))"
      ]
    },
    {
      "cell_type": "markdown",
      "metadata": {
        "id": "xncoqZNjba0t"
      },
      "source": [
        "As you can see, the memory address of the points are now the **same**."
      ]
    }
  ],
  "metadata": {
    "kernelspec": {
      "display_name": "Python 3",
      "language": "python",
      "name": "python3"
    },
    "language_info": {
      "codemirror_mode": {
        "name": "ipython",
        "version": 3
      },
      "file_extension": ".py",
      "mimetype": "text/x-python",
      "name": "python",
      "nbconvert_exporter": "python",
      "pygments_lexer": "ipython3",
      "version": "3.6.2"
    },
    "colab": {
      "provenance": [],
      "include_colab_link": true
    }
  },
  "nbformat": 4,
  "nbformat_minor": 0
}