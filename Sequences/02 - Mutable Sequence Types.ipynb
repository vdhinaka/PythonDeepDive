{
  "cells": [
    {
      "cell_type": "markdown",
      "metadata": {
        "id": "view-in-github",
        "colab_type": "text"
      },
      "source": [
        "<a href=\"https://colab.research.google.com/github/vdhinaka/PythonDeepDive/blob/master/Sequences/02%20-%20Mutable%20Sequence%20Types.ipynb\" target=\"_parent\"><img src=\"https://colab.research.google.com/assets/colab-badge.svg\" alt=\"Open In Colab\"/></a>"
      ]
    },
    {
      "cell_type": "markdown",
      "metadata": {
        "id": "RfeRJvOB6C4Y"
      },
      "source": [
        "### Mutable Sequences"
      ]
    },
    {
      "cell_type": "markdown",
      "metadata": {
        "id": "uX_9Uk7D6C4a"
      },
      "source": [
        "When dealing with mutable sequences, we have a few more things we can do - essentially adding, removing and replacing elements in the sequence.\n",
        "\n",
        "This **mutates** the sequence. The sequence's memory address has not changed, but the internal **state** of the sequence has."
      ]
    },
    {
      "cell_type": "markdown",
      "metadata": {
        "id": "e4p7TUcg6C4b"
      },
      "source": [
        "#### Replacing Elements"
      ]
    },
    {
      "cell_type": "markdown",
      "metadata": {
        "id": "ptRlvFFD6C4b"
      },
      "source": [
        "We can replace a single element as follows:"
      ]
    },
    {
      "cell_type": "code",
      "execution_count": 7,
      "metadata": {
        "id": "y4QY-xzh6C4c",
        "outputId": "94090f5e-7bd5-44c1-dc43-6f40ae6c8fc6",
        "colab": {
          "base_uri": "https://localhost:8080/"
        }
      },
      "outputs": [
        {
          "output_type": "stream",
          "name": "stdout",
          "text": [
            "140545381055552\n",
            "140545381055552 ['a', 2, 3, 4, 5]\n"
          ]
        }
      ],
      "source": [
        "l = [1, 2, 3, 4, 5]\n",
        "print(id(l))\n",
        "l[0] = 'a'\n",
        "print(id(l), l)"
      ]
    },
    {
      "cell_type": "markdown",
      "metadata": {
        "id": "3XFC_ME46C4d"
      },
      "source": [
        "We can remove all elements from the sequence:"
      ]
    },
    {
      "cell_type": "code",
      "execution_count": 8,
      "metadata": {
        "id": "Cv4CGrkO6C4e",
        "outputId": "50fc241b-acba-4662-d63d-bc592214e77f",
        "colab": {
          "base_uri": "https://localhost:8080/"
        }
      },
      "outputs": [
        {
          "output_type": "stream",
          "name": "stdout",
          "text": [
            "[]\n",
            "140545381055552\n"
          ]
        }
      ],
      "source": [
        "#l = [1, 2, 3, 4, 5]\n",
        "l.clear()\n",
        "print(l)\n",
        "print(id(l))"
      ]
    },
    {
      "cell_type": "markdown",
      "metadata": {
        "id": "upWnnrJZ6C4f"
      },
      "source": [
        "Note that this is **NOT** the same as doing this:"
      ]
    },
    {
      "cell_type": "code",
      "execution_count": null,
      "metadata": {
        "id": "7PyHhAVC6C4g",
        "outputId": "8740ad04-1290-49a8-ebfd-725ad3fef1f9"
      },
      "outputs": [
        {
          "name": "stdout",
          "output_type": "stream",
          "text": [
            "[]\n"
          ]
        }
      ],
      "source": [
        "l = [1, 2, 3, 4, 5]\n",
        "l = []\n",
        "print(l)"
      ]
    },
    {
      "cell_type": "markdown",
      "metadata": {
        "id": "2ZMFsIvo6C4h"
      },
      "source": [
        "The net effect may look the same, `l` is an empty list, but observe the memory addresses:"
      ]
    },
    {
      "cell_type": "code",
      "execution_count": 9,
      "metadata": {
        "id": "4s2n4PbH6C4i",
        "outputId": "b5093b60-df9d-4750-b469-c8d2ae55a08d",
        "colab": {
          "base_uri": "https://localhost:8080/"
        }
      },
      "outputs": [
        {
          "output_type": "stream",
          "name": "stdout",
          "text": [
            "140545186727936\n",
            "[] 140545186727936\n"
          ]
        }
      ],
      "source": [
        "l = [1, 2, 3, 4, 5]\n",
        "print(id(l))\n",
        "l.clear()\n",
        "print(l, id(l))"
      ]
    },
    {
      "cell_type": "markdown",
      "metadata": {
        "id": "MZL6DDd06C4j"
      },
      "source": [
        "vs"
      ]
    },
    {
      "cell_type": "code",
      "execution_count": null,
      "metadata": {
        "id": "Mp5cTIrq6C4j",
        "outputId": "cc69ec89-b93a-4833-a988-48abff0864ab"
      },
      "outputs": [
        {
          "name": "stdout",
          "output_type": "stream",
          "text": [
            "1979932699144\n",
            "[] 1979932698824\n"
          ]
        }
      ],
      "source": [
        "l = [1, 2, 3, 4, 5]\n",
        "print(id(l))\n",
        "l = []\n",
        "print(l, id(l))"
      ]
    },
    {
      "cell_type": "code",
      "source": [
        "s = 'python'\n",
        "result = s.find('c++')\n",
        "print(result)\n",
        "if s.find('c++'):\n",
        "    print('found c++')"
      ],
      "metadata": {
        "id": "SUcQD3Py9U8W",
        "outputId": "6baee816-851f-4245-c9b5-e65a4d16d4a7",
        "colab": {
          "base_uri": "https://localhost:8080/"
        }
      },
      "execution_count": 13,
      "outputs": [
        {
          "output_type": "stream",
          "name": "stdout",
          "text": [
            "-1\n",
            "found c++\n"
          ]
        }
      ]
    },
    {
      "cell_type": "markdown",
      "metadata": {
        "id": "Nxp6XCFz6C4k"
      },
      "source": [
        "In the second case you can see that the object referenced by `l` has changed, but not in the first case."
      ]
    },
    {
      "cell_type": "markdown",
      "metadata": {
        "id": "Yp3z73fG6C4k"
      },
      "source": [
        "Why might this be important?"
      ]
    },
    {
      "cell_type": "markdown",
      "metadata": {
        "id": "is8ginEw6C4k"
      },
      "source": [
        "Suppose you have the following setup:"
      ]
    },
    {
      "cell_type": "code",
      "execution_count": null,
      "metadata": {
        "id": "tx0LLpAD6C4k",
        "outputId": "6edc1587-2eec-49ab-b1d6-8b3cd26c7f33"
      },
      "outputs": [
        {
          "name": "stdout",
          "output_type": "stream",
          "text": [
            "[] ['Spades', 'Hearts', 'Diamonds', 'Clubs']\n"
          ]
        }
      ],
      "source": [
        "suits = ['Spades', 'Hearts', 'Diamonds', 'Clubs']\n",
        "alias = suits\n",
        "suits = []\n",
        "print(suits, alias)"
      ]
    },
    {
      "cell_type": "markdown",
      "metadata": {
        "id": "tyc1yWtR6C4l"
      },
      "source": [
        "But using clear:"
      ]
    },
    {
      "cell_type": "code",
      "execution_count": null,
      "metadata": {
        "id": "-oJ1cJEc6C4l",
        "outputId": "43e298a8-564c-4b91-efa7-a5b019738b4b"
      },
      "outputs": [
        {
          "name": "stdout",
          "output_type": "stream",
          "text": [
            "[] []\n"
          ]
        }
      ],
      "source": [
        "suits = ['Spades', 'Hearts', 'Diamonds', 'Clubs']\n",
        "alias = suits\n",
        "suits.clear()\n",
        "print(suits, alias)"
      ]
    },
    {
      "cell_type": "markdown",
      "metadata": {
        "id": "2sPgnZVe6C4l"
      },
      "source": [
        "Big difference!!"
      ]
    },
    {
      "cell_type": "markdown",
      "metadata": {
        "id": "67ioPuUD6C4l"
      },
      "source": [
        "We can also replace elements using slicing and extended slicing. Here's an example, but we'll come back to this in a lot of detail:"
      ]
    },
    {
      "cell_type": "code",
      "execution_count": null,
      "metadata": {
        "id": "AXo48iyi6C4m",
        "outputId": "848c0ac5-f310-438f-d137-8b401b6931ec"
      },
      "outputs": [
        {
          "name": "stdout",
          "output_type": "stream",
          "text": [
            "1979932698504\n",
            "1979932698504 ['a', 'b', 'c', 'd', 'e', 3, 4, 5]\n"
          ]
        }
      ],
      "source": [
        "l = [1, 2, 3, 4, 5]\n",
        "print(id(l))\n",
        "l[0:2] = ['a', 'b', 'c', 'd', 'e']\n",
        "print(id(l), l)"
      ]
    },
    {
      "cell_type": "markdown",
      "metadata": {
        "id": "yIAkbgkw6C4m"
      },
      "source": [
        "#### Appending and Extending"
      ]
    },
    {
      "cell_type": "markdown",
      "metadata": {
        "id": "ZjAadEMw6C4m"
      },
      "source": [
        "We can also append elements to the sequence (note that this is **not** the same as concatenation):"
      ]
    },
    {
      "cell_type": "code",
      "execution_count": null,
      "metadata": {
        "id": "f4zO7vZ86C4m",
        "outputId": "43cc16cb-4b0e-4b15-fcb6-ce30dc41132f"
      },
      "outputs": [
        {
          "name": "stdout",
          "output_type": "stream",
          "text": [
            "1979932697992\n",
            "[1, 2, 3, 4] 1979932697992\n"
          ]
        }
      ],
      "source": [
        "l = [1, 2, 3]\n",
        "print(id(l))\n",
        "l.append(4)\n",
        "print(l, id(l))"
      ]
    },
    {
      "cell_type": "markdown",
      "metadata": {
        "id": "q_xKwMre6C4m"
      },
      "source": [
        "If we had \"appended\" the value `4` using concatenation:"
      ]
    },
    {
      "cell_type": "code",
      "execution_count": null,
      "metadata": {
        "id": "IidX7u1K6C4n",
        "outputId": "904db089-39aa-4bda-ae6a-b704a4776b19"
      },
      "outputs": [
        {
          "name": "stdout",
          "output_type": "stream",
          "text": [
            "1979932193288\n",
            "1979932698312 [1, 2, 3, 4]\n"
          ]
        }
      ],
      "source": [
        "l = [1, 2, 3]\n",
        "print(id(l))\n",
        "l = l + [4]\n",
        "print(id(l), l)"
      ]
    },
    {
      "cell_type": "markdown",
      "metadata": {
        "id": "-e5tv9NR6C4n"
      },
      "source": [
        "If we want to add more than one element at a time, we can extend a sequence with the contents of any iterable (not just sequences):"
      ]
    },
    {
      "cell_type": "code",
      "execution_count": null,
      "metadata": {
        "id": "11dlQ2cH6C4n",
        "outputId": "a5d660fb-dc84-4d3f-8335-3e31adce37da"
      },
      "outputs": [
        {
          "name": "stdout",
          "output_type": "stream",
          "text": [
            "1979932844488\n",
            "1979932844488 [1, 2, 3, 4, 5, 'c', 'b', 'a']\n"
          ]
        }
      ],
      "source": [
        "l = [1, 2, 3, 4, 5]\n",
        "print(id(l))\n",
        "l.extend({'a', 'b', 'c'})\n",
        "print(id(l), l)"
      ]
    },
    {
      "cell_type": "markdown",
      "metadata": {
        "id": "SRHbEN1Q6C4n"
      },
      "source": [
        "Of course, since we extended using a set, there was not gurantee of positional ordering."
      ]
    },
    {
      "cell_type": "markdown",
      "metadata": {
        "id": "NrLRXgmH6C4n"
      },
      "source": [
        "If we extend with another sequence, then positional ordering is retained:"
      ]
    },
    {
      "cell_type": "code",
      "execution_count": null,
      "metadata": {
        "id": "hIcw2u056C4n",
        "outputId": "db3e274a-dd32-48d5-a8ce-058523670e23"
      },
      "outputs": [
        {
          "name": "stdout",
          "output_type": "stream",
          "text": [
            "[1, 2, 3, 'a', 'b', 'c']\n"
          ]
        }
      ],
      "source": [
        "l = [1, 2, 3]\n",
        "l.extend(('a', 'b', 'c'))\n",
        "print(l)"
      ]
    },
    {
      "cell_type": "markdown",
      "metadata": {
        "id": "7X7e2Mn46C4n"
      },
      "source": [
        "#### Removing Elements"
      ]
    },
    {
      "cell_type": "markdown",
      "metadata": {
        "id": "6LY6gpiZ6C4o"
      },
      "source": [
        "We can remove (and retrieve at the same time) an element from a mutable sequence:"
      ]
    },
    {
      "cell_type": "code",
      "execution_count": null,
      "metadata": {
        "id": "RJrle8hH6C4o",
        "outputId": "2b4a98f1-ef01-4989-a892-76b40f3fc449"
      },
      "outputs": [
        {
          "name": "stdout",
          "output_type": "stream",
          "text": [
            "1979932193288\n",
            "1979932193288 2 [1, 3, 4]\n"
          ]
        }
      ],
      "source": [
        "l = [1, 2, 3, 4]\n",
        "print(id(l))\n",
        "popped = l.pop(1)\n",
        "print(id(l), popped, l)"
      ]
    },
    {
      "cell_type": "markdown",
      "metadata": {
        "id": "EiUoxuyJ6C4o"
      },
      "source": [
        "If we do not specify an index for `pop`, then the **last** element is popped:"
      ]
    },
    {
      "cell_type": "code",
      "execution_count": null,
      "metadata": {
        "id": "3qRmofiN6C4p",
        "outputId": "58e63b9f-4082-48e7-dfa5-71a05ec1b3ad"
      },
      "outputs": [
        {
          "name": "stdout",
          "output_type": "stream",
          "text": [
            "4\n",
            "1979932696968 4 [1, 2, 3]\n"
          ]
        }
      ],
      "source": [
        "l = [1, 2, 3, 4]\n",
        "popped = l.pop()\n",
        "print(popped)\n",
        "print(id(l), popped, l)"
      ]
    },
    {
      "cell_type": "markdown",
      "metadata": {
        "id": "pCQ-IYb06C4p"
      },
      "source": [
        "#### Inserting Elements"
      ]
    },
    {
      "cell_type": "markdown",
      "metadata": {
        "id": "lj4AewfM6C4p"
      },
      "source": [
        "We can insert an element at a specific index. What this means is that the element we are inserting will be **at** that index position, and element that was at that position and all the remaining elements to the right are pushed out:"
      ]
    },
    {
      "cell_type": "code",
      "execution_count": null,
      "metadata": {
        "id": "rNYbyv1x6C4p",
        "outputId": "add008cc-6864-476d-a87a-6a710c12ed9a"
      },
      "outputs": [
        {
          "name": "stdout",
          "output_type": "stream",
          "text": [
            "1979932143176\n",
            "1979932143176 [1, 'a', 2, 3, 4]\n"
          ]
        }
      ],
      "source": [
        "l = [1, 2, 3, 4]\n",
        "print(id(l))\n",
        "l.insert(1, 'a')\n",
        "print(id(l), l)"
      ]
    },
    {
      "cell_type": "markdown",
      "metadata": {
        "id": "6GJHKwhN6C4p"
      },
      "source": [
        "#### Reversing a Sequence"
      ]
    },
    {
      "cell_type": "markdown",
      "metadata": {
        "id": "HgBt_rwd6C4p"
      },
      "source": [
        "We can also do in-place reversal:"
      ]
    },
    {
      "cell_type": "code",
      "execution_count": null,
      "metadata": {
        "id": "1IPy6bcr6C4p",
        "outputId": "40bea237-9899-40ef-b3eb-16ab46ea5ebf"
      },
      "outputs": [
        {
          "name": "stdout",
          "output_type": "stream",
          "text": [
            "1979930587080\n",
            "1979930587080 [4, 3, 2, 1]\n"
          ]
        }
      ],
      "source": [
        "l = [1, 2, 3, 4]\n",
        "print(id(l))\n",
        "l.reverse()\n",
        "print(id(l), l)"
      ]
    },
    {
      "cell_type": "markdown",
      "metadata": {
        "id": "kiy6f4h86C4q"
      },
      "source": [
        "We can also reverse a sequence using extended slicing (we'll come back to this later):"
      ]
    },
    {
      "cell_type": "code",
      "execution_count": 16,
      "metadata": {
        "id": "eRB44c-y6C4q",
        "outputId": "8862576c-5b64-40f7-ddf4-3fab31edad97",
        "colab": {
          "base_uri": "https://localhost:8080/"
        }
      },
      "outputs": [
        {
          "output_type": "stream",
          "name": "stdout",
          "text": [
            "140545096800128\n",
            "140545096800128\n",
            "[1, 2, 3, 4]\n"
          ]
        }
      ],
      "source": [
        "l = [1, 2, 3, 4]\n",
        "print(id(l))\n",
        "l[::-1]\n",
        "print(id(l))\n",
        "print(l)"
      ]
    },
    {
      "cell_type": "markdown",
      "metadata": {
        "id": "m-MoQDz06C4q"
      },
      "source": [
        "But this is **NOT** mutating the sequence - the slice is returning a **new** sequence - that happens to be reversed."
      ]
    },
    {
      "cell_type": "code",
      "execution_count": 15,
      "metadata": {
        "id": "AS8S4pt66C4q",
        "outputId": "7b2788e9-494f-4b3a-da25-4ba1001c6a86",
        "colab": {
          "base_uri": "https://localhost:8080/"
        }
      },
      "outputs": [
        {
          "output_type": "stream",
          "name": "stdout",
          "text": [
            "140545096798784\n",
            "140545096800448 [4, 3, 2, 1]\n"
          ]
        }
      ],
      "source": [
        "l = [1, 2, 3, 4]\n",
        "print(id(l))\n",
        "l = l[::-1]\n",
        "print(id(l), l)"
      ]
    },
    {
      "cell_type": "markdown",
      "metadata": {
        "id": "q5bRyMeB6C4q"
      },
      "source": [
        "#### Copying Sequences"
      ]
    },
    {
      "cell_type": "markdown",
      "metadata": {
        "id": "Pn-vBVXL6C4q"
      },
      "source": [
        "We can create a copy of a sequence:"
      ]
    },
    {
      "cell_type": "code",
      "execution_count": null,
      "metadata": {
        "id": "enbQfoJ-6C4q",
        "outputId": "a03b8171-8502-4f6e-95d5-52720037cc33"
      },
      "outputs": [
        {
          "name": "stdout",
          "output_type": "stream",
          "text": [
            "1979932700040\n",
            "1979932696968 [1, 2, 3, 4]\n"
          ]
        }
      ],
      "source": [
        "l = [1, 2, 3, 4]\n",
        "print(id(l))\n",
        "l2 = l.copy()\n",
        "print(id(l2), l2)"
      ]
    },
    {
      "cell_type": "markdown",
      "metadata": {
        "id": "JsMVn8tm6C4r"
      },
      "source": [
        "Note that the `id` of `l` and `l2` is not the same."
      ]
    },
    {
      "cell_type": "markdown",
      "metadata": {
        "id": "vIMO9I4F6C4r"
      },
      "source": [
        "In this case, using slicing does work the same as using the `copy` method:"
      ]
    },
    {
      "cell_type": "code",
      "execution_count": null,
      "metadata": {
        "id": "nmDwTbbG6C4r",
        "outputId": "3039aee1-109c-4f14-a241-1b24ad7154f0"
      },
      "outputs": [
        {
          "name": "stdout",
          "output_type": "stream",
          "text": [
            "1979932847304\n",
            "1979932700040 [1, 2, 3, 4]\n"
          ]
        }
      ],
      "source": [
        "l = [1, 2, 3, 4]\n",
        "print(id(l))\n",
        "l2 = l[:]\n",
        "print(id(l2), l2)"
      ]
    },
    {
      "cell_type": "markdown",
      "metadata": {
        "id": "fRmHtphp6C4r"
      },
      "source": [
        "As you can see in both cases we end up with new objects.\n",
        "\n",
        "So, use copy() or [:] - up to you, they end up doing the same thing."
      ]
    },
    {
      "cell_type": "markdown",
      "metadata": {
        "id": "84iVqTGD6C4r"
      },
      "source": [
        "We'll come back to copying in some detail in an upcoming video as this is an important topic with some subtleties."
      ]
    }
  ],
  "metadata": {
    "kernelspec": {
      "display_name": "Python 3",
      "language": "python",
      "name": "python3"
    },
    "language_info": {
      "codemirror_mode": {
        "name": "ipython",
        "version": 3
      },
      "file_extension": ".py",
      "mimetype": "text/x-python",
      "name": "python",
      "nbconvert_exporter": "python",
      "pygments_lexer": "ipython3",
      "version": "3.6.2"
    },
    "colab": {
      "provenance": [],
      "include_colab_link": true
    }
  },
  "nbformat": 4,
  "nbformat_minor": 0
}