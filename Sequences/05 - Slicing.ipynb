{
  "cells": [
    {
      "cell_type": "markdown",
      "metadata": {
        "id": "view-in-github",
        "colab_type": "text"
      },
      "source": [
        "<a href=\"https://colab.research.google.com/github/vdhinaka/PythonDeepDive/blob/master/Sequences/05%20-%20Slicing.ipynb\" target=\"_parent\"><img src=\"https://colab.research.google.com/assets/colab-badge.svg\" alt=\"Open In Colab\"/></a>"
      ]
    },
    {
      "cell_type": "markdown",
      "metadata": {
        "id": "8ZbRlYxsZYh8"
      },
      "source": [
        "### Slicing\n",
        "\n",
        "Only works with sequence types. \n",
        "\n",
        "- Mutable  Sequence  Types - Extract data, Assign data <br>\n",
        "- Immutable Sequence Types - Extract data\n",
        "\n"
      ]
    },
    {
      "cell_type": "code",
      "source": [
        "a = [1, 2, 3, 4]\n",
        "print(a[0:2])"
      ],
      "metadata": {
        "colab": {
          "base_uri": "https://localhost:8080/"
        },
        "id": "6Tsw7JTBa2Kz",
        "outputId": "1936ebba-28da-4b64-9899-709beedfae78"
      },
      "execution_count": 1,
      "outputs": [
        {
          "output_type": "stream",
          "name": "stdout",
          "text": [
            "[1, 2]\n"
          ]
        }
      ]
    },
    {
      "cell_type": "code",
      "source": [
        "a[0:2] = ['a', 'b', 'c']\n",
        "a"
      ],
      "metadata": {
        "colab": {
          "base_uri": "https://localhost:8080/"
        },
        "id": "bbSgiQOsd2yM",
        "outputId": "5d7fa375-60c7-4d10-8044-b932cf08efff"
      },
      "execution_count": 3,
      "outputs": [
        {
          "output_type": "execute_result",
          "data": {
            "text/plain": [
              "['a', 'b', 'c', 3, 4]"
            ]
          },
          "metadata": {},
          "execution_count": 3
        }
      ]
    },
    {
      "cell_type": "code",
      "source": [
        "type(a[0:2])"
      ],
      "metadata": {
        "colab": {
          "base_uri": "https://localhost:8080/"
        },
        "id": "LSMG7o2jfYJ_",
        "outputId": "9b639f98-8527-49fb-84de-5486ba3da84c"
      },
      "execution_count": 4,
      "outputs": [
        {
          "output_type": "execute_result",
          "data": {
            "text/plain": [
              "list"
            ]
          },
          "metadata": {},
          "execution_count": 4
        }
      ]
    },
    {
      "cell_type": "markdown",
      "metadata": {
        "id": "vthKsXLtZYiA"
      },
      "source": [
        "Slices can actually be defined using the `slice()` function which creates a `slice` object:"
      ]
    },
    {
      "cell_type": "code",
      "execution_count": 6,
      "metadata": {
        "collapsed": true,
        "id": "U4F96TtIZYiB"
      },
      "outputs": [],
      "source": [
        "s = slice(0, 2)"
      ]
    },
    {
      "cell_type": "code",
      "execution_count": 7,
      "metadata": {
        "colab": {
          "base_uri": "https://localhost:8080/"
        },
        "id": "69Yk6Y-2ZYiC",
        "outputId": "7ae3d5d4-460e-402d-dd38-d71c31316099"
      },
      "outputs": [
        {
          "output_type": "execute_result",
          "data": {
            "text/plain": [
              "slice"
            ]
          },
          "metadata": {},
          "execution_count": 7
        }
      ],
      "source": [
        "type(s)"
      ]
    },
    {
      "cell_type": "code",
      "execution_count": 8,
      "metadata": {
        "colab": {
          "base_uri": "https://localhost:8080/"
        },
        "id": "Oow-fzw-ZYiE",
        "outputId": "66ea42f4-4055-4f54-99fd-64688b8d950b"
      },
      "outputs": [
        {
          "output_type": "execute_result",
          "data": {
            "text/plain": [
              "0"
            ]
          },
          "metadata": {},
          "execution_count": 8
        }
      ],
      "source": [
        "s.start"
      ]
    },
    {
      "cell_type": "code",
      "execution_count": 9,
      "metadata": {
        "colab": {
          "base_uri": "https://localhost:8080/"
        },
        "id": "N4WZbjd4ZYiE",
        "outputId": "e289ae6d-e7fb-43a5-9d63-39aac1003f10"
      },
      "outputs": [
        {
          "output_type": "execute_result",
          "data": {
            "text/plain": [
              "2"
            ]
          },
          "metadata": {},
          "execution_count": 9
        }
      ],
      "source": [
        "s.stop"
      ]
    },
    {
      "cell_type": "code",
      "source": [
        "type(a[0:2])"
      ],
      "metadata": {
        "colab": {
          "base_uri": "https://localhost:8080/"
        },
        "id": "HhbOvwXngcG2",
        "outputId": "eaf7c99d-ec4a-475b-c7dd-125de0043fde"
      },
      "execution_count": 13,
      "outputs": [
        {
          "output_type": "execute_result",
          "data": {
            "text/plain": [
              "list"
            ]
          },
          "metadata": {},
          "execution_count": 13
        }
      ]
    },
    {
      "cell_type": "code",
      "source": [
        "type(s)"
      ],
      "metadata": {
        "colab": {
          "base_uri": "https://localhost:8080/"
        },
        "id": "0O3tQyAggpfh",
        "outputId": "62159dfc-d001-4341-c83e-841007485f39"
      },
      "execution_count": 14,
      "outputs": [
        {
          "output_type": "execute_result",
          "data": {
            "text/plain": [
              "slice"
            ]
          },
          "metadata": {},
          "execution_count": 14
        }
      ]
    },
    {
      "cell_type": "code",
      "execution_count": 15,
      "metadata": {
        "colab": {
          "base_uri": "https://localhost:8080/"
        },
        "id": "S0VP2CLvZYiF",
        "outputId": "dd7aba16-12fb-43b6-f8f4-1bfd7552a328"
      },
      "outputs": [
        {
          "output_type": "execute_result",
          "data": {
            "text/plain": [
              "[1, 2]"
            ]
          },
          "metadata": {},
          "execution_count": 15
        }
      ],
      "source": [
        "l = [1, 2, 3, 4, 5]\n",
        "l[s]"
      ]
    },
    {
      "cell_type": "code",
      "source": [
        "s"
      ],
      "metadata": {
        "colab": {
          "base_uri": "https://localhost:8080/"
        },
        "id": "QekBkDxChF78",
        "outputId": "93253c0f-306c-4dd5-a840-84502c03427a"
      },
      "execution_count": 16,
      "outputs": [
        {
          "output_type": "execute_result",
          "data": {
            "text/plain": [
              "slice(0, 2, None)"
            ]
          },
          "metadata": {},
          "execution_count": 16
        }
      ]
    },
    {
      "cell_type": "code",
      "source": [
        "a[2:1000]"
      ],
      "metadata": {
        "colab": {
          "base_uri": "https://localhost:8080/"
        },
        "id": "01xfbGz9jhEG",
        "outputId": "ccb54ac1-b37e-45c1-dda8-ff8e575eaf9b"
      },
      "execution_count": 17,
      "outputs": [
        {
          "output_type": "execute_result",
          "data": {
            "text/plain": [
              "['c', 3, 4]"
            ]
          },
          "metadata": {},
          "execution_count": 17
        }
      ]
    },
    {
      "cell_type": "code",
      "source": [
        "a[-1]"
      ],
      "metadata": {
        "colab": {
          "base_uri": "https://localhost:8080/"
        },
        "id": "1aRAVNDOjuOQ",
        "outputId": "fe296a89-98df-4e26-a27a-bc0e849f9321"
      },
      "execution_count": 18,
      "outputs": [
        {
          "output_type": "execute_result",
          "data": {
            "text/plain": [
              "4"
            ]
          },
          "metadata": {},
          "execution_count": 18
        }
      ]
    },
    {
      "cell_type": "code",
      "source": [
        "a[-3:-1]"
      ],
      "metadata": {
        "colab": {
          "base_uri": "https://localhost:8080/"
        },
        "id": "dBRD43AijwCZ",
        "outputId": "303928d6-0c77-4889-cb98-f4ccfb03ddb5"
      },
      "execution_count": 19,
      "outputs": [
        {
          "output_type": "execute_result",
          "data": {
            "text/plain": [
              "['c', 3]"
            ]
          },
          "metadata": {},
          "execution_count": 19
        }
      ]
    },
    {
      "cell_type": "markdown",
      "source": [
        "### Step Value\n",
        "[i : j] -> i <= k < j\n",
        "\n",
        "- Step Value - Defaults to 1\n"
      ],
      "metadata": {
        "id": "4dH0VCk0i4sO"
      }
    },
    {
      "cell_type": "code",
      "source": [
        "s = ['a', 'b', 'c', 'd', 'e', 'f']\n",
        "print( s[0:6:2] )\n",
        "print( s[slice(0,6,2)] )"
      ],
      "metadata": {
        "colab": {
          "base_uri": "https://localhost:8080/"
        },
        "id": "r1k9pwxPkUYk",
        "outputId": "34c19104-77fa-4d97-a372-151cea4af312"
      },
      "execution_count": 20,
      "outputs": [
        {
          "output_type": "stream",
          "name": "stdout",
          "text": [
            "['a', 'c', 'e']\n",
            "['a', 'c', 'e']\n"
          ]
        }
      ]
    },
    {
      "cell_type": "code",
      "source": [
        "s[1:100:3]"
      ],
      "metadata": {
        "colab": {
          "base_uri": "https://localhost:8080/"
        },
        "id": "x4NtB3c9mEX0",
        "outputId": "d1a7d64d-0bc8-48db-d376-0d6a9dd2db7e"
      },
      "execution_count": 21,
      "outputs": [
        {
          "output_type": "execute_result",
          "data": {
            "text/plain": [
              "['b', 'e']"
            ]
          },
          "metadata": {},
          "execution_count": 21
        }
      ]
    },
    {
      "cell_type": "code",
      "source": [
        "s[-1:-4:-1]"
      ],
      "metadata": {
        "colab": {
          "base_uri": "https://localhost:8080/"
        },
        "id": "Qj6aRSz1mcQk",
        "outputId": "624ebd8c-be8b-42da-e5ee-857dd3560503"
      },
      "execution_count": 22,
      "outputs": [
        {
          "output_type": "execute_result",
          "data": {
            "text/plain": [
              "['f', 'e', 'd']"
            ]
          },
          "metadata": {},
          "execution_count": 22
        }
      ]
    },
    {
      "cell_type": "markdown",
      "metadata": {
        "collapsed": true,
        "id": "R7-BSJzPZYiG"
      },
      "source": [
        "Slices can be useful in practice to make code more readable.\n",
        "\n",
        "Suppose you are parsing fixed-width file. You would need to define the start/end column of each field in the rows of the file.\n",
        "\n",
        "So you might write something like this:"
      ]
    },
    {
      "cell_type": "code",
      "execution_count": 23,
      "metadata": {
        "collapsed": true,
        "id": "IWe1keSrZYiH"
      },
      "outputs": [],
      "source": [
        "data = []  # a collection of rows, read from a file maybe\n",
        "for row in data:\n",
        "    first_name = row[0:51]\n",
        "    last_name = row[51:101]\n",
        "    ssn = row[101:111]\n",
        "    # etc"
      ]
    },
    {
      "cell_type": "markdown",
      "metadata": {
        "id": "BsWb6tC_ZYiH"
      },
      "source": [
        "Instead, you might write:"
      ]
    },
    {
      "cell_type": "code",
      "execution_count": 24,
      "metadata": {
        "collapsed": true,
        "id": "w05X0V7FZYiI"
      },
      "outputs": [],
      "source": [
        "range_first_name = slice(0, 51)\n",
        "range_last_name = slice(51, 101)\n",
        "range_ssn = slice(101, 111)"
      ]
    },
    {
      "cell_type": "markdown",
      "metadata": {
        "id": "oB4zNxbUZYiI"
      },
      "source": [
        "These might even be defined in your global scope, or maybe a config file.\n",
        "\n",
        "Then in your code you would write this instead:"
      ]
    },
    {
      "cell_type": "code",
      "execution_count": 25,
      "metadata": {
        "collapsed": true,
        "id": "35MhVcEwZYiI"
      },
      "outputs": [],
      "source": [
        "for row in data:\n",
        "    first_name = row[range_first_name]\n",
        "    last_name = row[range_last_name]\n",
        "    ssn = row[range_ssn] "
      ]
    },
    {
      "cell_type": "markdown",
      "metadata": {
        "id": "TVIVYonIZYiJ"
      },
      "source": [
        "Separating the slice definition from the code that uses the slice makes it now much easier to update your slice definitions in one place, rather than hunt for them all over the place."
      ]
    },
    {
      "cell_type": "markdown",
      "metadata": {
        "id": "eIoM89HTZYiJ"
      },
      "source": [
        "#### Slice Fundamentals"
      ]
    },
    {
      "cell_type": "markdown",
      "metadata": {
        "id": "Rp7YqHRxZYiJ"
      },
      "source": [
        "Indexing is zero-based in Python, and slices are inclusive of their start-index, and exclusive of their end-index:"
      ]
    },
    {
      "cell_type": "code",
      "execution_count": null,
      "metadata": {
        "id": "cUv6qyQSZYiJ",
        "outputId": "3ef4b522-7509-4d81-c834-ddc73047d797"
      },
      "outputs": [
        {
          "data": {
            "text/plain": [
              "('p', 'python')"
            ]
          },
          "execution_count": 9,
          "metadata": {},
          "output_type": "execute_result"
        }
      ],
      "source": [
        "l = 'python'\n",
        "l[0:1], l[0:6]"
      ]
    },
    {
      "cell_type": "markdown",
      "metadata": {
        "id": "K9DKuTK7ZYiK"
      },
      "source": [
        "Additionally, extended slicing allows specifying a step value:"
      ]
    },
    {
      "cell_type": "code",
      "execution_count": null,
      "metadata": {
        "id": "FJ1BDOTUZYiK",
        "outputId": "fd57f014-9db0-4d3e-8886-d905b9612cb1"
      },
      "outputs": [
        {
          "data": {
            "text/plain": [
              "('pto', 'ph')"
            ]
          },
          "execution_count": 10,
          "metadata": {},
          "output_type": "execute_result"
        }
      ],
      "source": [
        "l = 'python'\n",
        "l[0:6:2], l[0:6:3]"
      ]
    },
    {
      "cell_type": "markdown",
      "metadata": {
        "id": "b1dBcq11ZYiK"
      },
      "source": [
        "And extended slices can also be defined using `slice`:"
      ]
    },
    {
      "cell_type": "code",
      "execution_count": null,
      "metadata": {
        "id": "vCOPBKXnZYiL",
        "outputId": "5ea5f75d-ba7c-4037-c0d6-b1e571c8d024"
      },
      "outputs": [
        {
          "data": {
            "text/plain": [
              "('pto', 'ph')"
            ]
          },
          "execution_count": 11,
          "metadata": {},
          "output_type": "execute_result"
        }
      ],
      "source": [
        "s1 = slice(0, 6, 2)\n",
        "s2 = slice(0, 6, 3)\n",
        "l[s1], l[s2]"
      ]
    },
    {
      "cell_type": "markdown",
      "metadata": {
        "id": "rv8CHJCvZYiL"
      },
      "source": [
        "Unlike regular indexing (e.g. `l[n]`), it's OK for slice indexes to be \"out of bounds\":"
      ]
    },
    {
      "cell_type": "code",
      "execution_count": null,
      "metadata": {
        "id": "nhpNum7tZYiL",
        "outputId": "598eec23-85a5-467b-e812-7fc98ca29924"
      },
      "outputs": [
        {
          "data": {
            "text/plain": [
              "[1, 2, 3, 4, 5, 6]"
            ]
          },
          "execution_count": 12,
          "metadata": {},
          "output_type": "execute_result"
        }
      ],
      "source": [
        "l = [1, 2, 3, 4, 5, 6]\n",
        "l[0:100]"
      ]
    },
    {
      "cell_type": "code",
      "execution_count": null,
      "metadata": {
        "id": "IVydFPl0ZYiL",
        "outputId": "cdabd29d-4371-4e49-cf24-0a98ceecd381"
      },
      "outputs": [
        {
          "data": {
            "text/plain": [
              "[1, 2, 3, 4, 5, 6]"
            ]
          },
          "execution_count": 13,
          "metadata": {},
          "output_type": "execute_result"
        }
      ],
      "source": [
        "l[-10:100]"
      ]
    },
    {
      "cell_type": "markdown",
      "metadata": {
        "id": "4dFu7j6UZYiM"
      },
      "source": [
        "But regular indexing will raise exceptions for out of bound errors:"
      ]
    },
    {
      "cell_type": "code",
      "execution_count": null,
      "metadata": {
        "id": "ycYetmcrZYiM",
        "outputId": "3fd845c6-c01f-405b-aa21-5ce429758523"
      },
      "outputs": [
        {
          "ename": "IndexError",
          "evalue": "list index out of range",
          "output_type": "error",
          "traceback": [
            "\u001b[1;31m---------------------------------------------------------------------------\u001b[0m",
            "\u001b[1;31mIndexError\u001b[0m                                Traceback (most recent call last)",
            "\u001b[1;32m<ipython-input-14-17c89fd6f29e>\u001b[0m in \u001b[0;36m<module>\u001b[1;34m()\u001b[0m\n\u001b[0;32m      1\u001b[0m \u001b[0ml\u001b[0m \u001b[1;33m=\u001b[0m \u001b[1;33m[\u001b[0m\u001b[1;36m1\u001b[0m\u001b[1;33m,\u001b[0m \u001b[1;36m2\u001b[0m\u001b[1;33m,\u001b[0m \u001b[1;36m3\u001b[0m\u001b[1;33m,\u001b[0m \u001b[1;36m4\u001b[0m\u001b[1;33m,\u001b[0m \u001b[1;36m5\u001b[0m\u001b[1;33m,\u001b[0m \u001b[1;36m6\u001b[0m\u001b[1;33m]\u001b[0m\u001b[1;33m\u001b[0m\u001b[0m\n\u001b[1;32m----> 2\u001b[1;33m \u001b[0ml\u001b[0m\u001b[1;33m[\u001b[0m\u001b[1;36m100\u001b[0m\u001b[1;33m]\u001b[0m\u001b[1;33m\u001b[0m\u001b[0m\n\u001b[0m",
            "\u001b[1;31mIndexError\u001b[0m: list index out of range"
          ]
        }
      ],
      "source": [
        "l = [1, 2, 3, 4, 5, 6]\n",
        "l[100]"
      ]
    },
    {
      "cell_type": "markdown",
      "metadata": {
        "id": "i8EE-hFUZYiM"
      },
      "source": [
        "In slicing, if we do not specify the start/end index, Python will automatically use the start/end of the sequence we are slicing:"
      ]
    },
    {
      "cell_type": "code",
      "execution_count": null,
      "metadata": {
        "collapsed": true,
        "id": "j-dJsrBUZYiM"
      },
      "outputs": [],
      "source": [
        "l = [1, 2, 3, 4, 5, 6]"
      ]
    },
    {
      "cell_type": "code",
      "execution_count": null,
      "metadata": {
        "id": "AQfcBFFoZYiM",
        "outputId": "f6bd7f22-e58f-4e89-87c2-f94f92f479c8"
      },
      "outputs": [
        {
          "data": {
            "text/plain": [
              "[1, 2, 3, 4]"
            ]
          },
          "execution_count": 16,
          "metadata": {},
          "output_type": "execute_result"
        }
      ],
      "source": [
        "l[:4]"
      ]
    },
    {
      "cell_type": "code",
      "execution_count": null,
      "metadata": {
        "id": "mOOWXdI_ZYiN",
        "outputId": "08fe735e-2367-425a-c7be-9fb1071764ed"
      },
      "outputs": [
        {
          "data": {
            "text/plain": [
              "[5, 6]"
            ]
          },
          "execution_count": 17,
          "metadata": {},
          "output_type": "execute_result"
        }
      ],
      "source": [
        "l[4:]"
      ]
    },
    {
      "cell_type": "markdown",
      "metadata": {
        "id": "KDIbmg56ZYiN"
      },
      "source": [
        "In fact, we can omit both:"
      ]
    },
    {
      "cell_type": "code",
      "execution_count": null,
      "metadata": {
        "id": "6R_FQGL-ZYiN",
        "outputId": "0de6f285-7f97-4a14-86ff-01955585e64c"
      },
      "outputs": [
        {
          "data": {
            "text/plain": [
              "[1, 2, 3, 4, 5, 6]"
            ]
          },
          "execution_count": 18,
          "metadata": {},
          "output_type": "execute_result"
        }
      ],
      "source": [
        "l[:]"
      ]
    },
    {
      "cell_type": "markdown",
      "metadata": {
        "id": "PeYIwo8sZYiN"
      },
      "source": [
        "In addition to the start/stop values allowing for negative values, the step value can also be negative. This simply means the sequence will traversed in the opposite direction:"
      ]
    },
    {
      "cell_type": "code",
      "execution_count": null,
      "metadata": {
        "collapsed": true,
        "id": "HZ5o5FikZYiN"
      },
      "outputs": [],
      "source": [
        "l = [0, 1, 2, 3, 4, 5]"
      ]
    },
    {
      "cell_type": "code",
      "execution_count": null,
      "metadata": {
        "id": "EVryJCXXZYiN",
        "outputId": "a4ce0129-14c8-4d3d-ca63-cba11e07878c"
      },
      "outputs": [
        {
          "data": {
            "text/plain": [
              "[3, 2, 1]"
            ]
          },
          "execution_count": 20,
          "metadata": {},
          "output_type": "execute_result"
        }
      ],
      "source": [
        "l[3:0:-1]"
      ]
    },
    {
      "cell_type": "markdown",
      "metadata": {
        "id": "vMTtJHqxZYiO"
      },
      "source": [
        "Basically we started at `3` (inclusive) and went in steps of `-1`, ending at (but not including) `0`."
      ]
    },
    {
      "cell_type": "markdown",
      "metadata": {
        "id": "vkXCnrlMZYiO"
      },
      "source": [
        "If we wanted to include the `0` index element, we could do it by ommitting the end value:"
      ]
    },
    {
      "cell_type": "code",
      "execution_count": null,
      "metadata": {
        "id": "EfDlbWVMZYiO",
        "outputId": "ea997388-5287-4d95-f3d0-27e15bc70cf9"
      },
      "outputs": [
        {
          "data": {
            "text/plain": [
              "[3, 2, 1, 0]"
            ]
          },
          "execution_count": 21,
          "metadata": {},
          "output_type": "execute_result"
        }
      ],
      "source": [
        "l[3::-1]"
      ]
    },
    {
      "cell_type": "markdown",
      "metadata": {
        "id": "n0rQqd3TZYiO"
      },
      "source": [
        "We could also do the following:"
      ]
    },
    {
      "cell_type": "code",
      "execution_count": null,
      "metadata": {
        "id": "6hjJ52PZZYiO",
        "outputId": "8e64492b-2f29-43c3-9c4e-ffca18b212ef"
      },
      "outputs": [
        {
          "data": {
            "text/plain": [
              "[3, 2, 1, 0]"
            ]
          },
          "execution_count": 22,
          "metadata": {},
          "output_type": "execute_result"
        }
      ],
      "source": [
        "l[3:-100:-1]"
      ]
    },
    {
      "cell_type": "markdown",
      "metadata": {
        "id": "03M357PrZYiO"
      },
      "source": [
        "But this would not work as expected:"
      ]
    },
    {
      "cell_type": "code",
      "execution_count": null,
      "metadata": {
        "id": "HaX220xGZYiO",
        "outputId": "199120ca-453d-4627-ffb5-5297f01d43d5"
      },
      "outputs": [
        {
          "data": {
            "text/plain": [
              "[]"
            ]
          },
          "execution_count": 23,
          "metadata": {},
          "output_type": "execute_result"
        }
      ],
      "source": [
        "l[3:-1:-1]"
      ]
    },
    {
      "cell_type": "markdown",
      "metadata": {
        "id": "ImtN-NmPZYiO"
      },
      "source": [
        "Why?"
      ]
    },
    {
      "cell_type": "markdown",
      "metadata": {
        "id": "ak-EKl6aZYiP"
      },
      "source": [
        "Remember from the lecture that this range equivalence would be:\n",
        "\n",
        "`3 --> 3`\n",
        "\n",
        "`-1 < 0 --> max(-1, 6-1) --> max(-1, 5) --> 5`\n",
        "\n",
        "so equivalent range would be given by:"
      ]
    },
    {
      "cell_type": "code",
      "execution_count": null,
      "metadata": {
        "id": "XjZTsZvuZYiP",
        "outputId": "1747af88-b1fb-46f4-bf0c-23c531bfadc3"
      },
      "outputs": [
        {
          "data": {
            "text/plain": [
              "[]"
            ]
          },
          "execution_count": 24,
          "metadata": {},
          "output_type": "execute_result"
        }
      ],
      "source": [
        "list(range(3, 5, -1))"
      ]
    },
    {
      "cell_type": "markdown",
      "metadata": {
        "id": "LOg2zxbwZYiP"
      },
      "source": [
        "which of course is an empty range!"
      ]
    },
    {
      "cell_type": "markdown",
      "metadata": {
        "id": "9MNVVeYHZYiP"
      },
      "source": [
        "#### Easily Converting a Slice to a Range"
      ]
    },
    {
      "cell_type": "markdown",
      "metadata": {
        "id": "GPTOI4U0ZYiP"
      },
      "source": [
        "We can easily determine the effective range of a slice by using the `indices` method in the `slice` object. The only thing is that in order to do this we must know the length of the sequence we are slicing."
      ]
    },
    {
      "cell_type": "markdown",
      "metadata": {
        "id": "3mtYrYG0ZYiP"
      },
      "source": [
        "For example, if our list has a length of 10:"
      ]
    },
    {
      "cell_type": "code",
      "execution_count": null,
      "metadata": {
        "id": "Gcq00evSZYiP",
        "outputId": "688461cb-2b51-413e-cd77-4a8fe0a35389"
      },
      "outputs": [
        {
          "data": {
            "text/plain": [
              "(1, 5, 1)"
            ]
          },
          "execution_count": 25,
          "metadata": {},
          "output_type": "execute_result"
        }
      ],
      "source": [
        "slice(1, 5).indices(10)"
      ]
    },
    {
      "cell_type": "code",
      "execution_count": null,
      "metadata": {
        "id": "kFmsrhhVZYiQ",
        "outputId": "8311f2d5-74b3-49fb-c2bb-25d98fe4b59a"
      },
      "outputs": [
        {
          "data": {
            "text/plain": [
              "[1, 2, 3, 4]"
            ]
          },
          "execution_count": 26,
          "metadata": {},
          "output_type": "execute_result"
        }
      ],
      "source": [
        "list(range(1, 5, 1))"
      ]
    },
    {
      "cell_type": "code",
      "execution_count": null,
      "metadata": {
        "id": "iyFmZLl_ZYiQ",
        "outputId": "6bc38530-c430-4dc5-9fe6-fc37e23b5c43"
      },
      "outputs": [
        {
          "data": {
            "text/plain": [
              "[1, 2, 3, 4]"
            ]
          },
          "execution_count": 27,
          "metadata": {},
          "output_type": "execute_result"
        }
      ],
      "source": [
        "l = [0, 1, 2, 3, 4, 5, 6, 7, 8, 9]\n",
        "l[1:5]"
      ]
    },
    {
      "cell_type": "markdown",
      "metadata": {
        "id": "b1BH1hRmZYiQ"
      },
      "source": [
        "The `slice` object can also handle extended slicing:"
      ]
    },
    {
      "cell_type": "code",
      "execution_count": null,
      "metadata": {
        "id": "f-vOH_ulZYiQ",
        "outputId": "e43cdb17-2084-401f-8960-1cb2848adec6"
      },
      "outputs": [
        {
          "data": {
            "text/plain": [
              "(0, 10, 2)"
            ]
          },
          "execution_count": 28,
          "metadata": {},
          "output_type": "execute_result"
        }
      ],
      "source": [
        "slice(0, 100, 2).indices(10)"
      ]
    },
    {
      "cell_type": "code",
      "execution_count": null,
      "metadata": {
        "id": "sUuENozAZYiQ",
        "outputId": "215fda6e-f47d-48af-cff0-b83a0be938f7"
      },
      "outputs": [
        {
          "data": {
            "text/plain": [
              "[0, 2, 4, 6, 8]"
            ]
          },
          "execution_count": 29,
          "metadata": {},
          "output_type": "execute_result"
        }
      ],
      "source": [
        "list(range(0, 10, 2))"
      ]
    },
    {
      "cell_type": "code",
      "execution_count": null,
      "metadata": {
        "id": "6KWM0SMbZYiQ",
        "outputId": "bb518e77-563c-4fc4-dd7a-ee7e2fc698bb"
      },
      "outputs": [
        {
          "data": {
            "text/plain": [
              "[0, 2, 4, 6, 8]"
            ]
          },
          "execution_count": 30,
          "metadata": {},
          "output_type": "execute_result"
        }
      ],
      "source": [
        "l[0:100:2]"
      ]
    },
    {
      "cell_type": "markdown",
      "metadata": {
        "id": "HpqOqhfAZYiR"
      },
      "source": [
        "We can easily retrieve a list of indices from a slice by passing the unpacked tuple returned by the `indices` method to the range function's arguments and converting to a list:"
      ]
    },
    {
      "cell_type": "code",
      "execution_count": null,
      "metadata": {
        "id": "B2nWsg_DZYiR",
        "outputId": "aef76cd3-4ae2-4a84-e6cd-0fd131ceacbb"
      },
      "outputs": [
        {
          "data": {
            "text/plain": [
              "[9, 8, 7, 6, 5, 4, 3, 2, 1, 0]"
            ]
          },
          "execution_count": 31,
          "metadata": {},
          "output_type": "execute_result"
        }
      ],
      "source": [
        "list(range(*slice(None, None, -1).indices(10)))"
      ]
    },
    {
      "cell_type": "markdown",
      "metadata": {
        "id": "9KpmpVogZYiR"
      },
      "source": [
        "As we can see from this example, using a slice such as `[::-1]` returns a sequence that is in reverse order from the original one."
      ]
    },
    {
      "cell_type": "code",
      "execution_count": null,
      "metadata": {
        "id": "4BAETjPTZYiR",
        "outputId": "c077dbaa-f97e-4b2a-e5ed-ac6ba20f8b1a"
      },
      "outputs": [
        {
          "data": {
            "text/plain": [
              "[0, 1, 2, 3, 4, 5, 6, 7, 8, 9]"
            ]
          },
          "execution_count": 32,
          "metadata": {},
          "output_type": "execute_result"
        }
      ],
      "source": [
        "l"
      ]
    },
    {
      "cell_type": "code",
      "execution_count": null,
      "metadata": {
        "id": "XJUKnLK2ZYiR",
        "outputId": "1c1fa2ba-8440-450a-ab3a-964036280155"
      },
      "outputs": [
        {
          "data": {
            "text/plain": [
              "[0, 1, 2, 3, 4, 5, 6, 7, 8, 9]"
            ]
          },
          "execution_count": 33,
          "metadata": {},
          "output_type": "execute_result"
        }
      ],
      "source": [
        "l[::]"
      ]
    },
    {
      "cell_type": "code",
      "execution_count": null,
      "metadata": {
        "id": "d2ZdguhgZYiR",
        "outputId": "50a7b135-77f7-4b26-e543-8f22736818f4"
      },
      "outputs": [
        {
          "data": {
            "text/plain": [
              "[9, 8, 7, 6, 5, 4, 3, 2, 1, 0]"
            ]
          },
          "execution_count": 34,
          "metadata": {},
          "output_type": "execute_result"
        }
      ],
      "source": [
        "l[::-1]"
      ]
    }
  ],
  "metadata": {
    "kernelspec": {
      "display_name": "Python 3",
      "language": "python",
      "name": "python3"
    },
    "language_info": {
      "codemirror_mode": {
        "name": "ipython",
        "version": 3
      },
      "file_extension": ".py",
      "mimetype": "text/x-python",
      "name": "python",
      "nbconvert_exporter": "python",
      "pygments_lexer": "ipython3",
      "version": "3.6.2"
    },
    "colab": {
      "provenance": [],
      "include_colab_link": true
    }
  },
  "nbformat": 4,
  "nbformat_minor": 0
}