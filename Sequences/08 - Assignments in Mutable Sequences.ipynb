{
  "cells": [
    {
      "cell_type": "markdown",
      "metadata": {
        "id": "view-in-github",
        "colab_type": "text"
      },
      "source": [
        "<a href=\"https://colab.research.google.com/github/vdhinaka/PythonDeepDive/blob/master/Sequences/08%20-%20Assignments%20in%20Mutable%20Sequences.ipynb\" target=\"_parent\"><img src=\"https://colab.research.google.com/assets/colab-badge.svg\" alt=\"Open In Colab\"/></a>"
      ]
    },
    {
      "cell_type": "markdown",
      "metadata": {
        "id": "ovpnBGAJjXMv"
      },
      "source": [
        "### Assignments in Mutable Sequences"
      ]
    },
    {
      "cell_type": "markdown",
      "metadata": {
        "id": "2Fp1VqRijXM3"
      },
      "source": [
        "We have seen how to mutate mutable sequences using append, insert, extend and in-place concatenation (`+=`)."
      ]
    },
    {
      "cell_type": "markdown",
      "metadata": {
        "id": "Azs5dmnVjXM4"
      },
      "source": [
        "But mutable sequences also allow us to mutate the sequence by assigning values (iterables) to slices. Depending on how we specify the slice, and what the value is, we can actually insert, modify and delete elements of the sequence."
      ]
    },
    {
      "cell_type": "markdown",
      "metadata": {
        "id": "XEkF58aWjXM4"
      },
      "source": [
        "#### Standard Slices"
      ]
    },
    {
      "cell_type": "markdown",
      "metadata": {
        "id": "n-LnH-MjjXM4"
      },
      "source": [
        "##### Replacement"
      ]
    },
    {
      "cell_type": "markdown",
      "metadata": {
        "id": "o4kCNgjnjXM5"
      },
      "source": [
        "We can replace a slice of a sequence with any other iterable. They need not even be of the same length."
      ]
    },
    {
      "cell_type": "code",
      "execution_count": null,
      "metadata": {
        "id": "hyx9-pgXjXM5",
        "outputId": "b946fa75-95df-4c3f-e5d8-517c2d6eb64e"
      },
      "outputs": [
        {
          "data": {
            "text/plain": [
              "1449221423176"
            ]
          },
          "execution_count": 35,
          "metadata": {},
          "output_type": "execute_result"
        }
      ],
      "source": [
        "l = [1, 2, 3, 4, 5]\n",
        "id(l)"
      ]
    },
    {
      "cell_type": "code",
      "execution_count": null,
      "metadata": {
        "id": "rY_pjHnRjXM7",
        "outputId": "86e54b9e-d14c-488d-ac82-624dc79e8440"
      },
      "outputs": [
        {
          "data": {
            "text/plain": [
              "[1, 2, 3]"
            ]
          },
          "execution_count": 36,
          "metadata": {},
          "output_type": "execute_result"
        }
      ],
      "source": [
        "l[0:3]"
      ]
    },
    {
      "cell_type": "code",
      "execution_count": null,
      "metadata": {
        "collapsed": true,
        "id": "w29Ab_f9jXM7"
      },
      "outputs": [],
      "source": [
        "l[0:3] = ['a', 'b', 'c', 'd']"
      ]
    },
    {
      "cell_type": "code",
      "execution_count": null,
      "metadata": {
        "id": "O9Kd_nLcjXM8",
        "outputId": "b6ad9de6-00fc-4244-9328-3d9b8876ac52"
      },
      "outputs": [
        {
          "data": {
            "text/plain": [
              "(['a', 'b', 'c', 'd', 4, 5], 1449221423176)"
            ]
          },
          "execution_count": 38,
          "metadata": {},
          "output_type": "execute_result"
        }
      ],
      "source": [
        "l, id(l)"
      ]
    },
    {
      "cell_type": "markdown",
      "metadata": {
        "id": "XLW_yOxrjXM8"
      },
      "source": [
        "In fact, since strings are iterables, this would work too:"
      ]
    },
    {
      "cell_type": "code",
      "execution_count": null,
      "metadata": {
        "collapsed": true,
        "id": "QNC_cdAZjXM9"
      },
      "outputs": [],
      "source": [
        "l = [1, 2, 3, 4, 5]"
      ]
    },
    {
      "cell_type": "code",
      "execution_count": null,
      "metadata": {
        "collapsed": true,
        "id": "8PYc0tMxjXM9"
      },
      "outputs": [],
      "source": [
        "l[0:3] = 'python'"
      ]
    },
    {
      "cell_type": "code",
      "execution_count": null,
      "metadata": {
        "id": "nLmIzZQ8jXM9",
        "outputId": "fe3d5385-3348-4d10-a598-3d3945b7a788"
      },
      "outputs": [
        {
          "data": {
            "text/plain": [
              "['p', 'y', 't', 'h', 'o', 'n', 4, 5]"
            ]
          },
          "execution_count": 41,
          "metadata": {},
          "output_type": "execute_result"
        }
      ],
      "source": [
        "l"
      ]
    },
    {
      "cell_type": "markdown",
      "metadata": {
        "id": "xHqgpXvUjXM9"
      },
      "source": [
        "##### Deleting"
      ]
    },
    {
      "cell_type": "markdown",
      "metadata": {
        "id": "iUKDr-dmjXM-"
      },
      "source": [
        "Delete is really just a special case of replacement, where we replace with an empty iterable."
      ]
    },
    {
      "cell_type": "code",
      "execution_count": null,
      "metadata": {
        "id": "NlYKE6ljjXM-",
        "outputId": "81ddfe36-3140-446c-ba39-a2559e012392"
      },
      "outputs": [
        {
          "data": {
            "text/plain": [
              "1449221214024"
            ]
          },
          "execution_count": 27,
          "metadata": {},
          "output_type": "execute_result"
        }
      ],
      "source": [
        "l = [1, 2, 3, 4, 5]\n",
        "id(l)"
      ]
    },
    {
      "cell_type": "markdown",
      "metadata": {
        "id": "k166_c9zjXM-"
      },
      "source": [
        "We can delete a single element by defining a slice that precisely selects that element, and replacing it with an empty iterable."
      ]
    },
    {
      "cell_type": "code",
      "execution_count": null,
      "metadata": {
        "id": "PRargJbajXM-",
        "outputId": "7758a82a-3957-43df-f69d-103c461eb4d2"
      },
      "outputs": [
        {
          "data": {
            "text/plain": [
              "[1]"
            ]
          },
          "execution_count": 28,
          "metadata": {},
          "output_type": "execute_result"
        }
      ],
      "source": [
        "l[0:1]"
      ]
    },
    {
      "cell_type": "code",
      "execution_count": null,
      "metadata": {
        "collapsed": true,
        "id": "1x0m_xN7jXM_"
      },
      "outputs": [],
      "source": [
        "l[0:1] = []"
      ]
    },
    {
      "cell_type": "code",
      "execution_count": null,
      "metadata": {
        "id": "DnMKUX7CjXM_",
        "outputId": "2ac8a0c0-b8de-4972-9812-2f945f1f86f2"
      },
      "outputs": [
        {
          "data": {
            "text/plain": [
              "([2, 3, 4, 5], 1449221214024)"
            ]
          },
          "execution_count": 30,
          "metadata": {},
          "output_type": "execute_result"
        }
      ],
      "source": [
        "l, id(l)"
      ]
    },
    {
      "cell_type": "markdown",
      "metadata": {
        "id": "YCJrwp7AjXM_"
      },
      "source": [
        "If we want, we can delete multiple element at once using the same technique:"
      ]
    },
    {
      "cell_type": "code",
      "execution_count": null,
      "metadata": {
        "id": "iq7QX5tgjXM_",
        "outputId": "59179dc4-23be-49da-ba5c-28e530b8108c"
      },
      "outputs": [
        {
          "data": {
            "text/plain": [
              "1449221446792"
            ]
          },
          "execution_count": 31,
          "metadata": {},
          "output_type": "execute_result"
        }
      ],
      "source": [
        "l = [1, 2, 3, 4, 5]\n",
        "id(l)"
      ]
    },
    {
      "cell_type": "code",
      "execution_count": null,
      "metadata": {
        "id": "-iDYJDoxjXNA",
        "outputId": "9bf99005-2bd4-4f93-d550-e81fab49f194"
      },
      "outputs": [
        {
          "data": {
            "text/plain": [
              "[1, 2]"
            ]
          },
          "execution_count": 32,
          "metadata": {},
          "output_type": "execute_result"
        }
      ],
      "source": [
        "l[0:2]"
      ]
    },
    {
      "cell_type": "code",
      "execution_count": null,
      "metadata": {
        "collapsed": true,
        "id": "ki5Bl6UNjXNA"
      },
      "outputs": [],
      "source": [
        "l[0:2] = []"
      ]
    },
    {
      "cell_type": "code",
      "execution_count": null,
      "metadata": {
        "id": "r8Uoa1KgjXNA",
        "outputId": "77594fd2-4561-4395-ba18-cc6955c9d61d"
      },
      "outputs": [
        {
          "data": {
            "text/plain": [
              "([3, 4, 5], 1449221446792)"
            ]
          },
          "execution_count": 34,
          "metadata": {},
          "output_type": "execute_result"
        }
      ],
      "source": [
        "l, id(l)"
      ]
    },
    {
      "cell_type": "markdown",
      "metadata": {
        "id": "_koqxg7HjXNA"
      },
      "source": [
        "##### Inserting"
      ]
    },
    {
      "cell_type": "code",
      "execution_count": null,
      "metadata": {
        "id": "_-bh0JuujXNA",
        "outputId": "e0c9cd27-2f40-4752-abff-3dac8ae3b4e1"
      },
      "outputs": [
        {
          "data": {
            "text/plain": [
              "1449221213576"
            ]
          },
          "execution_count": 18,
          "metadata": {},
          "output_type": "execute_result"
        }
      ],
      "source": [
        "l = [1, 2, 3, 4, 5]\n",
        "id(l)"
      ]
    },
    {
      "cell_type": "markdown",
      "metadata": {
        "id": "tD563LQajXNB"
      },
      "source": [
        "Here we have to be careful if we want to insert something.\n",
        "\n",
        "If we replace a slice that contains elements from the sequence, we'll be replacing those elements.\n",
        "\n",
        "So what we really want here is a way to replace an empty slice in our sequence!"
      ]
    },
    {
      "cell_type": "markdown",
      "metadata": {
        "id": "jOxzRoIQjXNB"
      },
      "source": [
        "Let's say we want to insert some elements at the second position in the sequence (index 1):"
      ]
    },
    {
      "cell_type": "code",
      "execution_count": null,
      "metadata": {
        "id": "TRo3zNPkjXNB",
        "outputId": "34615a1c-680b-431e-e761-96d581815197"
      },
      "outputs": [
        {
          "data": {
            "text/plain": [
              "1449221445832"
            ]
          },
          "execution_count": 43,
          "metadata": {},
          "output_type": "execute_result"
        }
      ],
      "source": [
        "l = [1, 2, 3, 4, 5]\n",
        "id(l)"
      ]
    },
    {
      "cell_type": "code",
      "execution_count": null,
      "metadata": {
        "id": "p3NzrNO1jXNB",
        "outputId": "d7d2d4b1-6c82-49eb-9397-52a86e08b757"
      },
      "outputs": [
        {
          "data": {
            "text/plain": [
              "[2]"
            ]
          },
          "execution_count": 44,
          "metadata": {},
          "output_type": "execute_result"
        }
      ],
      "source": [
        "l[1:2]"
      ]
    },
    {
      "cell_type": "markdown",
      "metadata": {
        "id": "XyyysZmHjXNB"
      },
      "source": [
        "The problem is that if we assign something to that slice it will replace the element `2`, and that's not what we want."
      ]
    },
    {
      "cell_type": "markdown",
      "metadata": {
        "id": "JvO6KQ0gjXNB"
      },
      "source": [
        "Instead, we have to define an empty slice at the location where we want the insert to take place, in this case at index `1`:"
      ]
    },
    {
      "cell_type": "code",
      "execution_count": null,
      "metadata": {
        "id": "4OPGEmp-jXNC",
        "outputId": "7faddbcd-7d8c-4fb7-c43e-0a23c01e122a"
      },
      "outputs": [
        {
          "data": {
            "text/plain": [
              "[]"
            ]
          },
          "execution_count": 45,
          "metadata": {},
          "output_type": "execute_result"
        }
      ],
      "source": [
        "l[1:1]"
      ]
    },
    {
      "cell_type": "markdown",
      "metadata": {
        "id": "_3dKhSGZjXNC"
      },
      "source": [
        "So, this is an empty slice start at `1` and ending *before* `1`"
      ]
    },
    {
      "cell_type": "code",
      "execution_count": null,
      "metadata": {
        "collapsed": true,
        "id": "wk8k1GNjjXNC"
      },
      "outputs": [],
      "source": [
        "l[1:1] = 'abc'"
      ]
    },
    {
      "cell_type": "code",
      "execution_count": null,
      "metadata": {
        "id": "juVkHJakjXNC",
        "outputId": "d76a740b-ca3a-4ddb-b2c9-c8cbabe2f79f"
      },
      "outputs": [
        {
          "data": {
            "text/plain": [
              "([1, 'a', 'b', 'c', 2, 3, 4, 5], 1449221445832)"
            ]
          },
          "execution_count": 47,
          "metadata": {},
          "output_type": "execute_result"
        }
      ],
      "source": [
        "l, id(l)"
      ]
    },
    {
      "cell_type": "markdown",
      "metadata": {
        "id": "NVoRjac0jXND"
      },
      "source": [
        "And of course the memory address of `l` has not changed. We mutated the list."
      ]
    },
    {
      "cell_type": "markdown",
      "metadata": {
        "id": "CdfyC0PyjXND"
      },
      "source": [
        "#### Side Note: Immutable Sequences"
      ]
    },
    {
      "cell_type": "markdown",
      "metadata": {
        "id": "or2hZKYNjXND"
      },
      "source": [
        "As a side note, what would happen if we tried the same technique using immutable sequences, such as tuples for example?"
      ]
    },
    {
      "cell_type": "code",
      "execution_count": null,
      "metadata": {
        "collapsed": true,
        "id": "-WhMsGkfjXND"
      },
      "outputs": [],
      "source": [
        "t = 1, 2, 3, 4, 5"
      ]
    },
    {
      "cell_type": "code",
      "execution_count": null,
      "metadata": {
        "id": "9__ynBy9jXND",
        "outputId": "e011ec62-6f42-42be-90ff-852ca0f7af15"
      },
      "outputs": [
        {
          "ename": "TypeError",
          "evalue": "'tuple' object does not support item assignment",
          "output_type": "error",
          "traceback": [
            "\u001b[1;31m---------------------------------------------------------------------------\u001b[0m",
            "\u001b[1;31mTypeError\u001b[0m                                 Traceback (most recent call last)",
            "\u001b[1;32m<ipython-input-49-b415b668250e>\u001b[0m in \u001b[0;36m<module>\u001b[1;34m()\u001b[0m\n\u001b[1;32m----> 1\u001b[1;33m \u001b[0mt\u001b[0m\u001b[1;33m[\u001b[0m\u001b[1;36m0\u001b[0m\u001b[1;33m:\u001b[0m\u001b[1;36m3\u001b[0m\u001b[1;33m]\u001b[0m \u001b[1;33m=\u001b[0m \u001b[1;33m(\u001b[0m\u001b[1;36m10\u001b[0m\u001b[1;33m,\u001b[0m \u001b[1;36m20\u001b[0m\u001b[1;33m)\u001b[0m\u001b[1;33m\u001b[0m\u001b[0m\n\u001b[0m",
            "\u001b[1;31mTypeError\u001b[0m: 'tuple' object does not support item assignment"
          ]
        }
      ],
      "source": [
        "t[0:3] = (10, 20)"
      ]
    },
    {
      "cell_type": "markdown",
      "metadata": {
        "id": "Ke_nwaPbjXND"
      },
      "source": [
        "As expected, we cannot mutate an immutable type."
      ]
    },
    {
      "cell_type": "markdown",
      "metadata": {
        "id": "p8we4zcfjXND"
      },
      "source": [
        "#### Extended Slices"
      ]
    },
    {
      "cell_type": "markdown",
      "metadata": {
        "id": "VWvj2jRRjXNE"
      },
      "source": [
        "So now let's explore what happens if we assign iterables to extended slices."
      ]
    },
    {
      "cell_type": "code",
      "execution_count": null,
      "metadata": {
        "id": "RCa0nWh4jXNE",
        "outputId": "72f9fc79-c876-4d78-ca5f-059823df207b"
      },
      "outputs": [
        {
          "data": {
            "text/plain": [
              "1449221445384"
            ]
          },
          "execution_count": 51,
          "metadata": {},
          "output_type": "execute_result"
        }
      ],
      "source": [
        "l = [1, 2, 3, 4, 5]\n",
        "id(l)"
      ]
    },
    {
      "cell_type": "code",
      "execution_count": null,
      "metadata": {
        "id": "xNSCn7SdjXNE",
        "outputId": "ca0a3d02-149f-49f0-c55a-3198dc2fd89d"
      },
      "outputs": [
        {
          "data": {
            "text/plain": [
              "[1, 3, 5]"
            ]
          },
          "execution_count": 52,
          "metadata": {},
          "output_type": "execute_result"
        }
      ],
      "source": [
        "l[::2]"
      ]
    },
    {
      "cell_type": "markdown",
      "metadata": {
        "id": "3ftNaBKpjXNE"
      },
      "source": [
        "Let's see if we can replace those items:"
      ]
    },
    {
      "cell_type": "code",
      "execution_count": null,
      "metadata": {
        "collapsed": true,
        "id": "cx2yZsGCjXNE"
      },
      "outputs": [],
      "source": [
        "l[::2] = ['a', 'b', 'c']"
      ]
    },
    {
      "cell_type": "code",
      "execution_count": null,
      "metadata": {
        "id": "1z37q2K-jXNE",
        "outputId": "446b02ce-2f02-486a-ab99-34078c227cb8"
      },
      "outputs": [
        {
          "data": {
            "text/plain": [
              "(['a', 2, 'b', 4, 'c'], 1449221445384)"
            ]
          },
          "execution_count": 55,
          "metadata": {},
          "output_type": "execute_result"
        }
      ],
      "source": [
        "l, id(l)"
      ]
    },
    {
      "cell_type": "markdown",
      "metadata": {
        "id": "RTmKKA8mjXNE"
      },
      "source": [
        "Yes!! That worked, and the id of `l` is unchanged."
      ]
    },
    {
      "cell_type": "markdown",
      "metadata": {
        "id": "2d-z-ZWQjXNF"
      },
      "source": [
        "There is one thing about assigning to extended slices - the length of the slice and the length of the iterable we are setting on the right hand side must have the **same length**:"
      ]
    },
    {
      "cell_type": "code",
      "execution_count": null,
      "metadata": {
        "collapsed": true,
        "id": "gBraI602jXNF"
      },
      "outputs": [],
      "source": [
        "l = [1, 2, 3, 4, 5]"
      ]
    },
    {
      "cell_type": "code",
      "execution_count": null,
      "metadata": {
        "id": "ALl7qMaOjXNF",
        "outputId": "32b76b14-945a-4314-d751-b8f752275c14"
      },
      "outputs": [
        {
          "data": {
            "text/plain": [
              "[1, 3, 5]"
            ]
          },
          "execution_count": 57,
          "metadata": {},
          "output_type": "execute_result"
        }
      ],
      "source": [
        "l[::2]"
      ]
    },
    {
      "cell_type": "code",
      "execution_count": null,
      "metadata": {
        "id": "7vLu7GlNjXNF",
        "outputId": "760963eb-1a1f-460b-ef72-5addaa690dfd"
      },
      "outputs": [
        {
          "ename": "ValueError",
          "evalue": "attempt to assign sequence of size 2 to extended slice of size 3",
          "output_type": "error",
          "traceback": [
            "\u001b[1;31m---------------------------------------------------------------------------\u001b[0m",
            "\u001b[1;31mValueError\u001b[0m                                Traceback (most recent call last)",
            "\u001b[1;32m<ipython-input-58-10f1ccbf07ed>\u001b[0m in \u001b[0;36m<module>\u001b[1;34m()\u001b[0m\n\u001b[1;32m----> 1\u001b[1;33m \u001b[0ml\u001b[0m\u001b[1;33m[\u001b[0m\u001b[1;33m:\u001b[0m\u001b[1;33m:\u001b[0m\u001b[1;36m2\u001b[0m\u001b[1;33m]\u001b[0m \u001b[1;33m=\u001b[0m \u001b[1;33m[\u001b[0m\u001b[1;34m'a'\u001b[0m\u001b[1;33m,\u001b[0m \u001b[1;34m'b'\u001b[0m\u001b[1;33m]\u001b[0m\u001b[1;33m\u001b[0m\u001b[0m\n\u001b[0m",
            "\u001b[1;31mValueError\u001b[0m: attempt to assign sequence of size 2 to extended slice of size 3"
          ]
        }
      ],
      "source": [
        "l[::2] = ['a', 'b']"
      ]
    },
    {
      "cell_type": "code",
      "execution_count": null,
      "metadata": {
        "id": "gdu38kbejXNF",
        "outputId": "deaefae1-775b-4274-f553-92b70771cc1c"
      },
      "outputs": [
        {
          "ename": "ValueError",
          "evalue": "attempt to assign sequence of size 4 to extended slice of size 3",
          "output_type": "error",
          "traceback": [
            "\u001b[1;31m---------------------------------------------------------------------------\u001b[0m",
            "\u001b[1;31mValueError\u001b[0m                                Traceback (most recent call last)",
            "\u001b[1;32m<ipython-input-59-0a51509029aa>\u001b[0m in \u001b[0;36m<module>\u001b[1;34m()\u001b[0m\n\u001b[1;32m----> 1\u001b[1;33m \u001b[0ml\u001b[0m\u001b[1;33m[\u001b[0m\u001b[1;33m:\u001b[0m\u001b[1;33m:\u001b[0m\u001b[1;36m2\u001b[0m\u001b[1;33m]\u001b[0m \u001b[1;33m=\u001b[0m \u001b[1;33m[\u001b[0m\u001b[1;34m'a'\u001b[0m\u001b[1;33m,\u001b[0m \u001b[1;34m'b'\u001b[0m\u001b[1;33m,\u001b[0m \u001b[1;34m'c'\u001b[0m\u001b[1;33m,\u001b[0m \u001b[1;34m'd'\u001b[0m\u001b[1;33m]\u001b[0m\u001b[1;33m\u001b[0m\u001b[0m\n\u001b[0m",
            "\u001b[1;31mValueError\u001b[0m: attempt to assign sequence of size 4 to extended slice of size 3"
          ]
        }
      ],
      "source": [
        "l[::2] = ['a', 'b', 'c', 'd']"
      ]
    },
    {
      "cell_type": "markdown",
      "metadata": {
        "id": "Xd6bPU92jXNF"
      },
      "source": [
        "This means that we cannot delete items using extended slicing:"
      ]
    },
    {
      "cell_type": "code",
      "execution_count": null,
      "metadata": {
        "id": "3R33SoOqjXNG",
        "outputId": "a4381f42-f51f-4331-8223-b44464d956da"
      },
      "outputs": [
        {
          "ename": "ValueError",
          "evalue": "attempt to assign sequence of size 0 to extended slice of size 3",
          "output_type": "error",
          "traceback": [
            "\u001b[1;31m---------------------------------------------------------------------------\u001b[0m",
            "\u001b[1;31mValueError\u001b[0m                                Traceback (most recent call last)",
            "\u001b[1;32m<ipython-input-60-e71a8b274492>\u001b[0m in \u001b[0;36m<module>\u001b[1;34m()\u001b[0m\n\u001b[1;32m----> 1\u001b[1;33m \u001b[0ml\u001b[0m\u001b[1;33m[\u001b[0m\u001b[1;33m:\u001b[0m\u001b[1;33m:\u001b[0m\u001b[1;36m2\u001b[0m\u001b[1;33m]\u001b[0m \u001b[1;33m=\u001b[0m \u001b[1;33m[\u001b[0m\u001b[1;33m]\u001b[0m\u001b[1;33m\u001b[0m\u001b[0m\n\u001b[0m",
            "\u001b[1;31mValueError\u001b[0m: attempt to assign sequence of size 0 to extended slice of size 3"
          ]
        }
      ],
      "source": [
        "l[::2] = []"
      ]
    },
    {
      "cell_type": "markdown",
      "metadata": {
        "id": "pwvuZ8JwjXNG"
      },
      "source": [
        "And of course insertion does not even make sense with an extended slice - remember that for insertion we need an empty slice..."
      ]
    },
    {
      "cell_type": "markdown",
      "metadata": {
        "id": "SBXOtNhfjXNG"
      },
      "source": [
        "#### Note"
      ]
    },
    {
      "cell_type": "markdown",
      "metadata": {
        "id": "3AY3OWQ3jXNG"
      },
      "source": [
        "One last note, the right hand side can be any iterable. We saw how we could use a string for example. But any iterable, even non-sequence types will work as well."
      ]
    },
    {
      "cell_type": "code",
      "execution_count": null,
      "metadata": {
        "collapsed": true,
        "id": "4EJ6cXB5jXNG"
      },
      "outputs": [],
      "source": [
        "l = [1, 2, 3, 4, 5]"
      ]
    },
    {
      "cell_type": "code",
      "execution_count": null,
      "metadata": {
        "collapsed": true,
        "id": "z7gw8i2gjXNG"
      },
      "outputs": [],
      "source": [
        "l[3:3] = {'c', 'b', 'a'}"
      ]
    },
    {
      "cell_type": "code",
      "execution_count": null,
      "metadata": {
        "id": "GwQsXI6ZjXNG",
        "outputId": "bebd1a00-33c7-4b36-d964-97a1e4bac79e"
      },
      "outputs": [
        {
          "data": {
            "text/plain": [
              "[1, 2, 3, 'b', 'a', 'c', 4, 5]"
            ]
          },
          "execution_count": 63,
          "metadata": {},
          "output_type": "execute_result"
        }
      ],
      "source": [
        "l"
      ]
    },
    {
      "cell_type": "markdown",
      "metadata": {
        "id": "jZBOnX2FjXNG"
      },
      "source": [
        "Of course, since we are inserting the values form a set, there is no guarantee of the order in which the elements will be inserted into our list."
      ]
    },
    {
      "cell_type": "code",
      "source": [
        "'-'.join('abcd')"
      ],
      "metadata": {
        "id": "ZT1u5BeGoOUG",
        "outputId": "78607ed3-1785-4715-c507-61bb8f65b18a",
        "colab": {
          "base_uri": "https://localhost:8080/",
          "height": 36
        }
      },
      "execution_count": 1,
      "outputs": [
        {
          "output_type": "execute_result",
          "data": {
            "text/plain": [
              "'a-b-c-d'"
            ],
            "application/vnd.google.colaboratory.intrinsic+json": {
              "type": "string"
            }
          },
          "metadata": {},
          "execution_count": 1
        }
      ]
    },
    {
      "cell_type": "code",
      "source": [
        "r = range(0, 10)\n",
        "list(r)"
      ],
      "metadata": {
        "id": "xsUDLKMeoSFQ",
        "outputId": "bef2bdd9-fcf1-4865-f685-0bbcea767b5a",
        "colab": {
          "base_uri": "https://localhost:8080/"
        }
      },
      "execution_count": 2,
      "outputs": [
        {
          "output_type": "execute_result",
          "data": {
            "text/plain": [
              "[0, 1, 2, 3, 4, 5, 6, 7, 8, 9]"
            ]
          },
          "metadata": {},
          "execution_count": 2
        }
      ]
    },
    {
      "cell_type": "code",
      "source": [
        "r = range(0, 10, -1)\n",
        "list(r)"
      ],
      "metadata": {
        "id": "Kg762ghxxQkm",
        "outputId": "061fd538-1432-4aa9-c55e-54b385f6851c",
        "colab": {
          "base_uri": "https://localhost:8080/"
        }
      },
      "execution_count": 3,
      "outputs": [
        {
          "output_type": "execute_result",
          "data": {
            "text/plain": [
              "[]"
            ]
          },
          "metadata": {},
          "execution_count": 3
        }
      ]
    },
    {
      "cell_type": "code",
      "source": [
        "r = range(10, 0, -1)\n",
        "list(r)"
      ],
      "metadata": {
        "id": "JOSJhb8gxWBu",
        "outputId": "8fb05906-e344-46f7-d308-8f9de0ecd25f",
        "colab": {
          "base_uri": "https://localhost:8080/"
        }
      },
      "execution_count": 4,
      "outputs": [
        {
          "output_type": "execute_result",
          "data": {
            "text/plain": [
              "[10, 9, 8, 7, 6, 5, 4, 3, 2, 1]"
            ]
          },
          "metadata": {},
          "execution_count": 4
        }
      ]
    },
    {
      "cell_type": "code",
      "source": [
        "r = range(10, -1, -1)\n",
        "list(r)"
      ],
      "metadata": {
        "id": "mZFaOJgwxauW",
        "outputId": "3fac12ce-c296-4788-82a8-a01f02b70200",
        "colab": {
          "base_uri": "https://localhost:8080/"
        }
      },
      "execution_count": 5,
      "outputs": [
        {
          "output_type": "execute_result",
          "data": {
            "text/plain": [
              "[10, 9, 8, 7, 6, 5, 4, 3, 2, 1, 0]"
            ]
          },
          "metadata": {},
          "execution_count": 5
        }
      ]
    },
    {
      "cell_type": "code",
      "source": [
        "r = range(10, -1, -2)\n",
        "list(r)"
      ],
      "metadata": {
        "id": "PWbWdd7vxoaI",
        "outputId": "b54ca6e6-6968-47bf-e540-3f63a907cc1b",
        "colab": {
          "base_uri": "https://localhost:8080/"
        }
      },
      "execution_count": 6,
      "outputs": [
        {
          "output_type": "execute_result",
          "data": {
            "text/plain": [
              "[10, 8, 6, 4, 2, 0]"
            ]
          },
          "metadata": {},
          "execution_count": 6
        }
      ]
    },
    {
      "cell_type": "code",
      "source": [
        "r.start, r.stop, r.step"
      ],
      "metadata": {
        "id": "6KEOEvpNxrU5",
        "outputId": "42aa51cf-7a02-495c-d190-b1a5747099ac",
        "colab": {
          "base_uri": "https://localhost:8080/"
        }
      },
      "execution_count": 7,
      "outputs": [
        {
          "output_type": "execute_result",
          "data": {
            "text/plain": [
              "(10, -1, -2)"
            ]
          },
          "metadata": {},
          "execution_count": 7
        }
      ]
    },
    {
      "cell_type": "code",
      "source": [],
      "metadata": {
        "id": "JsRN8tTTx6vh"
      },
      "execution_count": null,
      "outputs": []
    }
  ],
  "metadata": {
    "kernelspec": {
      "display_name": "Python 3",
      "language": "python",
      "name": "python3"
    },
    "language_info": {
      "codemirror_mode": {
        "name": "ipython",
        "version": 3
      },
      "file_extension": ".py",
      "mimetype": "text/x-python",
      "name": "python",
      "nbconvert_exporter": "python",
      "pygments_lexer": "ipython3",
      "version": "3.6.2"
    },
    "colab": {
      "provenance": [],
      "include_colab_link": true
    }
  },
  "nbformat": 4,
  "nbformat_minor": 0
}