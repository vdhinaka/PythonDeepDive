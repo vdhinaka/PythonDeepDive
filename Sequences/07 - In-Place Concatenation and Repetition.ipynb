{
  "cells": [
    {
      "cell_type": "markdown",
      "metadata": {
        "id": "view-in-github",
        "colab_type": "text"
      },
      "source": [
        "<a href=\"https://colab.research.google.com/github/vdhinaka/PythonDeepDive/blob/master/Sequences/07%20-%20In-Place%20Concatenation%20and%20Repetition.ipynb\" target=\"_parent\"><img src=\"https://colab.research.google.com/assets/colab-badge.svg\" alt=\"Open In Colab\"/></a>"
      ]
    },
    {
      "cell_type": "markdown",
      "metadata": {
        "id": "NdX-uQJo4wyE"
      },
      "source": [
        "### In-Place Concatenation and Repetition"
      ]
    },
    {
      "cell_type": "markdown",
      "metadata": {
        "id": "c_RzleYD4wyJ"
      },
      "source": [
        "##### In-Place Concatenation"
      ]
    },
    {
      "cell_type": "markdown",
      "metadata": {
        "id": "cgv8hRbh4wyK"
      },
      "source": [
        "We saw that using concatenation ended up creating a new sequence object:"
      ]
    },
    {
      "cell_type": "code",
      "execution_count": null,
      "metadata": {
        "id": "3zGZRT_14wyK",
        "outputId": "2e20afc1-dfd5-455b-a1b4-5cb96241c8d0"
      },
      "outputs": [
        {
          "name": "stdout",
          "output_type": "stream",
          "text": [
            "2674852946824 [1, 2, 3, 4]\n",
            "2674852947208 [5, 6]\n"
          ]
        }
      ],
      "source": [
        "l1 = [1, 2, 3, 4]\n",
        "l2 = [5, 6]\n",
        "print(id(l1), l1)\n",
        "print(id(l2), l2)"
      ]
    },
    {
      "cell_type": "code",
      "execution_count": null,
      "metadata": {
        "id": "VonqplrF4wyN",
        "outputId": "142a7848-0718-4f39-8513-6c34ad1b7c38"
      },
      "outputs": [
        {
          "name": "stdout",
          "output_type": "stream",
          "text": [
            "2674853399624 [1, 2, 3, 4, 5, 6]\n"
          ]
        }
      ],
      "source": [
        "l1 = l1 + l2\n",
        "print(id(l1), l1)"
      ]
    },
    {
      "cell_type": "markdown",
      "metadata": {
        "id": "nZySPKtc4wyN"
      },
      "source": [
        "But watch what happens when we use the in-place concatenation operator `+=:"
      ]
    },
    {
      "cell_type": "code",
      "execution_count": null,
      "metadata": {
        "id": "aILOEvCt4wyO",
        "outputId": "bed94d4a-ade4-4984-d0ec-b45cc63cf579"
      },
      "outputs": [
        {
          "name": "stdout",
          "output_type": "stream",
          "text": [
            "2674853400520 [1, 2, 3, 4]\n",
            "2674852590920 [5, 6]\n"
          ]
        }
      ],
      "source": [
        "l1 = [1, 2, 3, 4]\n",
        "l2 = [5, 6]\n",
        "print(id(l1), l1)\n",
        "print(id(l2), l2)"
      ]
    },
    {
      "cell_type": "code",
      "execution_count": null,
      "metadata": {
        "id": "nOjGf0z44wyO",
        "outputId": "be22c84e-283f-49a6-e976-3ced525f4678"
      },
      "outputs": [
        {
          "name": "stdout",
          "output_type": "stream",
          "text": [
            "2674853400520 [1, 2, 3, 4, 5, 6]\n"
          ]
        }
      ],
      "source": [
        "l1 += l2\n",
        "print(id(l1), l1)"
      ]
    },
    {
      "cell_type": "markdown",
      "metadata": {
        "id": "FQN9OUED4wyP"
      },
      "source": [
        "Notice how the `id` of `l1` has **not** changed - it is the same object, just mutated!"
      ]
    },
    {
      "cell_type": "markdown",
      "metadata": {
        "id": "i17PKW6o4wyP"
      },
      "source": [
        "So far in this course I have often said that:\n",
        "\n",
        "`a = a + 1`\n",
        "\n",
        "and \n",
        "\n",
        "`a += 1`\n",
        "\n",
        "are the same thing.\n",
        "\n",
        "And for immutable objects such as integers, that is indeed true.\n",
        "\n",
        "But in fact `+` and `+=` are two different operators."
      ]
    },
    {
      "cell_type": "markdown",
      "metadata": {
        "id": "8BNW65fk4wyQ"
      },
      "source": [
        "It is interesting to note that the implementation of `+=` for lists will actually extend the list given any iterable, not just another list. This is really just the particular implementation of that operator for lists."
      ]
    },
    {
      "cell_type": "code",
      "execution_count": null,
      "metadata": {
        "id": "onEvtPQw4wyQ",
        "outputId": "4e5cb9f9-3a11-43b3-80aa-13d6af6dcbbf"
      },
      "outputs": [
        {
          "name": "stdout",
          "output_type": "stream",
          "text": [
            "2674853566344 [1, 2, 3, 4]\n",
            "2674853559968 (5, 6, 7)\n"
          ]
        }
      ],
      "source": [
        "l1 = [1, 2, 3, 4]\n",
        "t1 = 5, 6, 7\n",
        "print(id(l1), l1)\n",
        "print(id(t1), t1)"
      ]
    },
    {
      "cell_type": "code",
      "execution_count": null,
      "metadata": {
        "id": "5egV6v0d4wyQ",
        "outputId": "52effced-f69a-47c5-f294-d3ed9bbe974c"
      },
      "outputs": [
        {
          "name": "stdout",
          "output_type": "stream",
          "text": [
            "2674853566344 [1, 2, 3, 4, 5, 6, 7]\n"
          ]
        }
      ],
      "source": [
        "l1 += t1\n",
        "print(id(l1), l1)"
      ]
    },
    {
      "cell_type": "markdown",
      "metadata": {
        "id": "APF54RFf4wyR"
      },
      "source": [
        "And this will work with other iterables as well:"
      ]
    },
    {
      "cell_type": "code",
      "execution_count": null,
      "metadata": {
        "id": "ClGSFUC14wyR",
        "outputId": "a402b255-0943-46a9-85e6-7b000225cb53"
      },
      "outputs": [
        {
          "name": "stdout",
          "output_type": "stream",
          "text": [
            "2674853566344 [1, 2, 3, 4, 5, 6, 7, 8, 9, 10]\n"
          ]
        }
      ],
      "source": [
        "l1 += range(8, 11)\n",
        "print(id(l1), l1)"
      ]
    },
    {
      "cell_type": "markdown",
      "metadata": {
        "id": "gbUx7Unt4wyR"
      },
      "source": [
        "or even with iterable non-sequence types:"
      ]
    },
    {
      "cell_type": "code",
      "execution_count": null,
      "metadata": {
        "id": "K6rp5_Zk4wyR",
        "outputId": "619d60b9-5224-4301-82a5-fe782762f9f8"
      },
      "outputs": [
        {
          "name": "stdout",
          "output_type": "stream",
          "text": [
            "2674853566344 [1, 2, 3, 4, 5, 6, 7, 8, 9, 10, 11, 12, 13]\n"
          ]
        }
      ],
      "source": [
        "l1 += {11, 12, 13}\n",
        "print(id(l1), l1)"
      ]
    },
    {
      "cell_type": "markdown",
      "metadata": {
        "id": "_bteg6QK4wyS"
      },
      "source": [
        "Of course, this will **not work** with **immutable** sequence types, such as tuples or strings:"
      ]
    },
    {
      "cell_type": "code",
      "execution_count": null,
      "metadata": {
        "id": "4PyW8z034wyS",
        "outputId": "7a0dda33-07e1-4a8d-f621-578af0548ba9"
      },
      "outputs": [
        {
          "name": "stdout",
          "output_type": "stream",
          "text": [
            "2674852634768 (1, 2, 3)\n",
            "2674853559968 (4, 5, 6)\n"
          ]
        }
      ],
      "source": [
        "t1 = 1, 2, 3\n",
        "t2 = 4, 5, 6\n",
        "print(id(t1), t1)\n",
        "print(id(t2), t2)"
      ]
    },
    {
      "cell_type": "code",
      "execution_count": null,
      "metadata": {
        "id": "d85Lymu24wyS",
        "outputId": "37f1cc1b-eeb4-40f6-c435-313abf765650"
      },
      "outputs": [
        {
          "name": "stdout",
          "output_type": "stream",
          "text": [
            "2674852634768 (1, 2, 3)\n"
          ]
        }
      ],
      "source": [
        "print(id(t1), t1)"
      ]
    },
    {
      "cell_type": "markdown",
      "metadata": {
        "id": "f2oWIbKs4wyT"
      },
      "source": [
        "We cannot mutate an immutable container!\n",
        "What happens is that `+=` is not actually defined for the `tuple`, and so Python essentially executed this code:\n",
        "\n",
        "`t1 = t1 + t2`\n",
        "\n",
        "which, as we already know, always creates a new object."
      ]
    },
    {
      "cell_type": "markdown",
      "metadata": {
        "collapsed": true,
        "id": "NbK2chBt4wyT"
      },
      "source": [
        "##### In-Place Repetition"
      ]
    },
    {
      "cell_type": "markdown",
      "metadata": {
        "id": "TMiyA6054wyT"
      },
      "source": [
        "A similar result holds for in-place repetition.\n",
        "\n",
        "Let's see this using a list (mutable sequence type) first:"
      ]
    },
    {
      "cell_type": "code",
      "execution_count": null,
      "metadata": {
        "id": "f6QyWqsz4wyT",
        "outputId": "166f5ec2-76d9-4755-baa5-4528d23c339d"
      },
      "outputs": [
        {
          "name": "stdout",
          "output_type": "stream",
          "text": [
            "2674853567560 [1, 2, 3]\n"
          ]
        }
      ],
      "source": [
        "l = [1, 2, 3]\n",
        "print(id(l), l)"
      ]
    },
    {
      "cell_type": "code",
      "execution_count": null,
      "metadata": {
        "id": "8DtTjHWO4wyU",
        "outputId": "2e3d17c1-19ac-4fca-c334-279dec10a47b"
      },
      "outputs": [
        {
          "name": "stdout",
          "output_type": "stream",
          "text": [
            "2674853567560 [1, 2, 3, 1, 2, 3]\n"
          ]
        }
      ],
      "source": [
        "l *= 2\n",
        "print(id(l), l)"
      ]
    },
    {
      "cell_type": "markdown",
      "metadata": {
        "id": "xZaoDdpN4wyU"
      },
      "source": [
        "But obviously this operator will work differently if the sequence type is immutable:"
      ]
    },
    {
      "cell_type": "code",
      "execution_count": null,
      "metadata": {
        "id": "_dFdJk-_4wyU",
        "outputId": "2c449b71-47c8-4ee8-9921-343524c5bbcc"
      },
      "outputs": [
        {
          "name": "stdout",
          "output_type": "stream",
          "text": [
            "2674853646840 (1, 2, 3)\n"
          ]
        }
      ],
      "source": [
        "t = (1, 2, 3)\n",
        "print(id(t), t)"
      ]
    },
    {
      "cell_type": "code",
      "execution_count": null,
      "metadata": {
        "id": "SFP_3Fab4wyU",
        "outputId": "bb1995b8-36d8-469c-deed-f3b9c6d7ca60"
      },
      "outputs": [
        {
          "name": "stdout",
          "output_type": "stream",
          "text": [
            "2674829349224 (1, 2, 3, 1, 2, 3)\n"
          ]
        }
      ],
      "source": [
        "t *= 2\n",
        "print(id(t), t)"
      ]
    }
  ],
  "metadata": {
    "kernelspec": {
      "display_name": "Python 3",
      "language": "python",
      "name": "python3"
    },
    "language_info": {
      "codemirror_mode": {
        "name": "ipython",
        "version": 3
      },
      "file_extension": ".py",
      "mimetype": "text/x-python",
      "name": "python",
      "nbconvert_exporter": "python",
      "pygments_lexer": "ipython3",
      "version": "3.6.2"
    },
    "colab": {
      "provenance": [],
      "include_colab_link": true
    }
  },
  "nbformat": 4,
  "nbformat_minor": 0
}