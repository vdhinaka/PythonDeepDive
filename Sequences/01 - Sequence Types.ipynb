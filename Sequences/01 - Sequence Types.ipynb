{
  "cells": [
    {
      "cell_type": "markdown",
      "metadata": {
        "id": "view-in-github",
        "colab_type": "text"
      },
      "source": [
        "<a href=\"https://colab.research.google.com/github/vdhinaka/PythonDeepDive/blob/master/Sequences/01%20-%20Sequence%20Types.ipynb\" target=\"_parent\"><img src=\"https://colab.research.google.com/assets/colab-badge.svg\" alt=\"Open In Colab\"/></a>"
      ]
    },
    {
      "cell_type": "markdown",
      "metadata": {
        "id": "bF_zNiCYQGjF"
      },
      "source": [
        "### Sequence Types"
      ]
    },
    {
      "cell_type": "markdown",
      "metadata": {
        "id": "ezWHUxTtQGjJ"
      },
      "source": [
        "Sequence types have the general concept of a first element, a second element, and so on. Basically an ordering of the sequence items using the natural numbers. In Python (and many other languages) the starting index is set to `0`, not `1`.\n",
        "\n",
        "So the first item has index `0`, the second item has index `1`, and so on."
      ]
    },
    {
      "cell_type": "markdown",
      "metadata": {
        "id": "OgUAXOV8QGjL"
      },
      "source": [
        "Python has built-in mutable and immutable sequence types.\n",
        "Mutable - list, bytearrays\n",
        "Immutable - strings, tuples, range, bytes\n",
        "\n",
        "Homogenous Sequences - string\n",
        "Heterogeneous Sequences - List, tuple\n",
        "\n",
        "Any sequence type is iterable.  But an iterable type is not necessarily a sequence type (set).\n",
        "    "
      ]
    },
    {
      "cell_type": "markdown",
      "source": [
        "#### Standard Sequence Types\n",
        "* x is S\n",
        "* x not in S\n",
        "* S.index(i), S[i]\n",
        "* S1 + S2\n",
        "* S * n\n",
        "* len(S), max(S), min(S)\n",
        "* S.index(x, i), S.index(x, i, j)\n",
        "* S[ i : j ],  S[ i : j : k]\n",
        "* Hashing: supported by immutable types"
      ],
      "metadata": {
        "id": "6s7_F-mqRnbI"
      }
    },
    {
      "cell_type": "markdown",
      "metadata": {
        "id": "54xRsPuVQGjL"
      },
      "source": [
        "Strings, tuples are immutable - we can access but not modify the **content** of the **sequence**:"
      ]
    },
    {
      "cell_type": "code",
      "execution_count": null,
      "metadata": {
        "tags": [],
        "id": "ZKX5JUwdQGjM"
      },
      "outputs": [],
      "source": [
        "t = (1, 2, 3)"
      ]
    },
    {
      "cell_type": "code",
      "execution_count": null,
      "metadata": {
        "id": "S5jUErfTQGjN",
        "outputId": "96c72ab5-a751-4976-9310-30b43fa4fbaa"
      },
      "outputs": [
        {
          "data": {
            "text/plain": [
              "1"
            ]
          },
          "execution_count": 2,
          "metadata": {},
          "output_type": "execute_result"
        }
      ],
      "source": [
        "t[0]"
      ]
    },
    {
      "cell_type": "code",
      "execution_count": null,
      "metadata": {
        "id": "QJlEqvSIQGjO",
        "outputId": "a4215e47-5c1e-4e59-b1ec-24ae498567ea"
      },
      "outputs": [
        {
          "ename": "TypeError",
          "evalue": "'tuple' object does not support item assignment",
          "output_type": "error",
          "traceback": [
            "\u001b[1;31m---------------------------------------------------------------------------\u001b[0m",
            "\u001b[1;31mTypeError\u001b[0m                                 Traceback (most recent call last)",
            "Input \u001b[1;32mIn [2]\u001b[0m, in \u001b[0;36m<cell line: 1>\u001b[1;34m()\u001b[0m\n\u001b[1;32m----> 1\u001b[0m t[\u001b[38;5;241m0\u001b[39m] \u001b[38;5;241m=\u001b[39m \u001b[38;5;241m100\u001b[39m\n",
            "\u001b[1;31mTypeError\u001b[0m: 'tuple' object does not support item assignment"
          ]
        }
      ],
      "source": [
        "t[0] = 100"
      ]
    },
    {
      "cell_type": "markdown",
      "metadata": {
        "id": "57Ycgm8UQGjO"
      },
      "source": [
        "But of course, if the sequence contains mutable objects, then although we cannot modify the sequence of elements (cannot replace, delete or insert elements), we certainly **can** change the contents of the mutable objects:"
      ]
    },
    {
      "cell_type": "code",
      "execution_count": 1,
      "metadata": {
        "collapsed": true,
        "jupyter": {
          "outputs_hidden": true
        },
        "id": "LbXyWhPgQGjP"
      },
      "outputs": [],
      "source": [
        "t = ( [1, 2], 3, 4)"
      ]
    },
    {
      "cell_type": "markdown",
      "metadata": {
        "id": "yPsifldEQGjP"
      },
      "source": [
        "`t` is immutable, but its first element is a mutable object:"
      ]
    },
    {
      "cell_type": "code",
      "execution_count": 2,
      "metadata": {
        "collapsed": true,
        "jupyter": {
          "outputs_hidden": true
        },
        "id": "Ec--dXQZQGjQ"
      },
      "outputs": [],
      "source": [
        "t[0][0] = 100"
      ]
    },
    {
      "cell_type": "code",
      "execution_count": 3,
      "metadata": {
        "id": "v5_3nvU-QGjQ",
        "outputId": "0b3e0d37-6ee3-475c-af2e-d38e9868b310",
        "colab": {
          "base_uri": "https://localhost:8080/"
        }
      },
      "outputs": [
        {
          "output_type": "execute_result",
          "data": {
            "text/plain": [
              "([100, 2], 3, 4)"
            ]
          },
          "metadata": {},
          "execution_count": 3
        }
      ],
      "source": [
        "t"
      ]
    },
    {
      "cell_type": "code",
      "source": [
        "t[0].append('abc')\n",
        "t"
      ],
      "metadata": {
        "id": "ve6d7GouTF8z",
        "outputId": "5424c597-51fc-4d26-86d4-21ea142a98ab",
        "colab": {
          "base_uri": "https://localhost:8080/"
        }
      },
      "execution_count": 4,
      "outputs": [
        {
          "output_type": "execute_result",
          "data": {
            "text/plain": [
              "([100, 2, 'abc'], 3, 4)"
            ]
          },
          "metadata": {},
          "execution_count": 4
        }
      ]
    },
    {
      "cell_type": "markdown",
      "source": [
        "#### Beware of Concatenations\n"
      ],
      "metadata": {
        "id": "yshlRJIVUCcf"
      }
    },
    {
      "cell_type": "code",
      "source": [
        "a = [1, 2]\n",
        "b = a + a\n",
        "b"
      ],
      "metadata": {
        "id": "nKtBCRaCUGdv",
        "outputId": "5b8a1d83-880a-47ec-c16d-57cd62c339d9",
        "colab": {
          "base_uri": "https://localhost:8080/"
        }
      },
      "execution_count": 7,
      "outputs": [
        {
          "output_type": "execute_result",
          "data": {
            "text/plain": [
              "[1, 2, 1, 2]"
            ]
          },
          "metadata": {},
          "execution_count": 7
        }
      ]
    },
    {
      "cell_type": "code",
      "source": [
        "a * 2"
      ],
      "metadata": {
        "id": "k_VSBgzAUvGn",
        "outputId": "7fc840b9-753c-4316-bbc7-db5a709e86e5",
        "colab": {
          "base_uri": "https://localhost:8080/"
        }
      },
      "execution_count": 9,
      "outputs": [
        {
          "output_type": "execute_result",
          "data": {
            "text/plain": [
              "[1, 2, 1, 2]"
            ]
          },
          "metadata": {},
          "execution_count": 9
        }
      ]
    },
    {
      "cell_type": "code",
      "source": [
        "a = 'python'\n",
        "b = a + a\n",
        "b"
      ],
      "metadata": {
        "id": "oEXsCK7WUPR0",
        "outputId": "3960ada6-1aef-439c-d7d7-f8f689bbe211",
        "colab": {
          "base_uri": "https://localhost:8080/",
          "height": 36
        }
      },
      "execution_count": 6,
      "outputs": [
        {
          "output_type": "execute_result",
          "data": {
            "text/plain": [
              "'pythonpython'"
            ],
            "application/vnd.google.colaboratory.intrinsic+json": {
              "type": "string"
            }
          },
          "metadata": {},
          "execution_count": 6
        }
      ]
    },
    {
      "cell_type": "code",
      "source": [
        "a = [ [0, 0], 'a', 'b' ]\n",
        "b = a + a\n",
        "b"
      ],
      "metadata": {
        "id": "F1M-ONkfUrc4",
        "outputId": "e97e4c7a-9d14-48ac-81f9-7e5eb66a71e4",
        "colab": {
          "base_uri": "https://localhost:8080/"
        }
      },
      "execution_count": 10,
      "outputs": [
        {
          "output_type": "execute_result",
          "data": {
            "text/plain": [
              "[[0, 0], 'a', 'b', [0, 0], 'a', 'b']"
            ]
          },
          "metadata": {},
          "execution_count": 10
        }
      ]
    },
    {
      "cell_type": "code",
      "source": [
        "id(a[0]), id(b[0]), id(b[3])"
      ],
      "metadata": {
        "id": "PvMjpHo4VASN",
        "outputId": "23ce52f6-f3dc-4c5b-aeb0-fa2ca399cb3e",
        "colab": {
          "base_uri": "https://localhost:8080/"
        }
      },
      "execution_count": 11,
      "outputs": [
        {
          "output_type": "execute_result",
          "data": {
            "text/plain": [
              "(139700623360064, 139700623360064, 139700623360064)"
            ]
          },
          "metadata": {},
          "execution_count": 11
        }
      ]
    },
    {
      "cell_type": "markdown",
      "metadata": {
        "id": "2Z6hS_d1QGjQ"
      },
      "source": [
        "#### Iterables"
      ]
    },
    {
      "cell_type": "markdown",
      "metadata": {
        "id": "x6G77oWTQGjQ"
      },
      "source": [
        "An **iterable** is just something that can be iterated over, for example using a `for` loop:"
      ]
    },
    {
      "cell_type": "code",
      "execution_count": 12,
      "metadata": {
        "tags": [],
        "id": "Hl3j_EBHQGjR"
      },
      "outputs": [],
      "source": [
        "t = (10, 'a', 1+3j)"
      ]
    },
    {
      "cell_type": "code",
      "execution_count": 13,
      "metadata": {
        "tags": [],
        "id": "WGvesadkQGjR"
      },
      "outputs": [],
      "source": [
        "s = {10, 'a', 1+3j}"
      ]
    },
    {
      "cell_type": "code",
      "execution_count": 14,
      "metadata": {
        "id": "ZjTVOJhJQGjR",
        "outputId": "18d0d7dd-acf3-44cf-c288-8bc3053cdda4",
        "colab": {
          "base_uri": "https://localhost:8080/"
        }
      },
      "outputs": [
        {
          "output_type": "stream",
          "name": "stdout",
          "text": [
            "10\n",
            "a\n",
            "(1+3j)\n"
          ]
        }
      ],
      "source": [
        "for c in t:\n",
        "    print(c)"
      ]
    },
    {
      "cell_type": "code",
      "execution_count": 15,
      "metadata": {
        "id": "3fRRrw3XQGjR",
        "outputId": "cfcd2c39-04ab-4d8e-9483-0db46f3f4007",
        "colab": {
          "base_uri": "https://localhost:8080/"
        }
      },
      "outputs": [
        {
          "output_type": "stream",
          "name": "stdout",
          "text": [
            "(1+3j)\n",
            "10\n",
            "a\n"
          ]
        }
      ],
      "source": [
        "for c in s:\n",
        "    print(c)"
      ]
    },
    {
      "cell_type": "markdown",
      "metadata": {
        "id": "mtJzEXD9QGjS"
      },
      "source": [
        "Note how we could iterate over both the tuple and the set. Iterating the tuple preserved the **order** of the elements in the tuple, but not for the set. Sets do not have an ordering of elements - they are iterable, but not sequences."
      ]
    },
    {
      "cell_type": "markdown",
      "metadata": {
        "id": "aef-lmi4QGjS"
      },
      "source": [
        "Most sequence types support the `in` and `not in` operations. Ranges do too, but not quite as efficiently as lists, tuples, strings, etc."
      ]
    },
    {
      "cell_type": "code",
      "execution_count": null,
      "metadata": {
        "id": "K_3LtOGYQGjS",
        "outputId": "6a49b842-b091-4e4f-8556-b00b3fd10c20"
      },
      "outputs": [
        {
          "data": {
            "text/plain": [
              "True"
            ]
          },
          "execution_count": 11,
          "metadata": {},
          "output_type": "execute_result"
        }
      ],
      "source": [
        "'a' in ['a', 'b', 100]"
      ]
    },
    {
      "cell_type": "code",
      "execution_count": null,
      "metadata": {
        "id": "hOh2HmkFQGjS",
        "outputId": "a3076cee-6590-414a-fbea-61b3e135ab2c"
      },
      "outputs": [
        {
          "data": {
            "text/plain": [
              "True"
            ]
          },
          "execution_count": 12,
          "metadata": {},
          "output_type": "execute_result"
        }
      ],
      "source": [
        "100 in range(200)"
      ]
    },
    {
      "cell_type": "markdown",
      "metadata": {
        "id": "MSzdtFXKQGjS"
      },
      "source": [
        "#### Min, Max and Length"
      ]
    },
    {
      "cell_type": "markdown",
      "metadata": {
        "id": "dvOjOO3QQGjT"
      },
      "source": [
        "Sequences also generally support the `len` method to obtain the number of items in the collection. Some iterables may also support that method."
      ]
    },
    {
      "cell_type": "code",
      "execution_count": null,
      "metadata": {
        "id": "r7e_8eC2QGjT",
        "outputId": "99414184-dd9d-4d5d-f526-e18f80dd7c43"
      },
      "outputs": [
        {
          "data": {
            "text/plain": [
              "(6, 3, 3, 2)"
            ]
          },
          "execution_count": 13,
          "metadata": {},
          "output_type": "execute_result"
        }
      ],
      "source": [
        "len('python'), len([1, 2, 3]), len({10, 20, 30}), len({'a': 1, 'b': 2})"
      ]
    },
    {
      "cell_type": "markdown",
      "metadata": {
        "id": "-nDpudkBQGjT"
      },
      "source": [
        "Sequences (and even some iterables) may support `max` and `min` as long as the data types in the collection can be **ordered** in some sense (`<` or `>`)."
      ]
    },
    {
      "cell_type": "code",
      "execution_count": null,
      "metadata": {
        "id": "uBSOAKXtQGjT",
        "outputId": "5ddc8bda-6706-446e-c1cc-ee822b11bc21"
      },
      "outputs": [
        {
          "data": {
            "text/plain": [
              "(100, 300)"
            ]
          },
          "execution_count": 14,
          "metadata": {},
          "output_type": "execute_result"
        }
      ],
      "source": [
        "a = [100, 300, 200]\n",
        "min(a), max(a)"
      ]
    },
    {
      "cell_type": "code",
      "execution_count": null,
      "metadata": {
        "id": "aV07zTIQQGjT",
        "outputId": "82f586c6-97fe-4902-af4c-0f4060984246"
      },
      "outputs": [
        {
          "data": {
            "text/plain": [
              "('h', 'y')"
            ]
          },
          "execution_count": 15,
          "metadata": {},
          "output_type": "execute_result"
        }
      ],
      "source": [
        "s = 'python'\n",
        "min(s), max(s)"
      ]
    },
    {
      "cell_type": "code",
      "execution_count": null,
      "metadata": {
        "id": "Bi-GGqNtQGjU",
        "outputId": "ce225c59-f899-4c11-9c8b-875c78277223"
      },
      "outputs": [
        {
          "data": {
            "text/plain": [
              "('h', 'y')"
            ]
          },
          "execution_count": 16,
          "metadata": {},
          "output_type": "execute_result"
        }
      ],
      "source": [
        "s = {'p', 'y', 't', 'h', 'o', 'n'}\n",
        "min(s), max(s)"
      ]
    },
    {
      "cell_type": "code",
      "execution_count": null,
      "metadata": {
        "id": "YLB0NCBGQGjU",
        "outputId": "7913e9a1-1c8f-410a-95c8-1a698e3b1597"
      },
      "outputs": [
        {
          "ename": "TypeError",
          "evalue": "'set' object is not subscriptable",
          "output_type": "error",
          "traceback": [
            "\u001b[1;31m---------------------------------------------------------------------------\u001b[0m",
            "\u001b[1;31mTypeError\u001b[0m                                 Traceback (most recent call last)",
            "Input \u001b[1;32mIn [6]\u001b[0m, in \u001b[0;36m<cell line: 1>\u001b[1;34m()\u001b[0m\n\u001b[1;32m----> 1\u001b[0m \u001b[43ms\u001b[49m\u001b[43m[\u001b[49m\u001b[38;5;241;43m0\u001b[39;49m\u001b[43m]\u001b[49m\n",
            "\u001b[1;31mTypeError\u001b[0m: 'set' object is not subscriptable"
          ]
        }
      ],
      "source": [
        "s[0]"
      ]
    },
    {
      "cell_type": "markdown",
      "metadata": {
        "id": "tWz7clkwQGjU"
      },
      "source": [
        "But if the elements do not have an ordering defined:"
      ]
    },
    {
      "cell_type": "code",
      "execution_count": null,
      "metadata": {
        "id": "FN9ODM3SQGjU",
        "outputId": "b9a0022c-318f-4f03-bde3-e99393cf3a7a"
      },
      "outputs": [
        {
          "ename": "TypeError",
          "evalue": "'<' not supported between instances of 'complex' and 'complex'",
          "output_type": "error",
          "traceback": [
            "\u001b[1;31m---------------------------------------------------------------------------\u001b[0m",
            "\u001b[1;31mTypeError\u001b[0m                                 Traceback (most recent call last)",
            "\u001b[1;32m<ipython-input-17-b0cd79e53377>\u001b[0m in \u001b[0;36m<module>\u001b[1;34m()\u001b[0m\n\u001b[0;32m      1\u001b[0m \u001b[0ma\u001b[0m \u001b[1;33m=\u001b[0m \u001b[1;33m[\u001b[0m\u001b[1;36m1\u001b[0m\u001b[1;33m+\u001b[0m\u001b[1;36m1j\u001b[0m\u001b[1;33m,\u001b[0m \u001b[1;36m2\u001b[0m\u001b[1;33m+\u001b[0m\u001b[1;36m2j\u001b[0m\u001b[1;33m,\u001b[0m \u001b[1;36m3\u001b[0m\u001b[1;33m+\u001b[0m\u001b[1;36m3j\u001b[0m\u001b[1;33m]\u001b[0m\u001b[1;33m\u001b[0m\u001b[0m\n\u001b[1;32m----> 2\u001b[1;33m \u001b[0mmin\u001b[0m\u001b[1;33m(\u001b[0m\u001b[0ma\u001b[0m\u001b[1;33m)\u001b[0m\u001b[1;33m\u001b[0m\u001b[0m\n\u001b[0m",
            "\u001b[1;31mTypeError\u001b[0m: '<' not supported between instances of 'complex' and 'complex'"
          ]
        }
      ],
      "source": [
        "a = [1+1j, 2+2j, 3+3j]\n",
        "min(a)"
      ]
    },
    {
      "cell_type": "markdown",
      "metadata": {
        "id": "obGBxUaVQGjU"
      },
      "source": [
        "`min` and `max` will work for heterogeneous types as long as the elements are pairwise comparable (`<` or `>` is defined). \n",
        "\n",
        "For example:"
      ]
    },
    {
      "cell_type": "code",
      "execution_count": null,
      "metadata": {
        "collapsed": true,
        "jupyter": {
          "outputs_hidden": true
        },
        "id": "Mq8k2-PMQGjV"
      },
      "outputs": [],
      "source": [
        "from decimal import Decimal"
      ]
    },
    {
      "cell_type": "code",
      "execution_count": null,
      "metadata": {
        "collapsed": true,
        "jupyter": {
          "outputs_hidden": true
        },
        "id": "-3TAfkAbQGjV"
      },
      "outputs": [],
      "source": [
        "t = 10, 20.5, Decimal('30.5')"
      ]
    },
    {
      "cell_type": "code",
      "execution_count": null,
      "metadata": {
        "id": "XWJ4LQiIQGjV",
        "outputId": "a9938d58-9208-406f-a8fc-4bb7fe05505c"
      },
      "outputs": [
        {
          "data": {
            "text/plain": [
              "(10, Decimal('30.5'))"
            ]
          },
          "execution_count": 20,
          "metadata": {},
          "output_type": "execute_result"
        }
      ],
      "source": [
        "min(t), max(t)"
      ]
    },
    {
      "cell_type": "code",
      "execution_count": null,
      "metadata": {
        "id": "WmeX0XXbQGjV",
        "outputId": "0892576e-4130-438e-f646-20db52374178"
      },
      "outputs": [
        {
          "ename": "TypeError",
          "evalue": "'<' not supported between instances of 'int' and 'str'",
          "output_type": "error",
          "traceback": [
            "\u001b[1;31m---------------------------------------------------------------------------\u001b[0m",
            "\u001b[1;31mTypeError\u001b[0m                                 Traceback (most recent call last)",
            "\u001b[1;32m<ipython-input-21-983eac063887>\u001b[0m in \u001b[0;36m<module>\u001b[1;34m()\u001b[0m\n\u001b[0;32m      1\u001b[0m \u001b[0mt\u001b[0m \u001b[1;33m=\u001b[0m \u001b[1;33m[\u001b[0m\u001b[1;34m'a'\u001b[0m\u001b[1;33m,\u001b[0m \u001b[1;36m10\u001b[0m\u001b[1;33m,\u001b[0m \u001b[1;36m1000\u001b[0m\u001b[1;33m]\u001b[0m\u001b[1;33m\u001b[0m\u001b[0m\n\u001b[1;32m----> 2\u001b[1;33m \u001b[0mmin\u001b[0m\u001b[1;33m(\u001b[0m\u001b[0mt\u001b[0m\u001b[1;33m)\u001b[0m\u001b[1;33m\u001b[0m\u001b[0m\n\u001b[0m",
            "\u001b[1;31mTypeError\u001b[0m: '<' not supported between instances of 'int' and 'str'"
          ]
        }
      ],
      "source": [
        "t = ['a', 10, 1000]\n",
        "min(t)"
      ]
    },
    {
      "cell_type": "markdown",
      "metadata": {
        "id": "OAOsQ1esQGjV"
      },
      "source": [
        "Even `range` objects support `min` and `max`:"
      ]
    },
    {
      "cell_type": "code",
      "execution_count": null,
      "metadata": {
        "id": "JB335mR9QGjV",
        "outputId": "4345be85-53d0-45d0-8eda-16776cd52421"
      },
      "outputs": [
        {
          "data": {
            "text/plain": [
              "(10, 199)"
            ]
          },
          "execution_count": 22,
          "metadata": {},
          "output_type": "execute_result"
        }
      ],
      "source": [
        "r = range(10, 200)\n",
        "min(r), max(r)"
      ]
    },
    {
      "cell_type": "markdown",
      "metadata": {
        "id": "mPI8CPziQGjW"
      },
      "source": [
        "#### Concatenation"
      ]
    },
    {
      "cell_type": "markdown",
      "metadata": {
        "id": "u7YO4xBgQGjW"
      },
      "source": [
        "We can **concatenate** sequences using the `+` operator:"
      ]
    },
    {
      "cell_type": "code",
      "execution_count": null,
      "metadata": {
        "id": "Yv5T4S7rQGjW",
        "outputId": "b8efd908-f029-46f3-d122-c63a5fb23b96"
      },
      "outputs": [
        {
          "data": {
            "text/plain": [
              "[1, 2, 3, 4, 5, 6]"
            ]
          },
          "execution_count": 23,
          "metadata": {},
          "output_type": "execute_result"
        }
      ],
      "source": [
        "[1, 2, 3] + [4, 5, 6]"
      ]
    },
    {
      "cell_type": "code",
      "execution_count": null,
      "metadata": {
        "id": "D8BxXU-EQGjW",
        "outputId": "784cae47-6d02-4d04-d570-f61424c35ca0"
      },
      "outputs": [
        {
          "data": {
            "text/plain": [
              "(1, 2, 3, 4, 5, 6)"
            ]
          },
          "execution_count": 24,
          "metadata": {},
          "output_type": "execute_result"
        }
      ],
      "source": [
        "(1, 2, 3) + (4, 5, 6)"
      ]
    },
    {
      "cell_type": "markdown",
      "metadata": {
        "id": "_ZwVWM5IQGjW"
      },
      "source": [
        "Note that the type of the concatenated result is the same as the type of the sequences being concatenated, so concatenating sequences of varying types will not work:"
      ]
    },
    {
      "cell_type": "code",
      "execution_count": null,
      "metadata": {
        "id": "04_sNON3QGjW",
        "outputId": "73efb0f3-d16c-4736-f82c-984d97ce0e7f"
      },
      "outputs": [
        {
          "ename": "TypeError",
          "evalue": "can only concatenate tuple (not \"list\") to tuple",
          "output_type": "error",
          "traceback": [
            "\u001b[1;31m---------------------------------------------------------------------------\u001b[0m",
            "\u001b[1;31mTypeError\u001b[0m                                 Traceback (most recent call last)",
            "\u001b[1;32m<ipython-input-25-67a9e2ed8695>\u001b[0m in \u001b[0;36m<module>\u001b[1;34m()\u001b[0m\n\u001b[1;32m----> 1\u001b[1;33m \u001b[1;33m(\u001b[0m\u001b[1;36m1\u001b[0m\u001b[1;33m,\u001b[0m \u001b[1;36m2\u001b[0m\u001b[1;33m,\u001b[0m \u001b[1;36m3\u001b[0m\u001b[1;33m)\u001b[0m \u001b[1;33m+\u001b[0m \u001b[1;33m[\u001b[0m\u001b[1;36m4\u001b[0m\u001b[1;33m,\u001b[0m \u001b[1;36m5\u001b[0m\u001b[1;33m,\u001b[0m \u001b[1;36m6\u001b[0m\u001b[1;33m]\u001b[0m\u001b[1;33m\u001b[0m\u001b[0m\n\u001b[0m",
            "\u001b[1;31mTypeError\u001b[0m: can only concatenate tuple (not \"list\") to tuple"
          ]
        }
      ],
      "source": [
        "(1, 2, 3) + [4, 5, 6]"
      ]
    },
    {
      "cell_type": "code",
      "execution_count": null,
      "metadata": {
        "id": "_frV0pKTQGjZ",
        "outputId": "f4c4c708-1736-483b-e82b-6daad6d3c811"
      },
      "outputs": [
        {
          "ename": "TypeError",
          "evalue": "must be str, not list",
          "output_type": "error",
          "traceback": [
            "\u001b[1;31m---------------------------------------------------------------------------\u001b[0m",
            "\u001b[1;31mTypeError\u001b[0m                                 Traceback (most recent call last)",
            "\u001b[1;32m<ipython-input-26-8cbdd441adc1>\u001b[0m in \u001b[0;36m<module>\u001b[1;34m()\u001b[0m\n\u001b[1;32m----> 1\u001b[1;33m \u001b[1;34m'abc'\u001b[0m \u001b[1;33m+\u001b[0m \u001b[1;33m[\u001b[0m\u001b[1;34m'd'\u001b[0m\u001b[1;33m,\u001b[0m \u001b[1;34m'e'\u001b[0m\u001b[1;33m,\u001b[0m \u001b[1;34m'f'\u001b[0m\u001b[1;33m]\u001b[0m\u001b[1;33m\u001b[0m\u001b[0m\n\u001b[0m",
            "\u001b[1;31mTypeError\u001b[0m: must be str, not list"
          ]
        }
      ],
      "source": [
        "'abc' + ['d', 'e', 'f']"
      ]
    },
    {
      "cell_type": "markdown",
      "metadata": {
        "id": "N1DaUUbwQGjZ"
      },
      "source": [
        "Note: if you really want to concatenate varying types you'll have to transform them to a common type first:"
      ]
    },
    {
      "cell_type": "code",
      "execution_count": null,
      "metadata": {
        "id": "ZcNWl6E6QGjZ",
        "outputId": "24aba61f-57cf-4919-bbb7-7857b59e674b"
      },
      "outputs": [
        {
          "data": {
            "text/plain": [
              "(1, 2, 3, 4, 5, 6)"
            ]
          },
          "execution_count": 27,
          "metadata": {},
          "output_type": "execute_result"
        }
      ],
      "source": [
        "(1, 2, 3) + tuple([4, 5, 6])"
      ]
    },
    {
      "cell_type": "code",
      "execution_count": null,
      "metadata": {
        "id": "y6myyJvoQGjZ",
        "outputId": "289304c7-9738-4e49-9b84-10a68d82869e"
      },
      "outputs": [
        {
          "data": {
            "text/plain": [
              "('a', 'b', 'c', 'd', 'e', 'f')"
            ]
          },
          "execution_count": 28,
          "metadata": {},
          "output_type": "execute_result"
        }
      ],
      "source": [
        "tuple('abc') + ('d', 'e', 'f')"
      ]
    },
    {
      "cell_type": "code",
      "execution_count": null,
      "metadata": {
        "id": "dm0N0K7uQGjZ",
        "outputId": "5e6536cf-fcdf-41ff-ea44-9e9c1e88ebb4"
      },
      "outputs": [
        {
          "data": {
            "text/plain": [
              "'abcdef'"
            ]
          },
          "execution_count": 29,
          "metadata": {},
          "output_type": "execute_result"
        }
      ],
      "source": [
        "''.join(tuple('abc') + ('d', 'e', 'f'))"
      ]
    },
    {
      "cell_type": "markdown",
      "metadata": {
        "id": "J3gsFyVMQGjZ"
      },
      "source": [
        "#### Repetition"
      ]
    },
    {
      "cell_type": "markdown",
      "metadata": {
        "id": "y5vvJSoCQGja"
      },
      "source": [
        "Most sequence types also support **repetition**, which is essentially concatenating the same sequence an integer number of times:"
      ]
    },
    {
      "cell_type": "code",
      "execution_count": null,
      "metadata": {
        "id": "Gfe6r_iGQGja",
        "outputId": "2710732e-67d9-4650-ced4-8245cb0df3f7"
      },
      "outputs": [
        {
          "data": {
            "text/plain": [
              "'abcabcabcabcabc'"
            ]
          },
          "execution_count": 30,
          "metadata": {},
          "output_type": "execute_result"
        }
      ],
      "source": [
        "'abc' * 5"
      ]
    },
    {
      "cell_type": "code",
      "execution_count": null,
      "metadata": {
        "id": "r4rFtUgIQGja",
        "outputId": "faf84ea5-49b1-4c03-db2b-053f92cf3ddd"
      },
      "outputs": [
        {
          "data": {
            "text/plain": [
              "[1, 2, 3, 1, 2, 3, 1, 2, 3, 1, 2, 3, 1, 2, 3]"
            ]
          },
          "execution_count": 31,
          "metadata": {},
          "output_type": "execute_result"
        }
      ],
      "source": [
        "[1, 2, 3] * 5"
      ]
    },
    {
      "cell_type": "markdown",
      "metadata": {
        "id": "2DIG4MxVQGja"
      },
      "source": [
        "We'll come back to some caveats of concatenation and repetition in a bit."
      ]
    },
    {
      "cell_type": "markdown",
      "metadata": {
        "id": "7W8RwRrkQGja"
      },
      "source": [
        "#### Finding things in Sequences"
      ]
    },
    {
      "cell_type": "markdown",
      "metadata": {
        "id": "mZazFI4JQGja"
      },
      "source": [
        "We can find the index of the occurrence of an element in a sequence:"
      ]
    },
    {
      "cell_type": "code",
      "execution_count": null,
      "metadata": {
        "collapsed": true,
        "jupyter": {
          "outputs_hidden": true
        },
        "id": "7xqMdUmnQGja"
      },
      "outputs": [],
      "source": [
        "s = \"gnu's not unix\""
      ]
    },
    {
      "cell_type": "code",
      "execution_count": null,
      "metadata": {
        "id": "pcU1cwXQQGja",
        "outputId": "86bae0ae-fb1d-41e0-f0df-6c5dba44d7a8"
      },
      "outputs": [
        {
          "data": {
            "text/plain": [
              "1"
            ]
          },
          "execution_count": 33,
          "metadata": {},
          "output_type": "execute_result"
        }
      ],
      "source": [
        "s.index('n')"
      ]
    },
    {
      "cell_type": "code",
      "execution_count": null,
      "metadata": {
        "id": "88ysuxFBQGjb",
        "outputId": "adb54c9b-f63d-4c47-a857-e5188da54d3a"
      },
      "outputs": [
        {
          "data": {
            "text/plain": [
              "(1, 6, 11)"
            ]
          },
          "execution_count": 34,
          "metadata": {},
          "output_type": "execute_result"
        }
      ],
      "source": [
        "s.index('n', 1), s.index('n', 2), s.index('n', 8)"
      ]
    },
    {
      "cell_type": "markdown",
      "metadata": {
        "id": "mjaDIB6SQGjb"
      },
      "source": [
        "An exception is raised of the element is not found, so you'll want to catch it if you don't want your app to crash:"
      ]
    },
    {
      "cell_type": "code",
      "execution_count": null,
      "metadata": {
        "id": "ubh5apAuQGjb",
        "outputId": "39f03fbd-833c-499c-f524-004e76d3f701"
      },
      "outputs": [
        {
          "ename": "ValueError",
          "evalue": "substring not found",
          "output_type": "error",
          "traceback": [
            "\u001b[1;31m---------------------------------------------------------------------------\u001b[0m",
            "\u001b[1;31mValueError\u001b[0m                                Traceback (most recent call last)",
            "\u001b[1;32m<ipython-input-35-d038ca109973>\u001b[0m in \u001b[0;36m<module>\u001b[1;34m()\u001b[0m\n\u001b[1;32m----> 1\u001b[1;33m \u001b[0ms\u001b[0m\u001b[1;33m.\u001b[0m\u001b[0mindex\u001b[0m\u001b[1;33m(\u001b[0m\u001b[1;34m'n'\u001b[0m\u001b[1;33m,\u001b[0m \u001b[1;36m13\u001b[0m\u001b[1;33m)\u001b[0m\u001b[1;33m\u001b[0m\u001b[0m\n\u001b[0m",
            "\u001b[1;31mValueError\u001b[0m: substring not found"
          ]
        }
      ],
      "source": [
        "s.index('n', 13)"
      ]
    },
    {
      "cell_type": "code",
      "execution_count": null,
      "metadata": {
        "id": "g_MK3rn2QGjb",
        "outputId": "0e3e382c-283a-4cd8-d2b4-33dd9321951a"
      },
      "outputs": [
        {
          "name": "stdout",
          "output_type": "stream",
          "text": [
            "not found\n"
          ]
        }
      ],
      "source": [
        "try:\n",
        "    idx = s.index('n', 13)\n",
        "except ValueError:\n",
        "    print('not found')"
      ]
    },
    {
      "cell_type": "markdown",
      "metadata": {
        "id": "PVY2b7SMQGjb"
      },
      "source": [
        "Note that these methods of finding objects in sequences do not assume that the objects in the sequence are ordered in any way. These are basically searches that iterate over the sequence until they find (or not) the requested element.\n",
        "\n",
        "If you have a sorted sequence, then other search techniques are available - such as binary searches. I'll cover some of these topics in the extras section of this course."
      ]
    },
    {
      "cell_type": "markdown",
      "metadata": {
        "id": "7VbPmJ85QGjb"
      },
      "source": [
        "#### Slicing"
      ]
    },
    {
      "cell_type": "markdown",
      "metadata": {
        "id": "lRv17UYrQGjc"
      },
      "source": [
        "We'll come back to slicing in a later lecture, but sequence types generally support slicing, even ranges (as of Python 3.2). Just like concatenation, slices will return the same type as the sequence being sliced:"
      ]
    },
    {
      "cell_type": "code",
      "execution_count": null,
      "metadata": {
        "collapsed": true,
        "jupyter": {
          "outputs_hidden": true
        },
        "id": "AREM3dg-QGjc"
      },
      "outputs": [],
      "source": [
        "s = 'python'\n",
        "l = [1, 2, 3, 4, 5, 6, 7, 8, 9, 10]"
      ]
    },
    {
      "cell_type": "code",
      "execution_count": null,
      "metadata": {
        "id": "cA4q9sFdQGjc",
        "outputId": "09e5bb02-353c-46e0-884a-be13a856a533"
      },
      "outputs": [
        {
          "data": {
            "text/plain": [
              "('pyt', 'on')"
            ]
          },
          "execution_count": 38,
          "metadata": {},
          "output_type": "execute_result"
        }
      ],
      "source": [
        "s[0:3], s[4:6]"
      ]
    },
    {
      "cell_type": "code",
      "execution_count": null,
      "metadata": {
        "id": "2IvtFNh8QGjc",
        "outputId": "724ccbb0-43a8-4639-8626-31744f7243a2"
      },
      "outputs": [
        {
          "data": {
            "text/plain": [
              "([1, 2, 3], [5, 6])"
            ]
          },
          "execution_count": 39,
          "metadata": {},
          "output_type": "execute_result"
        }
      ],
      "source": [
        "l[0:3], l[4:6]"
      ]
    },
    {
      "cell_type": "markdown",
      "metadata": {
        "id": "dgSeuee_QGjc"
      },
      "source": [
        "It's ok to extend ranges past the bounds of the sequence:"
      ]
    },
    {
      "cell_type": "code",
      "execution_count": null,
      "metadata": {
        "id": "kaz3cFdBQGjc",
        "outputId": "91fd02f9-c2f3-4434-cb1c-983b6aa27f3d"
      },
      "outputs": [
        {
          "data": {
            "text/plain": [
              "'on'"
            ]
          },
          "execution_count": 40,
          "metadata": {},
          "output_type": "execute_result"
        }
      ],
      "source": [
        "s[4:1000]"
      ]
    },
    {
      "cell_type": "markdown",
      "metadata": {
        "id": "n99SaflfQGjc"
      },
      "source": [
        "If your first argument in the slice is `0`, you can even omit it. Omitting the second argument means it will include all the remaining elements:"
      ]
    },
    {
      "cell_type": "code",
      "execution_count": null,
      "metadata": {
        "id": "m-atwFq6QGjc",
        "outputId": "2e15d0b5-fc04-427b-8d45-eab5bf82a679"
      },
      "outputs": [
        {
          "data": {
            "text/plain": [
              "('pyt', 'pyt')"
            ]
          },
          "execution_count": 41,
          "metadata": {},
          "output_type": "execute_result"
        }
      ],
      "source": [
        "s[0:3], s[:3]"
      ]
    },
    {
      "cell_type": "code",
      "execution_count": null,
      "metadata": {
        "id": "cAEcMmGOQGjc",
        "outputId": "a094e160-4a9b-4f66-ab9e-f0488e265143"
      },
      "outputs": [
        {
          "data": {
            "text/plain": [
              "('hon', 'hon', 'python')"
            ]
          },
          "execution_count": 42,
          "metadata": {},
          "output_type": "execute_result"
        }
      ],
      "source": [
        "s[3:1000], s[3:], s[:]"
      ]
    },
    {
      "cell_type": "markdown",
      "metadata": {
        "id": "iRaJ9b8MQGjd"
      },
      "source": [
        "We can even have extended slicing, which provides a start, stop and a step:"
      ]
    },
    {
      "cell_type": "code",
      "execution_count": null,
      "metadata": {
        "id": "e_oc8WeaQGjd",
        "outputId": "3364fc92-ab01-4c03-90ee-99572d86520b"
      },
      "outputs": [
        {
          "data": {
            "text/plain": [
              "('python', 'pytho', 'pto')"
            ]
          },
          "execution_count": 43,
          "metadata": {},
          "output_type": "execute_result"
        }
      ],
      "source": [
        "s, s[0:5], s[0:5:2]"
      ]
    },
    {
      "cell_type": "code",
      "execution_count": null,
      "metadata": {
        "id": "Lmx8GC31QGjd",
        "outputId": "0fb4e1d1-23e3-43e6-bdc2-4b4c5f9435b2"
      },
      "outputs": [
        {
          "data": {
            "text/plain": [
              "('python', 'pto')"
            ]
          },
          "execution_count": 44,
          "metadata": {},
          "output_type": "execute_result"
        }
      ],
      "source": [
        "s, s[::2]"
      ]
    },
    {
      "cell_type": "markdown",
      "metadata": {
        "id": "zqfdg2dHQGjd"
      },
      "source": [
        "Technically we can also use negative values in slices, including extended slices (more on that later):"
      ]
    },
    {
      "cell_type": "code",
      "execution_count": null,
      "metadata": {
        "id": "df_l0ipoQGjd",
        "outputId": "89209949-d1cb-425b-f4ec-5a8d3f57718e"
      },
      "outputs": [
        {
          "data": {
            "text/plain": [
              "('python', 'ho', 'nohtyp')"
            ]
          },
          "execution_count": 45,
          "metadata": {},
          "output_type": "execute_result"
        }
      ],
      "source": [
        "s, s[-3:-1], s[::-1]"
      ]
    },
    {
      "cell_type": "code",
      "execution_count": null,
      "metadata": {
        "collapsed": true,
        "jupyter": {
          "outputs_hidden": true
        },
        "id": "tMY8C_I0QGjd"
      },
      "outputs": [],
      "source": [
        "r = range(11)  # numbers from 0 to 10 (inclusive)"
      ]
    },
    {
      "cell_type": "code",
      "execution_count": null,
      "metadata": {
        "id": "MS7xzZeAQGje",
        "outputId": "c6aa3d77-1bdc-4482-b007-4ee879804f43"
      },
      "outputs": [
        {
          "name": "stdout",
          "output_type": "stream",
          "text": [
            "range(0, 11)\n",
            "[0, 1, 2, 3, 4, 5, 6, 7, 8, 9, 10]\n"
          ]
        }
      ],
      "source": [
        "print(r)\n",
        "print(list(r))"
      ]
    },
    {
      "cell_type": "code",
      "execution_count": null,
      "metadata": {
        "id": "JA61504jQGje",
        "outputId": "6da13a0f-779d-4227-a88b-db878b3bb6b1"
      },
      "outputs": [
        {
          "name": "stdout",
          "output_type": "stream",
          "text": [
            "range(0, 5)\n"
          ]
        }
      ],
      "source": [
        "print(r[:5])"
      ]
    },
    {
      "cell_type": "code",
      "execution_count": null,
      "metadata": {
        "id": "_VZ6d9g6QGje",
        "outputId": "7db6ee0e-4330-4de4-84dd-eb3307c622f1"
      },
      "outputs": [
        {
          "name": "stdout",
          "output_type": "stream",
          "text": [
            "[0, 1, 2, 3, 4]\n"
          ]
        }
      ],
      "source": [
        "print(list(r[:5]))"
      ]
    },
    {
      "cell_type": "markdown",
      "metadata": {
        "id": "iEaGYaOvQGje"
      },
      "source": [
        "As you can see, slicing a range returns a range object as well, as expected."
      ]
    },
    {
      "cell_type": "markdown",
      "metadata": {
        "id": "2w13kEhUQGje"
      },
      "source": [
        "#### Hashing"
      ]
    },
    {
      "cell_type": "markdown",
      "metadata": {
        "id": "7GFfbodBQGje"
      },
      "source": [
        "Immutable sequences generally support a `hash` method that we'll discuss in detail in the section on mapping types:"
      ]
    },
    {
      "cell_type": "code",
      "execution_count": 17,
      "metadata": {
        "id": "MYZRNNCnQGje",
        "outputId": "a687cc4d-309f-4381-97e2-a7d2c8a028a6",
        "colab": {
          "base_uri": "https://localhost:8080/"
        }
      },
      "outputs": [
        {
          "output_type": "execute_result",
          "data": {
            "text/plain": [
              "529344067295497451"
            ]
          },
          "metadata": {},
          "execution_count": 17
        }
      ],
      "source": [
        "l = (1, 2, 3)\n",
        "hash(l)"
      ]
    },
    {
      "cell_type": "code",
      "execution_count": 18,
      "metadata": {
        "id": "cREndkkPQGje",
        "outputId": "b0575e67-ad50-4b8f-ce33-aeff7a108998",
        "colab": {
          "base_uri": "https://localhost:8080/"
        }
      },
      "outputs": [
        {
          "output_type": "execute_result",
          "data": {
            "text/plain": [
              "-5915174997186270333"
            ]
          },
          "metadata": {},
          "execution_count": 18
        }
      ],
      "source": [
        "s = '123'\n",
        "hash(s)"
      ]
    },
    {
      "cell_type": "code",
      "execution_count": 19,
      "metadata": {
        "id": "7_Kg39KuQGje",
        "outputId": "74093e38-745d-4e53-eb16-815cbc6ad8ce",
        "colab": {
          "base_uri": "https://localhost:8080/"
        }
      },
      "outputs": [
        {
          "output_type": "execute_result",
          "data": {
            "text/plain": [
              "-7546101314042312252"
            ]
          },
          "metadata": {},
          "execution_count": 19
        }
      ],
      "source": [
        "r = range(10)\n",
        "hash(r)"
      ]
    },
    {
      "cell_type": "markdown",
      "metadata": {
        "id": "gspNd5R2QGjf"
      },
      "source": [
        "But mutable sequences (and mutable types in general) do not:"
      ]
    },
    {
      "cell_type": "code",
      "execution_count": 20,
      "metadata": {
        "collapsed": true,
        "jupyter": {
          "outputs_hidden": true
        },
        "id": "-sCy6_d_QGjf"
      },
      "outputs": [],
      "source": [
        "l = [1, 2, 3]"
      ]
    },
    {
      "cell_type": "code",
      "execution_count": 22,
      "metadata": {
        "id": "HUWBREUpQGjf",
        "outputId": "63852efc-3f69-417d-af84-65c0482ed84f",
        "colab": {
          "base_uri": "https://localhost:8080/",
          "height": 165
        }
      },
      "outputs": [
        {
          "output_type": "error",
          "ename": "TypeError",
          "evalue": "ignored",
          "traceback": [
            "\u001b[0;31m---------------------------------------------------------------------------\u001b[0m",
            "\u001b[0;31mTypeError\u001b[0m                                 Traceback (most recent call last)",
            "\u001b[0;32m<ipython-input-22-7a4e953a7f49>\u001b[0m in \u001b[0;36m<module>\u001b[0;34m\u001b[0m\n\u001b[0;32m----> 1\u001b[0;31m \u001b[0mhash\u001b[0m\u001b[0;34m(\u001b[0m\u001b[0ml\u001b[0m\u001b[0;34m)\u001b[0m\u001b[0;34m\u001b[0m\u001b[0;34m\u001b[0m\u001b[0m\n\u001b[0m",
            "\u001b[0;31mTypeError\u001b[0m: unhashable type: 'list'"
          ]
        }
      ],
      "source": [
        "hash(l)"
      ]
    },
    {
      "cell_type": "markdown",
      "metadata": {
        "id": "jD_IR9hHQGjf"
      },
      "source": [
        "Note also that a hashable sequence, is no longer hashable if one (or more) of it's elements are not hashable:"
      ]
    },
    {
      "cell_type": "code",
      "execution_count": 23,
      "metadata": {
        "id": "8H9NI1huQGjf",
        "outputId": "f0046732-8582-4315-f4c5-e21e5c8e9335",
        "colab": {
          "base_uri": "https://localhost:8080/",
          "height": 182
        }
      },
      "outputs": [
        {
          "output_type": "error",
          "ename": "TypeError",
          "evalue": "ignored",
          "traceback": [
            "\u001b[0;31m---------------------------------------------------------------------------\u001b[0m",
            "\u001b[0;31mTypeError\u001b[0m                                 Traceback (most recent call last)",
            "\u001b[0;32m<ipython-input-23-756218b5b345>\u001b[0m in \u001b[0;36m<module>\u001b[0;34m\u001b[0m\n\u001b[1;32m      1\u001b[0m \u001b[0mt\u001b[0m \u001b[0;34m=\u001b[0m \u001b[0;34m(\u001b[0m\u001b[0;36m1\u001b[0m\u001b[0;34m,\u001b[0m \u001b[0;36m2\u001b[0m\u001b[0;34m,\u001b[0m \u001b[0;34m[\u001b[0m\u001b[0;36m10\u001b[0m\u001b[0;34m,\u001b[0m \u001b[0;36m20\u001b[0m\u001b[0;34m]\u001b[0m\u001b[0;34m)\u001b[0m\u001b[0;34m\u001b[0m\u001b[0;34m\u001b[0m\u001b[0m\n\u001b[0;32m----> 2\u001b[0;31m \u001b[0mhash\u001b[0m\u001b[0;34m(\u001b[0m\u001b[0mt\u001b[0m\u001b[0;34m)\u001b[0m\u001b[0;34m\u001b[0m\u001b[0;34m\u001b[0m\u001b[0m\n\u001b[0m",
            "\u001b[0;31mTypeError\u001b[0m: unhashable type: 'list'"
          ]
        }
      ],
      "source": [
        "t = (1, 2, [10, 20])\n",
        "hash(t)"
      ]
    },
    {
      "cell_type": "markdown",
      "metadata": {
        "id": "lLFOllNPQGjf"
      },
      "source": [
        "But this would work:"
      ]
    },
    {
      "cell_type": "code",
      "execution_count": 24,
      "metadata": {
        "id": "p3-pThlWQGjf",
        "outputId": "f5e91a91-b1b0-466d-e1db-34f47cdcf860",
        "colab": {
          "base_uri": "https://localhost:8080/"
        }
      },
      "outputs": [
        {
          "output_type": "execute_result",
          "data": {
            "text/plain": [
              "5617660316040751533"
            ]
          },
          "metadata": {},
          "execution_count": 24
        }
      ],
      "source": [
        "t = ('python', (1, 2, 3))\n",
        "hash(t)"
      ]
    },
    {
      "cell_type": "markdown",
      "metadata": {
        "id": "XwX8kuiNQGjf"
      },
      "source": [
        "In general, immutable types are likely hashable, while mutable types are not. So numbers, strings, tuples, etc are hashable, but lists and sets are not:"
      ]
    },
    {
      "cell_type": "code",
      "execution_count": null,
      "metadata": {
        "id": "_NgZ4z0MQGjg",
        "outputId": "6dc74f03-10a4-495f-90ab-a9ccff8c9dd9"
      },
      "outputs": [
        {
          "data": {
            "text/plain": [
              "1152921504606846986"
            ]
          },
          "execution_count": 57,
          "metadata": {},
          "output_type": "execute_result"
        }
      ],
      "source": [
        "from decimal import Decimal\n",
        "d = Decimal(10.5)\n",
        "hash(d)"
      ]
    },
    {
      "cell_type": "markdown",
      "metadata": {
        "id": "8is7kj0XQGjg"
      },
      "source": [
        "Sets are not hashable:"
      ]
    },
    {
      "cell_type": "code",
      "execution_count": null,
      "metadata": {
        "id": "w71TmIpHQGjg",
        "outputId": "3251a089-4aac-4557-d357-76add3c8df50"
      },
      "outputs": [
        {
          "ename": "TypeError",
          "evalue": "unhashable type: 'set'",
          "output_type": "error",
          "traceback": [
            "\u001b[1;31m---------------------------------------------------------------------------\u001b[0m",
            "\u001b[1;31mTypeError\u001b[0m                                 Traceback (most recent call last)",
            "\u001b[1;32m<ipython-input-58-2216931a6bc4>\u001b[0m in \u001b[0;36m<module>\u001b[1;34m()\u001b[0m\n\u001b[0;32m      1\u001b[0m \u001b[0ms\u001b[0m \u001b[1;33m=\u001b[0m \u001b[1;33m{\u001b[0m\u001b[1;36m1\u001b[0m\u001b[1;33m,\u001b[0m \u001b[1;36m2\u001b[0m\u001b[1;33m,\u001b[0m \u001b[1;36m3\u001b[0m\u001b[1;33m}\u001b[0m\u001b[1;33m\u001b[0m\u001b[0m\n\u001b[1;32m----> 2\u001b[1;33m \u001b[0mhash\u001b[0m\u001b[1;33m(\u001b[0m\u001b[0ms\u001b[0m\u001b[1;33m)\u001b[0m\u001b[1;33m\u001b[0m\u001b[0m\n\u001b[0m",
            "\u001b[1;31mTypeError\u001b[0m: unhashable type: 'set'"
          ]
        }
      ],
      "source": [
        "s = {1, 2, 3}\n",
        "hash(s)"
      ]
    },
    {
      "cell_type": "markdown",
      "metadata": {
        "id": "0ZTLoePcQGjg"
      },
      "source": [
        "But frozensets, an immutable variant of the set, are:"
      ]
    },
    {
      "cell_type": "code",
      "execution_count": null,
      "metadata": {
        "collapsed": true,
        "jupyter": {
          "outputs_hidden": true
        },
        "id": "c2PU1tw4QGjg"
      },
      "outputs": [],
      "source": [
        "s = frozenset({1, 2, 3})"
      ]
    },
    {
      "cell_type": "code",
      "execution_count": null,
      "metadata": {
        "scrolled": true,
        "id": "H69VgnoUQGjg",
        "outputId": "dc9cc3a8-5df5-43db-b209-3047c2e006f1"
      },
      "outputs": [
        {
          "data": {
            "text/plain": [
              "-7699079583225461316"
            ]
          },
          "execution_count": 60,
          "metadata": {},
          "output_type": "execute_result"
        }
      ],
      "source": [
        "hash(s)"
      ]
    },
    {
      "cell_type": "markdown",
      "metadata": {
        "id": "ApPX-9KNQGjg"
      },
      "source": [
        "#### Caveats with Concatenation and Repetition"
      ]
    },
    {
      "cell_type": "markdown",
      "metadata": {
        "id": "6S9byFp4QGjg"
      },
      "source": [
        "Consider this:"
      ]
    },
    {
      "cell_type": "code",
      "execution_count": null,
      "metadata": {
        "collapsed": true,
        "jupyter": {
          "outputs_hidden": true
        },
        "id": "3dEJX1UcQGjh"
      },
      "outputs": [],
      "source": [
        "x = [2000]"
      ]
    },
    {
      "cell_type": "code",
      "execution_count": null,
      "metadata": {
        "id": "70JOlRTHQGjh",
        "outputId": "2b8b9792-f0a4-49d0-822b-fa8a3fd7dcb9"
      },
      "outputs": [
        {
          "data": {
            "text/plain": [
              "2177520743920"
            ]
          },
          "execution_count": 62,
          "metadata": {},
          "output_type": "execute_result"
        }
      ],
      "source": [
        "id(x[0])"
      ]
    },
    {
      "cell_type": "code",
      "execution_count": null,
      "metadata": {
        "collapsed": true,
        "jupyter": {
          "outputs_hidden": true
        },
        "id": "TS7djwqyQGjh"
      },
      "outputs": [],
      "source": [
        "l = x + x"
      ]
    },
    {
      "cell_type": "code",
      "execution_count": null,
      "metadata": {
        "id": "dUI5YnpOQGjh",
        "outputId": "3b6f7621-bd2b-4ac5-c7d8-24f32d4f2e29"
      },
      "outputs": [
        {
          "data": {
            "text/plain": [
              "[2000, 2000]"
            ]
          },
          "execution_count": 64,
          "metadata": {},
          "output_type": "execute_result"
        }
      ],
      "source": [
        "l"
      ]
    },
    {
      "cell_type": "code",
      "execution_count": null,
      "metadata": {
        "id": "i61zr6-SQGjh",
        "outputId": "8603554b-41ab-4725-93e9-b46df2d40487"
      },
      "outputs": [
        {
          "data": {
            "text/plain": [
              "(2177520743920, 2177520743920)"
            ]
          },
          "execution_count": 65,
          "metadata": {},
          "output_type": "execute_result"
        }
      ],
      "source": [
        "id(l[0]), id(l[1])"
      ]
    },
    {
      "cell_type": "markdown",
      "metadata": {
        "id": "vwNRFVo-QGjh"
      },
      "source": [
        "As expected, the objects in `l[0]` and `l[1]` are the same.\n",
        "\n",
        "Could also use:"
      ]
    },
    {
      "cell_type": "code",
      "execution_count": null,
      "metadata": {
        "id": "qx52HG7DQGjh",
        "outputId": "144a89fc-c5a5-43c6-c5f6-75958f0d7d07"
      },
      "outputs": [
        {
          "data": {
            "text/plain": [
              "True"
            ]
          },
          "execution_count": 66,
          "metadata": {},
          "output_type": "execute_result"
        }
      ],
      "source": [
        "l[0] is l[1]"
      ]
    },
    {
      "cell_type": "markdown",
      "metadata": {
        "id": "A_9dl4DGQGjh"
      },
      "source": [
        "This is not a big deal if the objects being concatenated are immutable. But if they are mutable:"
      ]
    },
    {
      "cell_type": "code",
      "execution_count": null,
      "metadata": {
        "collapsed": true,
        "jupyter": {
          "outputs_hidden": true
        },
        "id": "_aRR8s0OQGji"
      },
      "outputs": [],
      "source": [
        "x = [ [0, 0] ]\n",
        "l = x + x"
      ]
    },
    {
      "cell_type": "code",
      "execution_count": null,
      "metadata": {
        "id": "600plNJlQGji",
        "outputId": "a0a69f27-1c05-4e1b-a2be-5dc394e2342c"
      },
      "outputs": [
        {
          "data": {
            "text/plain": [
              "[[0, 0], [0, 0]]"
            ]
          },
          "execution_count": 68,
          "metadata": {},
          "output_type": "execute_result"
        }
      ],
      "source": [
        "l"
      ]
    },
    {
      "cell_type": "code",
      "execution_count": null,
      "metadata": {
        "id": "XeXam6BpQGji",
        "outputId": "5aca0c5c-64ee-433d-c1fd-61d4352a9c9d"
      },
      "outputs": [
        {
          "data": {
            "text/plain": [
              "True"
            ]
          },
          "execution_count": 69,
          "metadata": {},
          "output_type": "execute_result"
        }
      ],
      "source": [
        "l[0] is l[1]"
      ]
    },
    {
      "cell_type": "markdown",
      "metadata": {
        "id": "RCdZm2EOQGji"
      },
      "source": [
        "And then we have the following:"
      ]
    },
    {
      "cell_type": "code",
      "execution_count": null,
      "metadata": {
        "collapsed": true,
        "jupyter": {
          "outputs_hidden": true
        },
        "id": "BVuXYtHUQGji"
      },
      "outputs": [],
      "source": [
        "l[0][0] = 100"
      ]
    },
    {
      "cell_type": "code",
      "execution_count": null,
      "metadata": {
        "id": "-9pwfvJgQGji",
        "outputId": "947124ba-8f99-40ed-cc8c-bb338370b1c2"
      },
      "outputs": [
        {
          "data": {
            "text/plain": [
              "[100, 0]"
            ]
          },
          "execution_count": 71,
          "metadata": {},
          "output_type": "execute_result"
        }
      ],
      "source": [
        "l[0]"
      ]
    },
    {
      "cell_type": "code",
      "execution_count": null,
      "metadata": {
        "id": "wo2YTMn5QGji",
        "outputId": "19fc8c88-de81-40c2-e7ab-797ad1f00603"
      },
      "outputs": [
        {
          "data": {
            "text/plain": [
              "[[100, 0], [100, 0]]"
            ]
          },
          "execution_count": 72,
          "metadata": {},
          "output_type": "execute_result"
        }
      ],
      "source": [
        "l"
      ]
    },
    {
      "cell_type": "markdown",
      "metadata": {
        "id": "rvd8ngoRQGji"
      },
      "source": [
        "Notice how changing the 1st item of the 1st element also changed the 1st item of the second element."
      ]
    },
    {
      "cell_type": "markdown",
      "metadata": {
        "id": "f4dWtXRjQGji"
      },
      "source": [
        "While this seems fairly obvious when concatenating using the `+` operator as we have just done, the same actually happens with repetition and may not seem so obvious:"
      ]
    },
    {
      "cell_type": "code",
      "execution_count": null,
      "metadata": {
        "collapsed": true,
        "jupyter": {
          "outputs_hidden": true
        },
        "id": "zAvrH3faQGji"
      },
      "outputs": [],
      "source": [
        "x = [ [0, 0] ]"
      ]
    },
    {
      "cell_type": "code",
      "execution_count": null,
      "metadata": {
        "collapsed": true,
        "jupyter": {
          "outputs_hidden": true
        },
        "id": "OKOCZJosQGjj"
      },
      "outputs": [],
      "source": [
        "m = x * 3"
      ]
    },
    {
      "cell_type": "code",
      "execution_count": null,
      "metadata": {
        "id": "Z929DJVRQGjj",
        "outputId": "2e1794b4-b2fe-4471-b788-4d45d3c65b5b"
      },
      "outputs": [
        {
          "data": {
            "text/plain": [
              "[[0, 0], [0, 0], [0, 0]]"
            ]
          },
          "execution_count": 75,
          "metadata": {},
          "output_type": "execute_result"
        }
      ],
      "source": [
        "m"
      ]
    },
    {
      "cell_type": "code",
      "execution_count": null,
      "metadata": {
        "collapsed": true,
        "jupyter": {
          "outputs_hidden": true
        },
        "id": "GZT-wP7uQGjj"
      },
      "outputs": [],
      "source": [
        "m[0][0] = 100"
      ]
    },
    {
      "cell_type": "code",
      "execution_count": null,
      "metadata": {
        "id": "r7BDPoyFQGjj",
        "outputId": "9b127ab5-62d6-4ae9-ff5f-bc5ad18a11dd"
      },
      "outputs": [
        {
          "data": {
            "text/plain": [
              "[[100, 0], [100, 0], [100, 0]]"
            ]
          },
          "execution_count": 77,
          "metadata": {},
          "output_type": "execute_result"
        }
      ],
      "source": [
        "m"
      ]
    },
    {
      "cell_type": "markdown",
      "metadata": {
        "id": "LAFTGGDwQGjj"
      },
      "source": [
        "And in fact, even `x` changed:"
      ]
    },
    {
      "cell_type": "code",
      "execution_count": null,
      "metadata": {
        "id": "dk83gHDuQGjj",
        "outputId": "89fe9d4c-ab19-44c9-8f52-07cd59d04d9a"
      },
      "outputs": [
        {
          "data": {
            "text/plain": [
              "[[100, 0]]"
            ]
          },
          "execution_count": 78,
          "metadata": {},
          "output_type": "execute_result"
        }
      ],
      "source": [
        "x"
      ]
    },
    {
      "cell_type": "markdown",
      "metadata": {
        "id": "8VPXJ9JyQGjj"
      },
      "source": [
        "If you really want these repeated objects to be different objects, you'll have to copy them somehow. A simple list comprehensions would work well here:"
      ]
    },
    {
      "cell_type": "code",
      "execution_count": null,
      "metadata": {
        "collapsed": true,
        "jupyter": {
          "outputs_hidden": true
        },
        "id": "beVAEtbUQGjj"
      },
      "outputs": [],
      "source": [
        "x = [ [0, 0] ]\n",
        "m = [e.copy() for e in x*3]"
      ]
    },
    {
      "cell_type": "code",
      "execution_count": null,
      "metadata": {
        "id": "1gEl_5s4QGjj",
        "outputId": "6ea62167-4599-41df-c45a-6f71e0beb969"
      },
      "outputs": [
        {
          "data": {
            "text/plain": [
              "[[0, 0], [0, 0], [0, 0]]"
            ]
          },
          "execution_count": 80,
          "metadata": {},
          "output_type": "execute_result"
        }
      ],
      "source": [
        "m"
      ]
    },
    {
      "cell_type": "code",
      "execution_count": null,
      "metadata": {
        "collapsed": true,
        "jupyter": {
          "outputs_hidden": true
        },
        "id": "oEYHSF2fQGjj"
      },
      "outputs": [],
      "source": [
        "m[0][0] = 100"
      ]
    },
    {
      "cell_type": "code",
      "execution_count": null,
      "metadata": {
        "id": "YFGCnryBQGjk",
        "outputId": "8caf741f-e5b7-499a-e056-68dacae7a6b7"
      },
      "outputs": [
        {
          "data": {
            "text/plain": [
              "[[100, 0], [0, 0], [0, 0]]"
            ]
          },
          "execution_count": 82,
          "metadata": {},
          "output_type": "execute_result"
        }
      ],
      "source": [
        "m"
      ]
    },
    {
      "cell_type": "code",
      "execution_count": null,
      "metadata": {
        "id": "Bdgv9bLEQGjk",
        "outputId": "b7190641-c8bf-402d-846e-e549f6009d4b"
      },
      "outputs": [
        {
          "data": {
            "text/plain": [
              "[[0, 0]]"
            ]
          },
          "execution_count": 83,
          "metadata": {},
          "output_type": "execute_result"
        }
      ],
      "source": [
        "x"
      ]
    }
  ],
  "metadata": {
    "kernelspec": {
      "display_name": "Python 3 (ipykernel)",
      "language": "python",
      "name": "python3"
    },
    "language_info": {
      "codemirror_mode": {
        "name": "ipython",
        "version": 3
      },
      "file_extension": ".py",
      "mimetype": "text/x-python",
      "name": "python",
      "nbconvert_exporter": "python",
      "pygments_lexer": "ipython3",
      "version": "3.9.12"
    },
    "colab": {
      "provenance": [],
      "include_colab_link": true
    }
  },
  "nbformat": 4,
  "nbformat_minor": 0
}