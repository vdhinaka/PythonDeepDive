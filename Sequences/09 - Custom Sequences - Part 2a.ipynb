{
  "cells": [
    {
      "cell_type": "markdown",
      "metadata": {
        "id": "view-in-github",
        "colab_type": "text"
      },
      "source": [
        "<a href=\"https://colab.research.google.com/github/vdhinaka/PythonDeepDive/blob/master/Sequences/09%20-%20Custom%20Sequences%20-%20Part%202a.ipynb\" target=\"_parent\"><img src=\"https://colab.research.google.com/assets/colab-badge.svg\" alt=\"Open In Colab\"/></a>"
      ]
    },
    {
      "cell_type": "markdown",
      "metadata": {
        "id": "oe_NXI2CBx0Z"
      },
      "source": [
        "### Custom Sequences (Part 2a)"
      ]
    },
    {
      "cell_type": "markdown",
      "metadata": {
        "id": "98cQN_goBx0f"
      },
      "source": [
        "We have seen before how we could define our own custom sequence type by implementing the `__len__` and `__getitem__` methods.\n",
        "\n",
        "Here we are going to look at how to implement:\n",
        "* concatenation (`+`)\n",
        "* in-place concatenation (`+=`)\n",
        "* repetition (`*`)\n",
        "* in-place repetition (`*=`)\n",
        "* index assignment (`seq[i]=val`)\n",
        "* slice assignment (`seq[i:j]=iter` and `seq[i:j:k]=iter`)\n",
        "* append, extend, in, del, pop"
      ]
    },
    {
      "cell_type": "markdown",
      "metadata": {
        "id": "yaMDkeNlBx0g"
      },
      "source": [
        "#### The `+` and `+=` Operators"
      ]
    },
    {
      "cell_type": "markdown",
      "metadata": {
        "id": "TjXpUZnNBx0g"
      },
      "source": [
        "First we look at how we can overload the `+` and `+=` operators in a custom class in general. Then we'll look at how to use this in the context of sequences."
      ]
    },
    {
      "cell_type": "markdown",
      "metadata": {
        "id": "1chUxh2CBx0h"
      },
      "source": [
        "We use the special functions `__add__` and `__iadd__`.\n",
        "\n",
        "Just to see how those methods get called, we're actually going to implement them to just print out that they were called. As you can see, we can implement them however we want!"
      ]
    },
    {
      "cell_type": "code",
      "execution_count": null,
      "metadata": {
        "collapsed": true,
        "id": "cqeCOi4XBx0i"
      },
      "outputs": [],
      "source": [
        "class MyClass:\n",
        "    def __init__(self, name):\n",
        "        self.name = name\n",
        "        \n",
        "    def __repr__(self):\n",
        "        return f'MyClass(name={self.name})'\n",
        "    \n",
        "    def __add__(self, other):\n",
        "        print(f'You called + on {self} and {other}')\n",
        "        return 'Hello from __add__'\n",
        "        \n",
        "    def __iadd__(self, other):\n",
        "        print(f'You called += on {self} and {other}')\n",
        "        return 'Hello from __iadd__'"
      ]
    },
    {
      "cell_type": "code",
      "execution_count": null,
      "metadata": {
        "collapsed": true,
        "id": "0PJFevlcBx0j"
      },
      "outputs": [],
      "source": [
        "c1 = MyClass('instance 1')\n",
        "c2 = MyClass('instance 2')"
      ]
    },
    {
      "cell_type": "code",
      "execution_count": null,
      "metadata": {
        "id": "58NXzPp5Bx0k",
        "outputId": "c5f20157-940c-4113-e6fb-bad68b2f13c4"
      },
      "outputs": [
        {
          "name": "stdout",
          "output_type": "stream",
          "text": [
            "You called + on MyClass(name=instance 1) and MyClass(name=instance 2)\n"
          ]
        }
      ],
      "source": [
        "c3 = c1 + c2"
      ]
    },
    {
      "cell_type": "code",
      "execution_count": null,
      "metadata": {
        "id": "WqckW_QmBx0l",
        "outputId": "142677ee-54e5-4bb6-956d-9aa3cb1a9100"
      },
      "outputs": [
        {
          "data": {
            "text/plain": [
              "'Hello from __add__'"
            ]
          },
          "execution_count": 4,
          "metadata": {},
          "output_type": "execute_result"
        }
      ],
      "source": [
        "c3"
      ]
    },
    {
      "cell_type": "code",
      "execution_count": null,
      "metadata": {
        "id": "T_VHrmWmBx0l",
        "outputId": "1c061c27-e754-4a73-8810-4bb11dbd5572"
      },
      "outputs": [
        {
          "name": "stdout",
          "output_type": "stream",
          "text": [
            "You called += on MyClass(name=instance 1) and MyClass(name=instance 2)\n"
          ]
        }
      ],
      "source": [
        "c1 += c2"
      ]
    },
    {
      "cell_type": "code",
      "execution_count": null,
      "metadata": {
        "id": "QMkfF1ZPBx0m",
        "outputId": "81881c04-5944-4429-b98e-a5a80a943f8b"
      },
      "outputs": [
        {
          "data": {
            "text/plain": [
              "'Hello from __iadd__'"
            ]
          },
          "execution_count": 6,
          "metadata": {},
          "output_type": "execute_result"
        }
      ],
      "source": [
        "c1"
      ]
    },
    {
      "cell_type": "markdown",
      "metadata": {
        "id": "c44sOZfiBx0m"
      },
      "source": [
        "Now let's tweak this code to make those operators concatenate the `name` property.\n",
        "\n",
        "The thing to note is that when we add two objects together we generally expect them to be of the same type and to return an object of the same type (and in the case of `+=` it needs to return the original object)."
      ]
    },
    {
      "cell_type": "markdown",
      "metadata": {
        "id": "x7RycAfSBx0m"
      },
      "source": [
        "Let's quickly recall how those operators behave with lists:"
      ]
    },
    {
      "cell_type": "code",
      "execution_count": null,
      "metadata": {
        "id": "bCPB5BCLBx0n",
        "outputId": "536daaf2-bb9d-4acb-d582-85dda50ef5aa"
      },
      "outputs": [
        {
          "data": {
            "text/plain": [
              "1727174473032"
            ]
          },
          "execution_count": 7,
          "metadata": {},
          "output_type": "execute_result"
        }
      ],
      "source": [
        "l1 = [1, 2, 3]\n",
        "l2 = [4, 5, 6]\n",
        "id(l1)"
      ]
    },
    {
      "cell_type": "code",
      "execution_count": null,
      "metadata": {
        "id": "PvvVktbQBx0n",
        "outputId": "83773962-99c9-4b7e-88c4-fb540de84428"
      },
      "outputs": [
        {
          "data": {
            "text/plain": [
              "(1727175173064, [1, 2, 3, 4, 5, 6])"
            ]
          },
          "execution_count": 8,
          "metadata": {},
          "output_type": "execute_result"
        }
      ],
      "source": [
        "l1 = l1 + l2\n",
        "id(l1), l1"
      ]
    },
    {
      "cell_type": "markdown",
      "metadata": {
        "id": "rcYqcOcOBx0n"
      },
      "source": [
        "Notice how the `id` of `l1` changed."
      ]
    },
    {
      "cell_type": "markdown",
      "metadata": {
        "id": "RVeG_wD_Bx0n"
      },
      "source": [
        "But, with `+=`:"
      ]
    },
    {
      "cell_type": "code",
      "execution_count": null,
      "metadata": {
        "id": "4kXRg2zPBx0o",
        "outputId": "980989fc-3a36-43ea-a574-199d39b2da17"
      },
      "outputs": [
        {
          "data": {
            "text/plain": [
              "1727175172552"
            ]
          },
          "execution_count": 9,
          "metadata": {},
          "output_type": "execute_result"
        }
      ],
      "source": [
        "l1 = [1, 2, 3]\n",
        "l2 = [4, 5, 6]\n",
        "id(l1)"
      ]
    },
    {
      "cell_type": "code",
      "execution_count": null,
      "metadata": {
        "id": "XpdKYqx8Bx0o",
        "outputId": "e28b8963-775c-48bb-e4f2-efc5ba5e1d1b"
      },
      "outputs": [
        {
          "data": {
            "text/plain": [
              "(1727175172552, [1, 2, 3, 4, 5, 6])"
            ]
          },
          "execution_count": 10,
          "metadata": {},
          "output_type": "execute_result"
        }
      ],
      "source": [
        "l1 += l2\n",
        "id(l1), l1"
      ]
    },
    {
      "cell_type": "markdown",
      "metadata": {
        "id": "p-2VFxqvBx0o"
      },
      "source": [
        "we can see that the concatenation results in the same elements, but this time the `id` of `l1` has not changed - an in-place operation took place.\n",
        "\n",
        "Let's do something similar:"
      ]
    },
    {
      "cell_type": "code",
      "execution_count": null,
      "metadata": {
        "collapsed": true,
        "id": "11Medv4cBx0o"
      },
      "outputs": [],
      "source": [
        "class MyClass:\n",
        "    def __init__(self, name):\n",
        "        self.name = name\n",
        "        \n",
        "    def __repr__(self):\n",
        "        return f'MyClass(name={self.name})'\n",
        "    \n",
        "    def __add__(self, other):\n",
        "        return MyClass(self.name + ' ' + other.name)\n",
        "        \n",
        "    def __iadd__(self, other):\n",
        "        self.name += ' ' + other.name\n",
        "        return self\n",
        "        "
      ]
    },
    {
      "cell_type": "code",
      "execution_count": null,
      "metadata": {
        "collapsed": true,
        "id": "x9br8cqrBx0p"
      },
      "outputs": [],
      "source": [
        "c1 = MyClass('Eric')\n",
        "c2 = MyClass('Idle')"
      ]
    },
    {
      "cell_type": "code",
      "execution_count": null,
      "metadata": {
        "collapsed": true,
        "id": "ZKmZ1mnkBx0p"
      },
      "outputs": [],
      "source": [
        "c3 = c1 + c2"
      ]
    },
    {
      "cell_type": "code",
      "execution_count": null,
      "metadata": {
        "id": "F8Vhs_3CBx0p",
        "outputId": "74ef82c3-8bb7-4188-e4aa-41d309e63ad4"
      },
      "outputs": [
        {
          "data": {
            "text/plain": [
              "MyClass(name=Eric Idle)"
            ]
          },
          "execution_count": 14,
          "metadata": {},
          "output_type": "execute_result"
        }
      ],
      "source": [
        "c3"
      ]
    },
    {
      "cell_type": "code",
      "execution_count": null,
      "metadata": {
        "id": "7qpcTVGOBx0p",
        "outputId": "70b2a6f0-5a83-4dc4-afe0-80bb97c499d2"
      },
      "outputs": [
        {
          "data": {
            "text/plain": [
              "(MyClass(name=Eric), MyClass(name=Idle))"
            ]
          },
          "execution_count": 15,
          "metadata": {},
          "output_type": "execute_result"
        }
      ],
      "source": [
        "c1, c2"
      ]
    },
    {
      "cell_type": "code",
      "execution_count": null,
      "metadata": {
        "collapsed": true,
        "id": "FtRPNnXBBx0q"
      },
      "outputs": [],
      "source": [
        "c1 += c2"
      ]
    },
    {
      "cell_type": "code",
      "execution_count": null,
      "metadata": {
        "id": "hxJZpPlFBx0q",
        "outputId": "0fd417f3-493f-4e9d-c242-41715858e992"
      },
      "outputs": [
        {
          "data": {
            "text/plain": [
              "MyClass(name=Eric Idle)"
            ]
          },
          "execution_count": 17,
          "metadata": {},
          "output_type": "execute_result"
        }
      ],
      "source": [
        "c1"
      ]
    },
    {
      "cell_type": "markdown",
      "metadata": {
        "id": "aKJtj-DIBx0q"
      },
      "source": [
        "#### The `*` and `*=` Operators"
      ]
    },
    {
      "cell_type": "markdown",
      "metadata": {
        "id": "akBur3_IBx0q"
      },
      "source": [
        "Just as easily we can overload the `*` and `*=` operators too, using the `__mul__` and `__imul__` methods."
      ]
    },
    {
      "cell_type": "code",
      "execution_count": null,
      "metadata": {
        "collapsed": true,
        "id": "PBxYGt03Bx0q"
      },
      "outputs": [],
      "source": [
        "class MyClass:\n",
        "    def __init__(self, name):\n",
        "        self.name = name\n",
        "        \n",
        "    def __repr__(self):\n",
        "        return f'MyClass(name={self.name})'\n",
        "    \n",
        "    def __add__(self, other):\n",
        "        return MyClass(self.name + ' ' + other.name)\n",
        "        \n",
        "    def __iadd__(self, other):\n",
        "        self.name += ' ' + other.name\n",
        "        return self\n",
        "    \n",
        "    def __mul__(self, n):\n",
        "        return MyClass(self.name * n)\n",
        "        \n",
        "    def __imul__(self, n):\n",
        "        self.name *= n\n",
        "        return self"
      ]
    },
    {
      "cell_type": "code",
      "execution_count": null,
      "metadata": {
        "collapsed": true,
        "id": "t75DI0AIBx0q"
      },
      "outputs": [],
      "source": [
        "c1 = MyClass('Eric')"
      ]
    },
    {
      "cell_type": "code",
      "execution_count": null,
      "metadata": {
        "id": "r9I8v0RmBx0r",
        "outputId": "06f8cbe1-0c7f-46fb-a27d-b818f36d8f6d"
      },
      "outputs": [
        {
          "data": {
            "text/plain": [
              "MyClass(name=EricEricEric)"
            ]
          },
          "execution_count": 20,
          "metadata": {},
          "output_type": "execute_result"
        }
      ],
      "source": [
        "c1 * 3"
      ]
    },
    {
      "cell_type": "code",
      "execution_count": null,
      "metadata": {
        "id": "hpmf9QL3Bx0r",
        "outputId": "b2220839-bab5-467a-b7e8-f4138aaab8f5"
      },
      "outputs": [
        {
          "data": {
            "text/plain": [
              "MyClass(name=Eric)"
            ]
          },
          "execution_count": 21,
          "metadata": {},
          "output_type": "execute_result"
        }
      ],
      "source": [
        "c1"
      ]
    },
    {
      "cell_type": "code",
      "execution_count": null,
      "metadata": {
        "collapsed": true,
        "id": "Idm6oYfZBx0r"
      },
      "outputs": [],
      "source": [
        "c1 *= 4 "
      ]
    },
    {
      "cell_type": "code",
      "execution_count": null,
      "metadata": {
        "id": "1rQ3OPQQBx0r",
        "outputId": "87d64aa2-2136-48b0-9b50-48e466914d54"
      },
      "outputs": [
        {
          "data": {
            "text/plain": [
              "MyClass(name=EricEricEricEric)"
            ]
          },
          "execution_count": 23,
          "metadata": {},
          "output_type": "execute_result"
        }
      ],
      "source": [
        "c1"
      ]
    },
    {
      "cell_type": "markdown",
      "metadata": {
        "id": "W2Nd6uKDBx0r"
      },
      "source": [
        "And if we try something not supported:"
      ]
    },
    {
      "cell_type": "code",
      "execution_count": null,
      "metadata": {
        "id": "_KEw1A6MBx0r",
        "outputId": "4bd8d51f-b994-47ee-c870-9d790e7fefd7"
      },
      "outputs": [
        {
          "ename": "TypeError",
          "evalue": "can't multiply sequence by non-int of type 'str'",
          "output_type": "error",
          "traceback": [
            "\u001b[1;31m---------------------------------------------------------------------------\u001b[0m",
            "\u001b[1;31mTypeError\u001b[0m                                 Traceback (most recent call last)",
            "\u001b[1;32m<ipython-input-24-6bb345e43cf9>\u001b[0m in \u001b[0;36m<module>\u001b[1;34m()\u001b[0m\n\u001b[0;32m      1\u001b[0m \u001b[0mc1\u001b[0m \u001b[1;33m=\u001b[0m \u001b[0mMyClass\u001b[0m\u001b[1;33m(\u001b[0m\u001b[1;34m'Eric'\u001b[0m\u001b[1;33m)\u001b[0m\u001b[1;33m\u001b[0m\u001b[0m\n\u001b[1;32m----> 2\u001b[1;33m \u001b[0mc1\u001b[0m \u001b[1;33m*\u001b[0m \u001b[1;34m'hello'\u001b[0m\u001b[1;33m\u001b[0m\u001b[0m\n\u001b[0m",
            "\u001b[1;32m<ipython-input-18-4b7cb2b2bdd5>\u001b[0m in \u001b[0;36m__mul__\u001b[1;34m(self, n)\u001b[0m\n\u001b[0;32m     14\u001b[0m \u001b[1;33m\u001b[0m\u001b[0m\n\u001b[0;32m     15\u001b[0m     \u001b[1;32mdef\u001b[0m \u001b[0m__mul__\u001b[0m\u001b[1;33m(\u001b[0m\u001b[0mself\u001b[0m\u001b[1;33m,\u001b[0m \u001b[0mn\u001b[0m\u001b[1;33m)\u001b[0m\u001b[1;33m:\u001b[0m\u001b[1;33m\u001b[0m\u001b[0m\n\u001b[1;32m---> 16\u001b[1;33m         \u001b[1;32mreturn\u001b[0m \u001b[0mMyClass\u001b[0m\u001b[1;33m(\u001b[0m\u001b[0mself\u001b[0m\u001b[1;33m.\u001b[0m\u001b[0mname\u001b[0m \u001b[1;33m*\u001b[0m \u001b[0mn\u001b[0m\u001b[1;33m)\u001b[0m\u001b[1;33m\u001b[0m\u001b[0m\n\u001b[0m\u001b[0;32m     17\u001b[0m \u001b[1;33m\u001b[0m\u001b[0m\n\u001b[0;32m     18\u001b[0m     \u001b[1;32mdef\u001b[0m \u001b[0m__imul__\u001b[0m\u001b[1;33m(\u001b[0m\u001b[0mself\u001b[0m\u001b[1;33m,\u001b[0m \u001b[0mn\u001b[0m\u001b[1;33m)\u001b[0m\u001b[1;33m:\u001b[0m\u001b[1;33m\u001b[0m\u001b[0m\n",
            "\u001b[1;31mTypeError\u001b[0m: can't multiply sequence by non-int of type 'str'"
          ]
        }
      ],
      "source": [
        "c1 = MyClass('Eric')\n",
        "c1 * 'hello'"
      ]
    },
    {
      "cell_type": "markdown",
      "metadata": {
        "id": "XHFBRakDBx0s"
      },
      "source": [
        "As you can see, we get the correct exception - and we didn't even have to guard against that exception and raise our own error. Since we delegated our `*` call to multiplying a sequence by something else, we could simply let Python handle any exceptions.\n",
        "\n",
        "We'll actually get into a lot of detail with exception handling later in this course."
      ]
    },
    {
      "cell_type": "markdown",
      "metadata": {
        "id": "8ZnQwSlRBx0s"
      },
      "source": [
        "What about multiplying an integer by the sequence?"
      ]
    },
    {
      "cell_type": "code",
      "execution_count": null,
      "metadata": {
        "id": "UV24OTJiBx0s",
        "outputId": "c0bcf66c-efea-4e2a-8c5e-4085a44265d7"
      },
      "outputs": [
        {
          "ename": "TypeError",
          "evalue": "unsupported operand type(s) for *: 'int' and 'MyClass'",
          "output_type": "error",
          "traceback": [
            "\u001b[1;31m---------------------------------------------------------------------------\u001b[0m",
            "\u001b[1;31mTypeError\u001b[0m                                 Traceback (most recent call last)",
            "\u001b[1;32m<ipython-input-25-30ca4f2f7860>\u001b[0m in \u001b[0;36m<module>\u001b[1;34m()\u001b[0m\n\u001b[0;32m      1\u001b[0m \u001b[0mc1\u001b[0m \u001b[1;33m=\u001b[0m \u001b[0mMyClass\u001b[0m\u001b[1;33m(\u001b[0m\u001b[1;34m'Monty'\u001b[0m\u001b[1;33m)\u001b[0m\u001b[1;33m\u001b[0m\u001b[0m\n\u001b[1;32m----> 2\u001b[1;33m \u001b[1;36m2\u001b[0m \u001b[1;33m*\u001b[0m \u001b[0mc1\u001b[0m\u001b[1;33m\u001b[0m\u001b[0m\n\u001b[0m",
            "\u001b[1;31mTypeError\u001b[0m: unsupported operand type(s) for *: 'int' and 'MyClass'"
          ]
        }
      ],
      "source": [
        "c1 = MyClass('Monty')\n",
        "2 * c1"
      ]
    },
    {
      "cell_type": "markdown",
      "metadata": {
        "id": "4FBf0Ew6Bx0s"
      },
      "source": [
        "To handle this we need to implement the `__rmul__` method:"
      ]
    },
    {
      "cell_type": "code",
      "execution_count": null,
      "metadata": {
        "collapsed": true,
        "id": "K2fVvYJbBx0s"
      },
      "outputs": [],
      "source": [
        "class MyClass:\n",
        "    def __init__(self, name):\n",
        "        self.name = name\n",
        "        \n",
        "    def __repr__(self):\n",
        "        return f'MyClass(name={self.name})'\n",
        "    \n",
        "    def __add__(self, other):\n",
        "        return MyClass(self.name + ' ' + other.name)\n",
        "        \n",
        "    def __iadd__(self, other):\n",
        "        self.name += ' ' + other.name\n",
        "        return self\n",
        "    \n",
        "    def __mul__(self, n):\n",
        "        return MyClass(self.name * n)\n",
        "        \n",
        "    def __imul__(self, n):\n",
        "        self.name *= n\n",
        "        return self\n",
        "    \n",
        "    def __rmul__(self, n):\n",
        "        self.name *= n\n",
        "        return self"
      ]
    },
    {
      "cell_type": "code",
      "execution_count": null,
      "metadata": {
        "collapsed": true,
        "id": "YyCoShu8Bx0t"
      },
      "outputs": [],
      "source": [
        "c1 = MyClass('Monty')"
      ]
    },
    {
      "cell_type": "code",
      "execution_count": null,
      "metadata": {
        "id": "RV1gS1uVBx0t",
        "outputId": "7a1c19e8-5abb-461c-83e5-d52ee4a5fb86"
      },
      "outputs": [
        {
          "data": {
            "text/plain": [
              "MyClass(name=MontyMonty)"
            ]
          },
          "execution_count": 28,
          "metadata": {},
          "output_type": "execute_result"
        }
      ],
      "source": [
        "2 * c1"
      ]
    },
    {
      "cell_type": "markdown",
      "metadata": {
        "id": "hAWJn1bZBx0t"
      },
      "source": [
        "#### Implementing the `in` operator"
      ]
    },
    {
      "cell_type": "markdown",
      "metadata": {
        "id": "TMPQ-E3fBx0t"
      },
      "source": [
        "For this example, we'll want `in` to test if the something is contained in the name string of our class:"
      ]
    },
    {
      "cell_type": "code",
      "execution_count": null,
      "metadata": {
        "collapsed": true,
        "id": "rUV1O8UWBx0t"
      },
      "outputs": [],
      "source": [
        "class MyClass:\n",
        "    def __init__(self, name):\n",
        "        self.name = name\n",
        "        \n",
        "    def __repr__(self):\n",
        "        return f'MyClass(name={self.name})'\n",
        "    \n",
        "    def __add__(self, other):\n",
        "        return MyClass(self.name + ' ' + other.name)\n",
        "        \n",
        "    def __iadd__(self, other):\n",
        "        self.name += ' ' + other.name\n",
        "        return self\n",
        "    \n",
        "    def __mul__(self, n):\n",
        "        return MyClass(self.name * n)\n",
        "        \n",
        "    def __imul__(self, n):\n",
        "        self.name *= n\n",
        "        return self\n",
        "    \n",
        "    def __rmul__(self, n):\n",
        "        self.name *= n\n",
        "        return self\n",
        "    \n",
        "    def __contains__(self, value):\n",
        "        return value in self.name"
      ]
    },
    {
      "cell_type": "code",
      "execution_count": null,
      "metadata": {
        "collapsed": true,
        "id": "2HGLeqqXBx0t"
      },
      "outputs": [],
      "source": [
        "c1 = MyClass('MontyPython')"
      ]
    },
    {
      "cell_type": "code",
      "execution_count": null,
      "metadata": {
        "id": "YLHOi-jKBx0u",
        "outputId": "8c0a66e8-e7c5-4074-8682-3922830b53d6"
      },
      "outputs": [
        {
          "data": {
            "text/plain": [
              "True"
            ]
          },
          "execution_count": 31,
          "metadata": {},
          "output_type": "execute_result"
        }
      ],
      "source": [
        "'ty' in c1"
      ]
    }
  ],
  "metadata": {
    "kernelspec": {
      "display_name": "Python 3",
      "language": "python",
      "name": "python3"
    },
    "language_info": {
      "codemirror_mode": {
        "name": "ipython",
        "version": 3
      },
      "file_extension": ".py",
      "mimetype": "text/x-python",
      "name": "python",
      "nbconvert_exporter": "python",
      "pygments_lexer": "ipython3",
      "version": "3.6.2"
    },
    "colab": {
      "provenance": [],
      "include_colab_link": true
    }
  },
  "nbformat": 4,
  "nbformat_minor": 0
}