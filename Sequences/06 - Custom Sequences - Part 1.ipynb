{
  "cells": [
    {
      "cell_type": "markdown",
      "metadata": {
        "id": "view-in-github",
        "colab_type": "text"
      },
      "source": [
        "<a href=\"https://colab.research.google.com/github/vdhinaka/PythonDeepDive/blob/master/Sequences/06%20-%20Custom%20Sequences%20-%20Part%201.ipynb\" target=\"_parent\"><img src=\"https://colab.research.google.com/assets/colab-badge.svg\" alt=\"Open In Colab\"/></a>"
      ]
    },
    {
      "cell_type": "markdown",
      "metadata": {
        "id": "w5LEOAifzDMt"
      },
      "source": [
        "### Custom Sequences (Part 1)\n",
        "An immutable sequence type should support two things:\n",
        "- returning the length of the sequence (\\__len__)\n",
        "- given an index, returning the element at that index (\\__getitem__)  - return an element for a valid index or raise an IndexError exception for an invalid index\n",
        "\n",
        "We always know the index of the first element of the sequence. <br>\n",
        "We can choose to support negative indices: \n",
        "- i < 0 --> i = length - i\n",
        "\n",
        "We can choose to support slicing:\n",
        "- accept slice objects as argument to \\__getitem__\n",
        "\n",
        "\n",
        "\n",
        "\n",
        "\n",
        "\n",
        "\n"
      ]
    },
    {
      "cell_type": "markdown",
      "metadata": {
        "id": "uUQ3irWWzDM2"
      },
      "source": [
        "We'll focus first on how to create a custom sequence type that supports indexing, slicing (read only) and iteration. We'll look into mutable custom sequences in an upcoming video."
      ]
    },
    {
      "cell_type": "markdown",
      "metadata": {
        "id": "s2SYrOZ7zDM4"
      },
      "source": [
        "First we should understand how the `__getitem__` method works for iteration and retrieving individual elements from a sequence:"
      ]
    },
    {
      "cell_type": "code",
      "execution_count": null,
      "metadata": {
        "collapsed": true,
        "id": "SZS7OxNvzDM6"
      },
      "outputs": [],
      "source": [
        "my_list = [0, 1, 2, 3, 4, 5]"
      ]
    },
    {
      "cell_type": "code",
      "execution_count": null,
      "metadata": {
        "id": "8RU2L_WVzDM8",
        "outputId": "dd7355ab-ecde-4077-c452-6423b58077da"
      },
      "outputs": [
        {
          "data": {
            "text/plain": [
              "0"
            ]
          },
          "execution_count": 3,
          "metadata": {},
          "output_type": "execute_result"
        }
      ],
      "source": [
        "my_list.__getitem__(0)"
      ]
    },
    {
      "cell_type": "code",
      "execution_count": null,
      "metadata": {
        "id": "NfsFRPJ_zDNC",
        "outputId": "641e7683-1c39-40f9-c196-c9530a6c877a"
      },
      "outputs": [
        {
          "data": {
            "text/plain": [
              "5"
            ]
          },
          "execution_count": 4,
          "metadata": {},
          "output_type": "execute_result"
        }
      ],
      "source": [
        "my_list.__getitem__(5)"
      ]
    },
    {
      "cell_type": "markdown",
      "metadata": {
        "id": "rJ3IDDDkzDND"
      },
      "source": [
        "But if our index is out of bounds:"
      ]
    },
    {
      "cell_type": "code",
      "execution_count": null,
      "metadata": {
        "id": "qod5tDgfzDNE",
        "outputId": "e69c9562-19b3-440d-e1a1-f547dc73e101"
      },
      "outputs": [
        {
          "ename": "IndexError",
          "evalue": "list index out of range",
          "output_type": "error",
          "traceback": [
            "\u001b[1;31m---------------------------------------------------------------------------\u001b[0m",
            "\u001b[1;31mIndexError\u001b[0m                                Traceback (most recent call last)",
            "\u001b[1;32m<ipython-input-5-af8e15c3db49>\u001b[0m in \u001b[0;36m<module>\u001b[1;34m()\u001b[0m\n\u001b[1;32m----> 1\u001b[1;33m \u001b[0mmy_list\u001b[0m\u001b[1;33m.\u001b[0m\u001b[0m__getitem__\u001b[0m\u001b[1;33m(\u001b[0m\u001b[1;36m6\u001b[0m\u001b[1;33m)\u001b[0m\u001b[1;33m\u001b[0m\u001b[0m\n\u001b[0m",
            "\u001b[1;31mIndexError\u001b[0m: list index out of range"
          ]
        }
      ],
      "source": [
        "my_list.__getitem__(6)"
      ]
    },
    {
      "cell_type": "markdown",
      "metadata": {
        "id": "BiTS2kP5zDNF"
      },
      "source": [
        "we get an IndexError."
      ]
    },
    {
      "cell_type": "markdown",
      "metadata": {
        "id": "fRo-8gbSzDNH"
      },
      "source": [
        "Technically, the `list` object's `__getitem__` method also supports negative indexing and slicing:"
      ]
    },
    {
      "cell_type": "code",
      "execution_count": null,
      "metadata": {
        "id": "C3oHv_aDzDNH",
        "outputId": "7749b930-6252-4bd7-f23a-7de7314a9a42"
      },
      "outputs": [
        {
          "data": {
            "text/plain": [
              "5"
            ]
          },
          "execution_count": 6,
          "metadata": {},
          "output_type": "execute_result"
        }
      ],
      "source": [
        "my_list.__getitem__(-1)"
      ]
    },
    {
      "cell_type": "code",
      "execution_count": null,
      "metadata": {
        "id": "esC2g9OszDNI",
        "outputId": "0e550b26-ca76-408c-e937-4b62297996ad"
      },
      "outputs": [
        {
          "data": {
            "text/plain": [
              "[0, 2, 4]"
            ]
          },
          "execution_count": 7,
          "metadata": {},
          "output_type": "execute_result"
        }
      ],
      "source": [
        "my_list.__getitem__(slice(0,6,2))"
      ]
    },
    {
      "cell_type": "code",
      "execution_count": null,
      "metadata": {
        "id": "dvVi_VGMzDNJ",
        "outputId": "144638c7-e5b2-487f-eff6-b633a810c5bf"
      },
      "outputs": [
        {
          "data": {
            "text/plain": [
              "[5, 4, 3, 2, 1, 0]"
            ]
          },
          "execution_count": 8,
          "metadata": {},
          "output_type": "execute_result"
        }
      ],
      "source": [
        "my_list.__getitem__(slice(None, None, -1))"
      ]
    },
    {
      "cell_type": "markdown",
      "metadata": {
        "id": "uj292_ikzDNK"
      },
      "source": [
        "#### Mimicking Python's `for` loop using the `__getitem__` method"
      ]
    },
    {
      "cell_type": "code",
      "execution_count": null,
      "metadata": {
        "collapsed": true,
        "id": "G6Vzw_R6zDNK"
      },
      "outputs": [],
      "source": [
        "my_list = [0, 1, 2, 3, 4, 5]"
      ]
    },
    {
      "cell_type": "code",
      "execution_count": null,
      "metadata": {
        "id": "awP_WcIgzDNK",
        "outputId": "c79d5280-3c05-4f2b-d95e-0e88725b2061"
      },
      "outputs": [
        {
          "name": "stdout",
          "output_type": "stream",
          "text": [
            "0\n",
            "1\n",
            "4\n",
            "9\n",
            "16\n",
            "25\n"
          ]
        }
      ],
      "source": [
        "for item in my_list:\n",
        "    print(item ** 2)"
      ]
    },
    {
      "cell_type": "markdown",
      "metadata": {
        "id": "H6Uavg-GzDNL"
      },
      "source": [
        "Now let's do the same thing ourselves without a for loop:"
      ]
    },
    {
      "cell_type": "code",
      "execution_count": null,
      "metadata": {
        "id": "Xmyv07b3zDNM",
        "outputId": "3576a609-8932-462b-e586-f409b8a1a583"
      },
      "outputs": [
        {
          "name": "stdout",
          "output_type": "stream",
          "text": [
            "0\n",
            "1\n",
            "4\n",
            "9\n",
            "16\n",
            "25\n"
          ]
        }
      ],
      "source": [
        "index = 0\n",
        "while True:\n",
        "    try:\n",
        "        item = my_list.__getitem__(index)\n",
        "    except IndexError:\n",
        "        # reached the end of the sequence\n",
        "        break\n",
        "    # do something with the item...\n",
        "    print(item ** 2)\n",
        "    index += 1"
      ]
    },
    {
      "cell_type": "markdown",
      "metadata": {
        "id": "oeL-nJeWzDNN"
      },
      "source": [
        "#### Implementing a custom Sequence "
      ]
    },
    {
      "cell_type": "markdown",
      "metadata": {
        "id": "BkubQeFVzDNN"
      },
      "source": [
        "Custom objects can support slicing - we'll see this later in this course, but for now we'll take a quick peek ahead.\n",
        "\n",
        "To make a custom classes support indexing (and slicing) we only need to implement the `__getitem__` method which receives the index (or slice) we are interested in."
      ]
    },
    {
      "cell_type": "code",
      "execution_count": null,
      "metadata": {
        "collapsed": true,
        "id": "B5c8w9imzDNO"
      },
      "outputs": [],
      "source": [
        "class MySequence:\n",
        "    def __getitem__(self, index):\n",
        "        print(type(index), index)"
      ]
    },
    {
      "cell_type": "code",
      "execution_count": null,
      "metadata": {
        "collapsed": true,
        "id": "ZbHtRbnmzDNO"
      },
      "outputs": [],
      "source": [
        "my_seq = MySequence()"
      ]
    },
    {
      "cell_type": "code",
      "execution_count": null,
      "metadata": {
        "id": "mgGEmOBUzDNP",
        "outputId": "26d7c005-b9b0-4b7a-81c4-78e802f85d70"
      },
      "outputs": [
        {
          "name": "stdout",
          "output_type": "stream",
          "text": [
            "<class 'int'> 0\n"
          ]
        }
      ],
      "source": [
        "my_seq[0]"
      ]
    },
    {
      "cell_type": "code",
      "execution_count": null,
      "metadata": {
        "id": "MdlwYZujzDNQ",
        "outputId": "1cab1557-93c1-405f-d03a-226a208b701e"
      },
      "outputs": [
        {
          "name": "stdout",
          "output_type": "stream",
          "text": [
            "<class 'int'> 100\n"
          ]
        }
      ],
      "source": [
        "my_seq[100]"
      ]
    },
    {
      "cell_type": "code",
      "execution_count": null,
      "metadata": {
        "id": "jew1dI4SzDNR",
        "outputId": "201186e6-caf4-4c39-a049-bdcb87fce9cd"
      },
      "outputs": [
        {
          "name": "stdout",
          "output_type": "stream",
          "text": [
            "<class 'slice'> slice(0, 2, None)\n"
          ]
        }
      ],
      "source": [
        "my_seq[0:2]"
      ]
    },
    {
      "cell_type": "code",
      "execution_count": null,
      "metadata": {
        "id": "AxejaI79zDNR",
        "outputId": "362e56e6-e759-400e-9665-81a74786c123"
      },
      "outputs": [
        {
          "name": "stdout",
          "output_type": "stream",
          "text": [
            "<class 'slice'> slice(0, 10, 2)\n"
          ]
        }
      ],
      "source": [
        "my_seq[0:10:2]"
      ]
    },
    {
      "cell_type": "markdown",
      "metadata": {
        "id": "QczNjEG1zDNR"
      },
      "source": [
        "As you can see, the `__getitem__` method receives an index number of type `int` when we use `[n]` and a `slice` object when we use `[i:j]` or `[i:j:k]`."
      ]
    },
    {
      "cell_type": "markdown",
      "metadata": {
        "id": "MCyXMYqOzDNS"
      },
      "source": [
        "As we saw in a previous lecture, given the bounds for a slice, and the length of the sequence we are slicing, we can always define a `range` that will generate the desired indices.\n",
        "\n",
        "We also saw that the `slice` object has a method, `indices`, that precisely tells us the start/stop/step values we would need for an equivalent `range`, given the length of the sequence we are slicing.\n",
        "\n",
        "Let's recall a simple example first:"
      ]
    },
    {
      "cell_type": "code",
      "execution_count": null,
      "metadata": {
        "id": "gItm8cG_zDNS",
        "outputId": "fb2fab2a-a062-42dc-8856-4f417105c012"
      },
      "outputs": [
        {
          "data": {
            "text/plain": [
              "6"
            ]
          },
          "execution_count": 18,
          "metadata": {},
          "output_type": "execute_result"
        }
      ],
      "source": [
        "l = 'python'\n",
        "len(l)"
      ]
    },
    {
      "cell_type": "code",
      "execution_count": null,
      "metadata": {
        "id": "HQZGlPJazDNT",
        "outputId": "cc6fbbcb-8716-4dd8-cf6d-6a573a20ea31"
      },
      "outputs": [
        {
          "data": {
            "text/plain": [
              "'pto'"
            ]
          },
          "execution_count": 19,
          "metadata": {},
          "output_type": "execute_result"
        }
      ],
      "source": [
        "s = slice(0, 6, 2)\n",
        "l[s]"
      ]
    },
    {
      "cell_type": "code",
      "execution_count": null,
      "metadata": {
        "id": "vaNOvP08zDNT",
        "outputId": "9deeda00-9b10-4d5c-d989-163b3b34ee6b"
      },
      "outputs": [
        {
          "data": {
            "text/plain": [
              "(0, 6, 2)"
            ]
          },
          "execution_count": 20,
          "metadata": {},
          "output_type": "execute_result"
        }
      ],
      "source": [
        "s.start, s.stop, s.step"
      ]
    },
    {
      "cell_type": "code",
      "execution_count": null,
      "metadata": {
        "id": "ZWWMsIbozDNU",
        "outputId": "e25b6aa2-97cb-4a21-a0fe-5a18b106134c"
      },
      "outputs": [
        {
          "data": {
            "text/plain": [
              "(0, 6, 2)"
            ]
          },
          "execution_count": 21,
          "metadata": {},
          "output_type": "execute_result"
        }
      ],
      "source": [
        "s.indices(6)"
      ]
    },
    {
      "cell_type": "code",
      "execution_count": null,
      "metadata": {
        "id": "LOaTqHOYzDNV",
        "outputId": "49812c9f-7a78-4dec-d89c-0a14f8137d7c"
      },
      "outputs": [
        {
          "data": {
            "text/plain": [
              "[0, 2, 4]"
            ]
          },
          "execution_count": 22,
          "metadata": {},
          "output_type": "execute_result"
        }
      ],
      "source": [
        "list(range(0, 6, 2))"
      ]
    },
    {
      "cell_type": "markdown",
      "metadata": {
        "id": "r-SPa3rDzDNV"
      },
      "source": [
        "This matches exactly the indices that were selected from the sequence `'python'`"
      ]
    },
    {
      "cell_type": "markdown",
      "metadata": {
        "id": "_jSHfT54zDNV"
      },
      "source": [
        "### Example"
      ]
    },
    {
      "cell_type": "markdown",
      "metadata": {
        "id": "jal5prD_zDNV"
      },
      "source": [
        "So, why am I re-emphasizing this equivalence between the indices in a `slice` and and equivalent `range` object?"
      ]
    },
    {
      "cell_type": "markdown",
      "metadata": {
        "id": "Kqe2-QtRzDNW"
      },
      "source": [
        "Let's say we want to implement our own sequence type and we want to support slicing."
      ]
    },
    {
      "cell_type": "markdown",
      "metadata": {
        "id": "UImlUkR6zDNW"
      },
      "source": [
        "For this example we'll create a custom Fibonacci sequence type."
      ]
    },
    {
      "cell_type": "markdown",
      "metadata": {
        "id": "uYG31fgJzDNW"
      },
      "source": [
        "First recall that the `__getitem__` will receive either an integer (for simple indexing), or a slice object:"
      ]
    },
    {
      "cell_type": "code",
      "execution_count": null,
      "metadata": {
        "collapsed": true,
        "id": "tw4M1UqDzDNX"
      },
      "outputs": [],
      "source": [
        "class Fib:\n",
        "    def __getitem__(self, s):\n",
        "        print(type(s), s)"
      ]
    },
    {
      "cell_type": "code",
      "execution_count": null,
      "metadata": {
        "id": "Tz9D10ZfzDNX",
        "outputId": "7803445b-3be8-4419-d89a-e990742016a2"
      },
      "outputs": [
        {
          "name": "stdout",
          "output_type": "stream",
          "text": [
            "<class 'int'> 2\n",
            "<class 'slice'> slice(2, 10, 2)\n"
          ]
        }
      ],
      "source": [
        "f = Fib()\n",
        "f[2]\n",
        "f[2:10:2]"
      ]
    },
    {
      "cell_type": "markdown",
      "metadata": {
        "id": "UMCKU1DwzDNX"
      },
      "source": [
        "We'll use that to implement both indexing and slicing for our custom Fibonacci sequence type."
      ]
    },
    {
      "cell_type": "markdown",
      "metadata": {
        "id": "KSKg32IqzDNX"
      },
      "source": [
        "We'll make our sequence type bounded (i.e. we'll have to specify the size of the sequence). But we are not going to pre-generate the entire sequence of Fibonacci numbers, we'll only generate the ones that are being requested as needed."
      ]
    },
    {
      "cell_type": "code",
      "execution_count": null,
      "metadata": {
        "collapsed": true,
        "id": "zIXsDEd0zDNY"
      },
      "outputs": [],
      "source": [
        "class Fib:\n",
        "    def __init__(self, n):\n",
        "        self._n = n\n",
        "    \n",
        "    def __getitem__(self, s):\n",
        "        if isinstance(s, int):\n",
        "            # single item requested\n",
        "            print(f'requesting [{s}]')\n",
        "        else:\n",
        "            # slice being requested\n",
        "            print(f'requesting [{s.start}:{s.stop}:{s.step}]')"
      ]
    },
    {
      "cell_type": "code",
      "execution_count": null,
      "metadata": {
        "collapsed": true,
        "id": "7hGX8Y-UzDNY"
      },
      "outputs": [],
      "source": [
        "f = Fib(10)"
      ]
    },
    {
      "cell_type": "code",
      "execution_count": null,
      "metadata": {
        "id": "40-9F7U3zDNZ",
        "outputId": "3cd8d7ad-0824-4248-e7c4-7595e51fe6fe"
      },
      "outputs": [
        {
          "name": "stdout",
          "output_type": "stream",
          "text": [
            "requesting [3]\n"
          ]
        }
      ],
      "source": [
        "f[3]"
      ]
    },
    {
      "cell_type": "code",
      "execution_count": null,
      "metadata": {
        "id": "h5DVX_wezDNZ",
        "outputId": "1e916a0f-e331-4907-fedd-8eec91e13ccc"
      },
      "outputs": [
        {
          "name": "stdout",
          "output_type": "stream",
          "text": [
            "requesting [None:5:None]\n"
          ]
        }
      ],
      "source": [
        "f[:5]"
      ]
    },
    {
      "cell_type": "markdown",
      "metadata": {
        "id": "5kCE1X6szDNa"
      },
      "source": [
        "Let's now add in what the equivalent range would be:"
      ]
    },
    {
      "cell_type": "code",
      "execution_count": null,
      "metadata": {
        "collapsed": true,
        "id": "Er3GPbJgzDNa"
      },
      "outputs": [],
      "source": [
        "class Fib:\n",
        "    def __init__(self, n):\n",
        "        self._n = n\n",
        "    \n",
        "    def __getitem__(self, s):\n",
        "        if isinstance(s, int):\n",
        "            # single item requested\n",
        "            print(f'requesting [{s}]')\n",
        "        else:\n",
        "            # slice being requested\n",
        "            print(f'requesting [{s.start}:{s.stop}:{s.step}]')\n",
        "            idx = s.indices(self._n)\n",
        "            rng = range(*idx)\n",
        "            print(f'\\trange({idx[0]}, {idx[1]}, {idx[2]}) --> {list(rng)}')"
      ]
    },
    {
      "cell_type": "code",
      "execution_count": null,
      "metadata": {
        "id": "QOpLm7_UzDNa",
        "outputId": "d5b0914f-0efc-4951-9806-5cbb4ca8369b"
      },
      "outputs": [
        {
          "name": "stdout",
          "output_type": "stream",
          "text": [
            "requesting [3:5:None]\n",
            "\trange(3, 5, 1) --> [3, 4]\n",
            "requesting [None:None:-1]\n",
            "\trange(9, -1, -1) --> [9, 8, 7, 6, 5, 4, 3, 2, 1, 0]\n"
          ]
        }
      ],
      "source": [
        "f = Fib(10)\n",
        "f[3:5]\n",
        "f[::-1]"
      ]
    },
    {
      "cell_type": "markdown",
      "metadata": {
        "id": "MDSwxcO2zDNa"
      },
      "source": [
        "Next step is for us to actually calculate the n-th Fibonacci number, we'll use memoization as well (see lecture on decorators and memoization if you need to refresh your memory on that):"
      ]
    },
    {
      "cell_type": "code",
      "execution_count": null,
      "metadata": {
        "collapsed": true,
        "id": "zHSN8nDezDNb"
      },
      "outputs": [],
      "source": [
        "from functools import lru_cache"
      ]
    },
    {
      "cell_type": "code",
      "execution_count": null,
      "metadata": {
        "collapsed": true,
        "id": "XbjK81r8zDNb"
      },
      "outputs": [],
      "source": [
        "@lru_cache(2**10)\n",
        "def fib(n):\n",
        "    if n < 2:\n",
        "        return 1\n",
        "    else:\n",
        "        return fib(n-1) + fib(n-2)"
      ]
    },
    {
      "cell_type": "code",
      "execution_count": null,
      "metadata": {
        "id": "n2p9BQyKzDNb",
        "outputId": "a9bb87dc-0b5e-4626-ba7b-8250fd781e10"
      },
      "outputs": [
        {
          "data": {
            "text/plain": [
              "(1, 1, 2, 3, 5, 8, 20365011074)"
            ]
          },
          "execution_count": 33,
          "metadata": {},
          "output_type": "execute_result"
        }
      ],
      "source": [
        "fib(0), fib(1), fib(2), fib(3), fib(4), fib(5), fib(50)"
      ]
    },
    {
      "cell_type": "markdown",
      "metadata": {
        "id": "N3PaRYs1zDNb"
      },
      "source": [
        "Now, let's make this function part of our class:"
      ]
    },
    {
      "cell_type": "code",
      "execution_count": null,
      "metadata": {
        "collapsed": true,
        "id": "pkn3-nYmzDNc"
      },
      "outputs": [],
      "source": [
        "class Fib:\n",
        "    def __init__(self, n):\n",
        "        self._n = n\n",
        "    \n",
        "    def __getitem__(self, s):\n",
        "        if isinstance(s, int):\n",
        "            # single item requested\n",
        "            print(f'requesting [{s}]')\n",
        "        else:\n",
        "            # slice being requested\n",
        "            print(f'requesting [{s.start}:{s.stop}:{s.step}]')\n",
        "            idx = s.indices(self._n)\n",
        "            rng = range(idx[0], idx[1], idx[2])\n",
        "            print(f'\\trange({idx[0]}, {idx[1]}, {idx[2]}) --> {list(rng)}')\n",
        "    \n",
        "    @staticmethod\n",
        "    @lru_cache(2**32)\n",
        "    def _fib(n):\n",
        "        if n < 2:\n",
        "            return 1\n",
        "        else:\n",
        "            return fib(n-1) + fib(n-2)"
      ]
    },
    {
      "cell_type": "markdown",
      "metadata": {
        "id": "uG8pdjpezDNc"
      },
      "source": [
        "The next step is to implement the `__getitem__` method. Let's start by implementing the simple indexing:"
      ]
    },
    {
      "cell_type": "code",
      "execution_count": null,
      "metadata": {
        "collapsed": true,
        "id": "RpIpn8I6zDNc"
      },
      "outputs": [],
      "source": [
        "class Fib:\n",
        "    def __init__(self, n):\n",
        "        self._n = n\n",
        "    \n",
        "    def __getitem__(self, s):\n",
        "        if isinstance(s, int):\n",
        "            # single item requested\n",
        "            return self._fib(s)\n",
        "        else:\n",
        "            # slice being requested\n",
        "            print(f'requesting [{s.start}:{s.stop}:{s.step}]')\n",
        "            idx = s.indices(self._n)\n",
        "            rng = range(idx[0], idx[1], idx[2])\n",
        "            print(f'\\trange({idx[0]}, {idx[1]}, {idx[2]}) --> {list(rng)}')\n",
        "            \n",
        "    @staticmethod\n",
        "    @lru_cache(2**32)\n",
        "    def _fib(n):\n",
        "        if n < 2:\n",
        "            return 1\n",
        "        else:\n",
        "            return fib(n-1) + fib(n-2)"
      ]
    },
    {
      "cell_type": "markdown",
      "metadata": {
        "id": "sFuj5WBFzDNd"
      },
      "source": [
        "Let's test that out:"
      ]
    },
    {
      "cell_type": "code",
      "execution_count": null,
      "metadata": {
        "collapsed": true,
        "id": "jxKOzrP5zDNd"
      },
      "outputs": [],
      "source": [
        "f = Fib(100)"
      ]
    },
    {
      "cell_type": "code",
      "execution_count": null,
      "metadata": {
        "id": "9k4K9VGVzDNd",
        "outputId": "ee57fdf0-e791-4e0b-954b-33cf76943725"
      },
      "outputs": [
        {
          "data": {
            "text/plain": [
              "(1, 1, 2, 3, 5, 8, 20365011074)"
            ]
          },
          "execution_count": 37,
          "metadata": {},
          "output_type": "execute_result"
        }
      ],
      "source": [
        "f[0], f[1], f[2], f[3], f[4], f[5], f[50]"
      ]
    },
    {
      "cell_type": "markdown",
      "metadata": {
        "id": "e_6p7BlOzDNd"
      },
      "source": [
        "But we still have a few problems.\n",
        "\n",
        "First we do not handle negative values, and we also will return results for indices that should technically be out of bounds, so we can't really iterate through this sequence yet as we would end up with an infinite iteration!"
      ]
    },
    {
      "cell_type": "code",
      "execution_count": null,
      "metadata": {
        "id": "040LXPKjzDNe",
        "outputId": "4cb1c3be-b665-425c-deaa-b3f5862dfd13"
      },
      "outputs": [
        {
          "data": {
            "text/plain": [
              "(453973694165307953197296969697410619233826, 1)"
            ]
          },
          "execution_count": 38,
          "metadata": {},
          "output_type": "execute_result"
        }
      ],
      "source": [
        "f[200], f[-5]"
      ]
    },
    {
      "cell_type": "markdown",
      "metadata": {
        "id": "1lI2mXXUzDNe"
      },
      "source": [
        "So we first need to raise an `IndexError` exception when the index is out of bounds, and we also need to remap negative indices (for example `-1` should correspond to the last element of the sequence, and so on)"
      ]
    },
    {
      "cell_type": "code",
      "execution_count": null,
      "metadata": {
        "id": "iEWl1LeHzDNe"
      },
      "outputs": [],
      "source": [
        "class Fib:\n",
        "    def __init__(self, n):\n",
        "        self._n = n\n",
        "    \n",
        "    def __getitem__(self, s):\n",
        "        if isinstance(s, int):\n",
        "            # single item requested\n",
        "            if s < 0:\n",
        "                s = self._n + s\n",
        "            if s < 0 or s > self._n - 1:\n",
        "                raise IndexError\n",
        "            return self._fib(s)\n",
        "        else:\n",
        "            # slice being requested\n",
        "            print(f'requesting [{s.start}:{s.stop}:{s.step}]')\n",
        "            idx = s.indices(self._n)\n",
        "            rng = range(idx[0], idx[1], idx[2])\n",
        "            print(f'\\trange({idx[0]}, {idx[1]}, {idx[2]}) --> {list(rng)}')\n",
        "            \n",
        "    @staticmethod\n",
        "    @lru_cache(2**32)\n",
        "    def _fib(n):\n",
        "        if n < 2:\n",
        "            return 1\n",
        "        else:\n",
        "            return fib(n-1) + fib(n-2)"
      ]
    },
    {
      "cell_type": "code",
      "execution_count": null,
      "metadata": {
        "collapsed": true,
        "id": "kAY7v-s9zDNf"
      },
      "outputs": [],
      "source": [
        "f = Fib(10)"
      ]
    },
    {
      "cell_type": "code",
      "execution_count": null,
      "metadata": {
        "id": "HWQgvsgizDNf",
        "outputId": "da9b943e-99a2-49f4-9b48-db196b9f76ac"
      },
      "outputs": [
        {
          "data": {
            "text/plain": [
              "(55, 55)"
            ]
          },
          "execution_count": 41,
          "metadata": {},
          "output_type": "execute_result"
        }
      ],
      "source": [
        "f[9], f[-1]"
      ]
    },
    {
      "cell_type": "code",
      "execution_count": null,
      "metadata": {
        "id": "zbWf2eeDzDNg",
        "outputId": "5417eb9c-a080-4460-ac64-59a16ea92608"
      },
      "outputs": [
        {
          "ename": "IndexError",
          "evalue": "",
          "output_type": "error",
          "traceback": [
            "\u001b[1;31m---------------------------------------------------------------------------\u001b[0m",
            "\u001b[1;31mIndexError\u001b[0m                                Traceback (most recent call last)",
            "\u001b[1;32m<ipython-input-42-d318e38c040d>\u001b[0m in \u001b[0;36m<module>\u001b[1;34m()\u001b[0m\n\u001b[1;32m----> 1\u001b[1;33m \u001b[0mf\u001b[0m\u001b[1;33m[\u001b[0m\u001b[1;36m10\u001b[0m\u001b[1;33m]\u001b[0m\u001b[1;33m\u001b[0m\u001b[0m\n\u001b[0m",
            "\u001b[1;32m<ipython-input-39-4507ca7defeb>\u001b[0m in \u001b[0;36m__getitem__\u001b[1;34m(self, s)\u001b[0m\n\u001b[0;32m      9\u001b[0m                 \u001b[0ms\u001b[0m \u001b[1;33m=\u001b[0m \u001b[0mself\u001b[0m\u001b[1;33m.\u001b[0m\u001b[0m_n\u001b[0m \u001b[1;33m+\u001b[0m \u001b[0ms\u001b[0m\u001b[1;33m\u001b[0m\u001b[0m\n\u001b[0;32m     10\u001b[0m             \u001b[1;32mif\u001b[0m \u001b[0ms\u001b[0m \u001b[1;33m<\u001b[0m \u001b[1;36m0\u001b[0m \u001b[1;32mor\u001b[0m \u001b[0ms\u001b[0m \u001b[1;33m>\u001b[0m \u001b[0mself\u001b[0m\u001b[1;33m.\u001b[0m\u001b[0m_n\u001b[0m \u001b[1;33m-\u001b[0m \u001b[1;36m1\u001b[0m\u001b[1;33m:\u001b[0m\u001b[1;33m\u001b[0m\u001b[0m\n\u001b[1;32m---> 11\u001b[1;33m                 \u001b[1;32mraise\u001b[0m \u001b[0mIndexError\u001b[0m\u001b[1;33m\u001b[0m\u001b[0m\n\u001b[0m\u001b[0;32m     12\u001b[0m             \u001b[1;32mreturn\u001b[0m \u001b[0mself\u001b[0m\u001b[1;33m.\u001b[0m\u001b[0m_fib\u001b[0m\u001b[1;33m(\u001b[0m\u001b[0ms\u001b[0m\u001b[1;33m)\u001b[0m\u001b[1;33m\u001b[0m\u001b[0m\n\u001b[0;32m     13\u001b[0m         \u001b[1;32melse\u001b[0m\u001b[1;33m:\u001b[0m\u001b[1;33m\u001b[0m\u001b[0m\n",
            "\u001b[1;31mIndexError\u001b[0m: "
          ]
        }
      ],
      "source": [
        "f[10]"
      ]
    },
    {
      "cell_type": "code",
      "execution_count": null,
      "metadata": {
        "id": "p5wA9yb6zDNh",
        "outputId": "1ca394e8-edca-424e-944a-d75d629e6d0b"
      },
      "outputs": [
        {
          "ename": "IndexError",
          "evalue": "",
          "output_type": "error",
          "traceback": [
            "\u001b[1;31m---------------------------------------------------------------------------\u001b[0m",
            "\u001b[1;31mIndexError\u001b[0m                                Traceback (most recent call last)",
            "\u001b[1;32m<ipython-input-43-d90fbb07664c>\u001b[0m in \u001b[0;36m<module>\u001b[1;34m()\u001b[0m\n\u001b[1;32m----> 1\u001b[1;33m \u001b[0mf\u001b[0m\u001b[1;33m[\u001b[0m\u001b[1;33m-\u001b[0m\u001b[1;36m100\u001b[0m\u001b[1;33m]\u001b[0m\u001b[1;33m\u001b[0m\u001b[0m\n\u001b[0m",
            "\u001b[1;32m<ipython-input-39-4507ca7defeb>\u001b[0m in \u001b[0;36m__getitem__\u001b[1;34m(self, s)\u001b[0m\n\u001b[0;32m      9\u001b[0m                 \u001b[0ms\u001b[0m \u001b[1;33m=\u001b[0m \u001b[0mself\u001b[0m\u001b[1;33m.\u001b[0m\u001b[0m_n\u001b[0m \u001b[1;33m+\u001b[0m \u001b[0ms\u001b[0m\u001b[1;33m\u001b[0m\u001b[0m\n\u001b[0;32m     10\u001b[0m             \u001b[1;32mif\u001b[0m \u001b[0ms\u001b[0m \u001b[1;33m<\u001b[0m \u001b[1;36m0\u001b[0m \u001b[1;32mor\u001b[0m \u001b[0ms\u001b[0m \u001b[1;33m>\u001b[0m \u001b[0mself\u001b[0m\u001b[1;33m.\u001b[0m\u001b[0m_n\u001b[0m \u001b[1;33m-\u001b[0m \u001b[1;36m1\u001b[0m\u001b[1;33m:\u001b[0m\u001b[1;33m\u001b[0m\u001b[0m\n\u001b[1;32m---> 11\u001b[1;33m                 \u001b[1;32mraise\u001b[0m \u001b[0mIndexError\u001b[0m\u001b[1;33m\u001b[0m\u001b[0m\n\u001b[0m\u001b[0;32m     12\u001b[0m             \u001b[1;32mreturn\u001b[0m \u001b[0mself\u001b[0m\u001b[1;33m.\u001b[0m\u001b[0m_fib\u001b[0m\u001b[1;33m(\u001b[0m\u001b[0ms\u001b[0m\u001b[1;33m)\u001b[0m\u001b[1;33m\u001b[0m\u001b[0m\n\u001b[0;32m     13\u001b[0m         \u001b[1;32melse\u001b[0m\u001b[1;33m:\u001b[0m\u001b[1;33m\u001b[0m\u001b[0m\n",
            "\u001b[1;31mIndexError\u001b[0m: "
          ]
        }
      ],
      "source": [
        "f[-100]"
      ]
    },
    {
      "cell_type": "code",
      "execution_count": null,
      "metadata": {
        "id": "YPv37me4zDNh",
        "outputId": "79c647b1-ca36-4560-91c9-8730d143794d"
      },
      "outputs": [
        {
          "name": "stdout",
          "output_type": "stream",
          "text": [
            "1\n",
            "1\n",
            "2\n",
            "3\n",
            "5\n",
            "8\n",
            "13\n",
            "21\n",
            "34\n",
            "55\n"
          ]
        }
      ],
      "source": [
        "for item in f:\n",
        "    print(item)"
      ]
    },
    {
      "cell_type": "markdown",
      "metadata": {
        "id": "LiK-94wSzDNi"
      },
      "source": [
        "We still don't support slicing though..."
      ]
    },
    {
      "cell_type": "code",
      "execution_count": null,
      "metadata": {
        "id": "DpcN6jcKzDNi",
        "outputId": "3073aba8-4010-46ac-89c0-864758e28595"
      },
      "outputs": [
        {
          "name": "stdout",
          "output_type": "stream",
          "text": [
            "requesting [0:2:None]\n",
            "\trange(0, 2, 1) --> [0, 1]\n"
          ]
        }
      ],
      "source": [
        "f[0:2]"
      ]
    },
    {
      "cell_type": "markdown",
      "metadata": {
        "id": "JUnUfsdVzDNi"
      },
      "source": [
        "So let's implement slicing as well:"
      ]
    },
    {
      "cell_type": "code",
      "execution_count": null,
      "metadata": {
        "collapsed": true,
        "id": "DgNaLvZ-zDNi"
      },
      "outputs": [],
      "source": [
        "class Fib:\n",
        "    def __init__(self, n):\n",
        "        self._n = n\n",
        "    \n",
        "    def __getitem__(self, s):\n",
        "        if isinstance(s, int):\n",
        "            # single item requested\n",
        "            if s < 0:\n",
        "                s = self._n + s\n",
        "            if s < 0 or s > self._n - 1:\n",
        "                raise IndexError\n",
        "            return self._fib(s)\n",
        "        else:\n",
        "            # slice being requested\n",
        "            idx = s.indices(self._n)\n",
        "            rng = range(idx[0], idx[1], idx[2])\n",
        "            return [self._fib(n) for n in rng]\n",
        "            \n",
        "    @staticmethod\n",
        "    @lru_cache(2**32)\n",
        "    def _fib(n):\n",
        "        if n < 2:\n",
        "            return 1\n",
        "        else:\n",
        "            return fib(n-1) + fib(n-2)"
      ]
    },
    {
      "cell_type": "code",
      "execution_count": null,
      "metadata": {
        "collapsed": true,
        "id": "rIQuUeoXzDNj"
      },
      "outputs": [],
      "source": [
        "f = Fib(10)"
      ]
    },
    {
      "cell_type": "code",
      "execution_count": null,
      "metadata": {
        "id": "6vmM5OvmzDNj",
        "outputId": "590dc992-06fb-448a-be1e-3a85d50040d2"
      },
      "outputs": [
        {
          "data": {
            "text/plain": [
              "[1, 1, 2, 3, 5]"
            ]
          },
          "execution_count": 48,
          "metadata": {},
          "output_type": "execute_result"
        }
      ],
      "source": [
        "f[0:5]"
      ]
    },
    {
      "cell_type": "code",
      "execution_count": null,
      "metadata": {
        "id": "D-apZXkUzDNj",
        "outputId": "8326516b-c163-429b-a193-da8ec3c98e1f"
      },
      "outputs": [
        {
          "data": {
            "text/plain": [
              "[8, 5, 3, 2, 1, 1]"
            ]
          },
          "execution_count": 49,
          "metadata": {},
          "output_type": "execute_result"
        }
      ],
      "source": [
        "f[5::-1]"
      ]
    },
    {
      "cell_type": "code",
      "execution_count": null,
      "metadata": {
        "id": "bs-89YCfzDNj",
        "outputId": "b7abaa09-7e32-477a-8cdb-2a836412755e"
      },
      "outputs": [
        {
          "data": {
            "text/plain": [
              "[1, 1, 2, 3, 5, 8, 13, 21, 34, 55]"
            ]
          },
          "execution_count": 50,
          "metadata": {},
          "output_type": "execute_result"
        }
      ],
      "source": [
        "list(f)"
      ]
    },
    {
      "cell_type": "code",
      "execution_count": null,
      "metadata": {
        "id": "vu8HDsDezDNj",
        "outputId": "16f2533f-ab0a-4367-d0dc-4862981b5568"
      },
      "outputs": [
        {
          "data": {
            "text/plain": [
              "[55, 34, 21, 13, 8, 5, 3, 2, 1, 1]"
            ]
          },
          "execution_count": 51,
          "metadata": {},
          "output_type": "execute_result"
        }
      ],
      "source": [
        "f[::-1]"
      ]
    },
    {
      "cell_type": "markdown",
      "metadata": {
        "id": "ezkAZxiTzDNk"
      },
      "source": [
        "One other thing, is that the built-in `len` function will not work with our class:"
      ]
    },
    {
      "cell_type": "code",
      "execution_count": null,
      "metadata": {
        "collapsed": true,
        "id": "uwfdvkOKzDNk"
      },
      "outputs": [],
      "source": [
        "f = Fib(10)"
      ]
    },
    {
      "cell_type": "code",
      "execution_count": null,
      "metadata": {
        "id": "MGdo4WUyzDNk",
        "outputId": "0313cefd-4f44-474b-dec5-e0846a9b083c"
      },
      "outputs": [
        {
          "ename": "TypeError",
          "evalue": "object of type 'Fib' has no len()",
          "output_type": "error",
          "traceback": [
            "\u001b[1;31m---------------------------------------------------------------------------\u001b[0m",
            "\u001b[1;31mTypeError\u001b[0m                                 Traceback (most recent call last)",
            "\u001b[1;32m<ipython-input-53-0fa5f7f1c349>\u001b[0m in \u001b[0;36m<module>\u001b[1;34m()\u001b[0m\n\u001b[1;32m----> 1\u001b[1;33m \u001b[0mlen\u001b[0m\u001b[1;33m(\u001b[0m\u001b[0mf\u001b[0m\u001b[1;33m)\u001b[0m\u001b[1;33m\u001b[0m\u001b[0m\n\u001b[0m",
            "\u001b[1;31mTypeError\u001b[0m: object of type 'Fib' has no len()"
          ]
        }
      ],
      "source": [
        "len(f)"
      ]
    },
    {
      "cell_type": "markdown",
      "metadata": {
        "id": "99agpAemzDNk"
      },
      "source": [
        "That's an easy fix, we just need to implement the `__len__` method:"
      ]
    },
    {
      "cell_type": "code",
      "execution_count": null,
      "metadata": {
        "collapsed": true,
        "id": "twofA6w9zDNl"
      },
      "outputs": [],
      "source": [
        "class Fib:\n",
        "    def __init__(self, n):\n",
        "        self._n = n\n",
        "    \n",
        "    def __len__(self):\n",
        "        return self._n\n",
        "    \n",
        "    def __getitem__(self, s):\n",
        "        if isinstance(s, int):\n",
        "            # single item requested\n",
        "            if s < 0:\n",
        "                s = self._n + s\n",
        "            if s < 0 or s > self._n - 1:\n",
        "                raise IndexError\n",
        "            return self._fib(s)\n",
        "        else:\n",
        "            # slice being requested\n",
        "            idx = s.indices(self._n)\n",
        "            rng = range(idx[0], idx[1], idx[2])\n",
        "            return [self._fib(n) for n in rng]\n",
        "            \n",
        "    @staticmethod\n",
        "    @lru_cache(2**32)\n",
        "    def _fib(n):\n",
        "        if n < 2:\n",
        "            return 1\n",
        "        else:\n",
        "            return fib(n-1) + fib(n-2)"
      ]
    },
    {
      "cell_type": "code",
      "execution_count": null,
      "metadata": {
        "collapsed": true,
        "id": "5EATrujkzDNl"
      },
      "outputs": [],
      "source": [
        "f = Fib(10)"
      ]
    },
    {
      "cell_type": "code",
      "execution_count": null,
      "metadata": {
        "id": "OfNqL_KrzDNl",
        "outputId": "a05aca9e-f0b2-48f3-e340-20c6d9761fcb"
      },
      "outputs": [
        {
          "data": {
            "text/plain": [
              "10"
            ]
          },
          "execution_count": 56,
          "metadata": {},
          "output_type": "execute_result"
        }
      ],
      "source": [
        "len(f)"
      ]
    },
    {
      "cell_type": "markdown",
      "metadata": {
        "id": "LQ0rsNIozDNl"
      },
      "source": [
        "One thing I want to point out here: we did not need to use inheritance! There was no need to inherit from another sequence type. All we really needed was to implement the `__getitem__` and `__len__` methods."
      ]
    },
    {
      "cell_type": "markdown",
      "metadata": {
        "id": "7DvM0LIwzDNl"
      },
      "source": [
        "The other thing I want to mention, is that I would not use recursion for production purposes for a Fibonacci sequence, even with memoization - partly because of the cost of recursion and the limit to the recursion depth that is possible.\n",
        "\n",
        "Also, when we look at generators, and more particularly generator expressions, we'll see better ways of doing this as well.\n",
        "\n",
        "I really wanted to show you a simple example of how to create your own sequence types."
      ]
    }
  ],
  "metadata": {
    "kernelspec": {
      "display_name": "Python 3",
      "language": "python",
      "name": "python3"
    },
    "language_info": {
      "codemirror_mode": {
        "name": "ipython",
        "version": 3
      },
      "file_extension": ".py",
      "mimetype": "text/x-python",
      "name": "python",
      "nbconvert_exporter": "python",
      "pygments_lexer": "ipython3",
      "version": "3.6.2"
    },
    "colab": {
      "provenance": [],
      "include_colab_link": true
    }
  },
  "nbformat": 4,
  "nbformat_minor": 0
}