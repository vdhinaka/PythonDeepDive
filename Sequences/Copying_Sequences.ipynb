{
  "nbformat": 4,
  "nbformat_minor": 0,
  "metadata": {
    "colab": {
      "provenance": [],
      "authorship_tag": "ABX9TyMCP9tldFQGYhi6Ds1zLwQo",
      "include_colab_link": true
    },
    "kernelspec": {
      "name": "python3",
      "display_name": "Python 3"
    },
    "language_info": {
      "name": "python"
    }
  },
  "cells": [
    {
      "cell_type": "markdown",
      "metadata": {
        "id": "view-in-github",
        "colab_type": "text"
      },
      "source": [
        "<a href=\"https://colab.research.google.com/github/vdhinaka/PythonDeepDive/blob/master/Sequences/Copying_Sequences.ipynb\" target=\"_parent\"><img src=\"https://colab.research.google.com/assets/colab-badge.svg\" alt=\"Open In Colab\"/></a>"
      ]
    },
    {
      "cell_type": "markdown",
      "source": [
        "### Shallow Copy"
      ],
      "metadata": {
        "id": "-tCEq3A-UtFR"
      }
    },
    {
      "cell_type": "code",
      "source": [
        "x = [1, 2, 3]\n",
        "y = [item for item in x]\n",
        "print( id(x), id(y) )"
      ],
      "metadata": {
        "id": "3oomVSngVGXX",
        "outputId": "82397adb-bcdd-40b2-9aeb-5ccf099981b5",
        "colab": {
          "base_uri": "https://localhost:8080/"
        }
      },
      "execution_count": 9,
      "outputs": [
        {
          "output_type": "stream",
          "name": "stdout",
          "text": [
            "140111213132528 140111212839072\n"
          ]
        }
      ]
    },
    {
      "cell_type": "code",
      "execution_count": 4,
      "metadata": {
        "colab": {
          "base_uri": "https://localhost:8080/"
        },
        "id": "-Kv52YZ1O2_e",
        "outputId": "86893752-67e7-4ca4-ff3f-2ff6c08ce07c"
      },
      "outputs": [
        {
          "output_type": "stream",
          "name": "stdout",
          "text": [
            "140220884299600 140220884299600\n",
            "True\n"
          ]
        }
      ],
      "source": [
        "a = [1, [2, 3], 4]\n",
        "b = [item for item in a ]\n",
        "print( id(a[1]), id(b[1]) )\n",
        "print( a[1] is b[1] )"
      ]
    },
    {
      "cell_type": "code",
      "source": [
        "t1 = (1, 2, 3)\n",
        "t2 = (item for item in t1)\n",
        "print( id(t1), id(t2) )"
      ],
      "metadata": {
        "id": "duAjkWfGFN9m",
        "outputId": "cdfe93d8-c6f6-4751-c683-2d74a7290268",
        "colab": {
          "base_uri": "https://localhost:8080/"
        }
      },
      "execution_count": 1,
      "outputs": [
        {
          "output_type": "stream",
          "name": "stdout",
          "text": [
            "140221127184048 140221032835664\n"
          ]
        }
      ]
    },
    {
      "cell_type": "markdown",
      "source": [
        "###   Copy Method"
      ],
      "metadata": {
        "id": "WSkVI4KCUzyd"
      }
    },
    {
      "cell_type": "code",
      "source": [
        "print(a)"
      ],
      "metadata": {
        "id": "OuSaXjQbO7th",
        "outputId": "c02e6832-aba8-48f8-bda4-d76db54a2144",
        "colab": {
          "base_uri": "https://localhost:8080/"
        }
      },
      "execution_count": 6,
      "outputs": [
        {
          "output_type": "stream",
          "name": "stdout",
          "text": [
            "[1, [2, 3], 4]\n"
          ]
        }
      ]
    },
    {
      "cell_type": "code",
      "source": [
        "y = a.copy()\n",
        "print( id(a), id(y) )\n",
        "print( a is y )"
      ],
      "metadata": {
        "id": "p__24CwkV6EX",
        "outputId": "a062025b-0cb6-41e1-9b74-32a0250f41bc",
        "colab": {
          "base_uri": "https://localhost:8080/"
        }
      },
      "execution_count": 13,
      "outputs": [
        {
          "output_type": "stream",
          "name": "stdout",
          "text": [
            "140111212040352 140111211959792\n",
            "False\n"
          ]
        }
      ]
    },
    {
      "cell_type": "code",
      "source": [
        "b = a.copy()\n",
        "print( id(a[1]), id(b[1]) )\n",
        "print( a[1] is b[1] )"
      ],
      "metadata": {
        "id": "BmeKQlGMU7JH",
        "outputId": "5199d433-e415-4f42-b312-4f4fa80f42f8",
        "colab": {
          "base_uri": "https://localhost:8080/"
        }
      },
      "execution_count": 12,
      "outputs": [
        {
          "output_type": "stream",
          "name": "stdout",
          "text": [
            "140111212040672 140111212040672\n",
            "True\n"
          ]
        }
      ]
    },
    {
      "cell_type": "markdown",
      "source": [
        "### Using list(), tuple()"
      ],
      "metadata": {
        "id": "l_atjTNTXLto"
      }
    },
    {
      "cell_type": "code",
      "source": [
        "print(a)"
      ],
      "metadata": {
        "id": "5rLg_xujVBEH",
        "outputId": "e205bbed-3689-41e9-b78f-4f456a7cca01",
        "colab": {
          "base_uri": "https://localhost:8080/"
        }
      },
      "execution_count": 5,
      "outputs": [
        {
          "output_type": "stream",
          "name": "stdout",
          "text": [
            "[1, [2, 3], 4]\n"
          ]
        }
      ]
    },
    {
      "cell_type": "code",
      "source": [
        "b = list(a)\n",
        "print(b)"
      ],
      "metadata": {
        "id": "pEXjue7eXTX4",
        "outputId": "3f8ba755-2e36-4d6a-d4ed-739de6cb8528",
        "colab": {
          "base_uri": "https://localhost:8080/"
        }
      },
      "execution_count": 6,
      "outputs": [
        {
          "output_type": "stream",
          "name": "stdout",
          "text": [
            "[1, [2, 3], 4]\n"
          ]
        }
      ]
    },
    {
      "cell_type": "code",
      "source": [
        "print( id(a), id(b) )"
      ],
      "metadata": {
        "id": "VxT5CfVOGy1b",
        "outputId": "0ca2cf41-37a7-499d-c37e-af243a939c69",
        "colab": {
          "base_uri": "https://localhost:8080/"
        }
      },
      "execution_count": 7,
      "outputs": [
        {
          "output_type": "stream",
          "name": "stdout",
          "text": [
            "140220882906080 140220882468528\n"
          ]
        }
      ]
    },
    {
      "cell_type": "code",
      "source": [
        "print( id(a[1]), id(b[1]) )\n",
        "print( a[1] is b[1] )"
      ],
      "metadata": {
        "id": "AC2-3-WlXV_R",
        "outputId": "e095532c-a34b-4f15-f8c2-859a902adca9",
        "colab": {
          "base_uri": "https://localhost:8080/"
        }
      },
      "execution_count": 16,
      "outputs": [
        {
          "output_type": "stream",
          "name": "stdout",
          "text": [
            "140111212040672 140111212040672\n",
            "True\n"
          ]
        }
      ]
    },
    {
      "cell_type": "code",
      "source": [
        "t1 = (1, 2, 3)\n",
        "t2 = tuple(t1)\n",
        "print( id(t1), id(t2) )"
      ],
      "metadata": {
        "id": "XzauJTSdXacx",
        "outputId": "d63320ca-b124-4902-fde4-56426d370c3d",
        "colab": {
          "base_uri": "https://localhost:8080/"
        }
      },
      "execution_count": 3,
      "outputs": [
        {
          "output_type": "stream",
          "name": "stdout",
          "text": [
            "140221127784400 140221127784400\n"
          ]
        }
      ]
    },
    {
      "cell_type": "markdown",
      "source": [
        "### Using slicing"
      ],
      "metadata": {
        "id": "P9VrEdesHNek"
      }
    },
    {
      "cell_type": "code",
      "source": [
        "print(a)"
      ],
      "metadata": {
        "id": "5zEW1zuGGH7M",
        "outputId": "d9cece18-9315-4313-ea0b-671dd51673c8",
        "colab": {
          "base_uri": "https://localhost:8080/"
        }
      },
      "execution_count": 8,
      "outputs": [
        {
          "output_type": "stream",
          "name": "stdout",
          "text": [
            "[1, [2, 3], 4]\n"
          ]
        }
      ]
    },
    {
      "cell_type": "code",
      "source": [
        "b = a[:]\n",
        "print(b)"
      ],
      "metadata": {
        "id": "NUFCakfuHREt",
        "outputId": "d8c44bd1-caf6-443f-d51c-1b6b2a652d1a",
        "colab": {
          "base_uri": "https://localhost:8080/"
        }
      },
      "execution_count": 9,
      "outputs": [
        {
          "output_type": "stream",
          "name": "stdout",
          "text": [
            "[1, [2, 3], 4]\n"
          ]
        }
      ]
    },
    {
      "cell_type": "code",
      "source": [
        "print( id(a), id(b) )"
      ],
      "metadata": {
        "id": "5c4E-qAuHY1W",
        "outputId": "8d90cf9f-cc3c-4e6b-b1f2-bcd53cbb9aa1",
        "colab": {
          "base_uri": "https://localhost:8080/"
        }
      },
      "execution_count": 10,
      "outputs": [
        {
          "output_type": "stream",
          "name": "stdout",
          "text": [
            "140220882906080 140220882466208\n"
          ]
        }
      ]
    },
    {
      "cell_type": "code",
      "source": [
        "print( id(a[1]), id(b[1]) )\n",
        "print( a[1] is b[1] )"
      ],
      "metadata": {
        "id": "KT4szPVLHUJF",
        "outputId": "56ddcebf-d85f-401a-8665-418a87b214ff",
        "colab": {
          "base_uri": "https://localhost:8080/"
        }
      },
      "execution_count": 11,
      "outputs": [
        {
          "output_type": "stream",
          "name": "stdout",
          "text": [
            "140220884299600 140220884299600\n",
            "True\n"
          ]
        }
      ]
    },
    {
      "cell_type": "code",
      "source": [
        "t1"
      ],
      "metadata": {
        "id": "ev2ZI1ecHcEm",
        "outputId": "95a16bca-e2b2-48ee-87ea-e27b9eb91f4e",
        "colab": {
          "base_uri": "https://localhost:8080/"
        }
      },
      "execution_count": 12,
      "outputs": [
        {
          "output_type": "execute_result",
          "data": {
            "text/plain": [
              "(1, 2, 3)"
            ]
          },
          "metadata": {},
          "execution_count": 12
        }
      ]
    },
    {
      "cell_type": "code",
      "source": [
        "t2 = t1[:]\n",
        "t2"
      ],
      "metadata": {
        "id": "ujybbB4qHf8e",
        "outputId": "cf2c31e9-c2c2-427a-a127-af2415bb354b",
        "colab": {
          "base_uri": "https://localhost:8080/"
        }
      },
      "execution_count": 13,
      "outputs": [
        {
          "output_type": "execute_result",
          "data": {
            "text/plain": [
              "(1, 2, 3)"
            ]
          },
          "metadata": {},
          "execution_count": 13
        }
      ]
    },
    {
      "cell_type": "code",
      "source": [
        "print( id(t1), id(t2) )"
      ],
      "metadata": {
        "id": "4Mk_8VPkHkfe",
        "outputId": "c927eb7b-8a95-4f19-a38c-1c01bffc2cef",
        "colab": {
          "base_uri": "https://localhost:8080/"
        }
      },
      "execution_count": 14,
      "outputs": [
        {
          "output_type": "stream",
          "name": "stdout",
          "text": [
            "140221127784400 140221127784400\n"
          ]
        }
      ]
    },
    {
      "cell_type": "code",
      "source": [],
      "metadata": {
        "id": "ZXiJy7HPHnMH"
      },
      "execution_count": null,
      "outputs": []
    },
    {
      "cell_type": "markdown",
      "source": [
        "### copy module"
      ],
      "metadata": {
        "id": "L2m0anqfHtKP"
      }
    },
    {
      "cell_type": "code",
      "source": [
        "import copy"
      ],
      "metadata": {
        "id": "Ljrn4cezH-Tc"
      },
      "execution_count": 15,
      "outputs": []
    },
    {
      "cell_type": "code",
      "source": [
        "b = copy.copy(a)\n",
        "b"
      ],
      "metadata": {
        "id": "Fnp0UOxHIaD8",
        "outputId": "bad8b3f4-1303-42e0-99e4-8b437109549f",
        "colab": {
          "base_uri": "https://localhost:8080/"
        }
      },
      "execution_count": 16,
      "outputs": [
        {
          "output_type": "execute_result",
          "data": {
            "text/plain": [
              "[1, [2, 3], 4]"
            ]
          },
          "metadata": {},
          "execution_count": 16
        }
      ]
    },
    {
      "cell_type": "code",
      "source": [
        "print( id(a), id(b) )"
      ],
      "metadata": {
        "id": "nrMwLjsDJOQU",
        "outputId": "75bb00a3-ebf8-4cf4-9265-52b8412e17d8",
        "colab": {
          "base_uri": "https://localhost:8080/"
        }
      },
      "execution_count": 17,
      "outputs": [
        {
          "output_type": "stream",
          "name": "stdout",
          "text": [
            "140220882906080 140220882064320\n"
          ]
        }
      ]
    },
    {
      "cell_type": "code",
      "source": [
        "t2 = copy.copy(t1)\n",
        "t2"
      ],
      "metadata": {
        "id": "2A_5kQPuJQ5d",
        "outputId": "307e0540-eecb-4b97-c057-64bcfba4a8c2",
        "colab": {
          "base_uri": "https://localhost:8080/"
        }
      },
      "execution_count": 18,
      "outputs": [
        {
          "output_type": "execute_result",
          "data": {
            "text/plain": [
              "(1, 2, 3)"
            ]
          },
          "metadata": {},
          "execution_count": 18
        }
      ]
    },
    {
      "cell_type": "code",
      "source": [
        "print( id(t1), id(t2) )"
      ],
      "metadata": {
        "id": "h6Lnig44JUGF",
        "outputId": "e1cedde9-e279-419d-c9ab-3c48be086212",
        "colab": {
          "base_uri": "https://localhost:8080/"
        }
      },
      "execution_count": 19,
      "outputs": [
        {
          "output_type": "stream",
          "name": "stdout",
          "text": [
            "140221127784400 140221127784400\n"
          ]
        }
      ]
    },
    {
      "cell_type": "code",
      "source": [
        "t1 is t2"
      ],
      "metadata": {
        "id": "2OtCkwEBJXIt",
        "outputId": "2b987881-00d5-4e4d-cd8d-e8ae78894bcb",
        "colab": {
          "base_uri": "https://localhost:8080/"
        }
      },
      "execution_count": 20,
      "outputs": [
        {
          "output_type": "execute_result",
          "data": {
            "text/plain": [
              "True"
            ]
          },
          "metadata": {},
          "execution_count": 20
        }
      ]
    },
    {
      "cell_type": "markdown",
      "source": [
        "### Deep Copy"
      ],
      "metadata": {
        "id": "8aZ3giZ9JcOH"
      }
    },
    {
      "cell_type": "code",
      "source": [
        "v1 = [0, 0]\n",
        "v2 = [0, 0]\n",
        "line1 = [v1, v2]"
      ],
      "metadata": {
        "id": "uwk-gm9bJYt1"
      },
      "execution_count": 22,
      "outputs": []
    },
    {
      "cell_type": "code",
      "source": [
        "line2 = line1.copy()\n",
        "line1 is line2"
      ],
      "metadata": {
        "id": "v3iGWHTBJlMP",
        "outputId": "902e4e9b-0926-4e76-843b-facbe81aa4b0",
        "colab": {
          "base_uri": "https://localhost:8080/"
        }
      },
      "execution_count": 23,
      "outputs": [
        {
          "output_type": "execute_result",
          "data": {
            "text/plain": [
              "False"
            ]
          },
          "metadata": {},
          "execution_count": 23
        }
      ]
    },
    {
      "cell_type": "code",
      "source": [
        "id(line1[0]), id(line2[0])"
      ],
      "metadata": {
        "id": "-wA-gkQKJuh4",
        "outputId": "0836861c-9359-4272-cd81-54883cc3224b",
        "colab": {
          "base_uri": "https://localhost:8080/"
        }
      },
      "execution_count": 24,
      "outputs": [
        {
          "output_type": "execute_result",
          "data": {
            "text/plain": [
              "(140220881749808, 140220881749808)"
            ]
          },
          "metadata": {},
          "execution_count": 24
        }
      ]
    },
    {
      "cell_type": "code",
      "source": [
        "line1[0] is line2[0]"
      ],
      "metadata": {
        "id": "YDUaz8spJz96",
        "outputId": "7c3229d6-c4b0-4a2b-c03c-c9611a757c48",
        "colab": {
          "base_uri": "https://localhost:8080/"
        }
      },
      "execution_count": 25,
      "outputs": [
        {
          "output_type": "execute_result",
          "data": {
            "text/plain": [
              "True"
            ]
          },
          "metadata": {},
          "execution_count": 25
        }
      ]
    },
    {
      "cell_type": "code",
      "source": [
        "line3 = [item.copy() for item in line1]\n",
        "line1[0] is line3[0]"
      ],
      "metadata": {
        "id": "5uB4laWRKNlb",
        "outputId": "3f9ba212-d209-435d-d0c4-d17e8b32294b",
        "colab": {
          "base_uri": "https://localhost:8080/"
        }
      },
      "execution_count": 26,
      "outputs": [
        {
          "output_type": "execute_result",
          "data": {
            "text/plain": [
              "False"
            ]
          },
          "metadata": {},
          "execution_count": 26
        }
      ]
    },
    {
      "cell_type": "code",
      "source": [
        "line1, line2, line3"
      ],
      "metadata": {
        "id": "IAshWfjAQ32_",
        "outputId": "18936eec-25c4-42a8-b983-07b34e2b9983",
        "colab": {
          "base_uri": "https://localhost:8080/"
        }
      },
      "execution_count": 27,
      "outputs": [
        {
          "output_type": "execute_result",
          "data": {
            "text/plain": [
              "([[0, 0], [0, 0]], [[0, 0], [0, 0]], [[0, 0], [0, 0]])"
            ]
          },
          "metadata": {},
          "execution_count": 27
        }
      ]
    },
    {
      "cell_type": "code",
      "source": [
        "line3[1][0] = 999"
      ],
      "metadata": {
        "id": "t_BbkeztSlcT"
      },
      "execution_count": 28,
      "outputs": []
    },
    {
      "cell_type": "code",
      "source": [
        "line1, line2, line3"
      ],
      "metadata": {
        "id": "1msxTnttStks",
        "outputId": "ed46fda1-6366-4c39-b375-ebe3b093d3ff",
        "colab": {
          "base_uri": "https://localhost:8080/"
        }
      },
      "execution_count": 29,
      "outputs": [
        {
          "output_type": "execute_result",
          "data": {
            "text/plain": [
              "([[0, 0], [0, 0]], [[0, 0], [0, 0]], [[0, 0], [999, 0]])"
            ]
          },
          "metadata": {},
          "execution_count": 29
        }
      ]
    },
    {
      "cell_type": "code",
      "source": [
        "line1[0][0] = 100\n",
        "line1, line2, line3"
      ],
      "metadata": {
        "id": "beyTInWoSvFV",
        "outputId": "934b6dd2-2440-42a1-c2e3-f36fce06d78e",
        "colab": {
          "base_uri": "https://localhost:8080/"
        }
      },
      "execution_count": 30,
      "outputs": [
        {
          "output_type": "execute_result",
          "data": {
            "text/plain": [
              "([[100, 0], [0, 0]], [[100, 0], [0, 0]], [[0, 0], [999, 0]])"
            ]
          },
          "metadata": {},
          "execution_count": 30
        }
      ]
    },
    {
      "cell_type": "code",
      "source": [
        "p1 = [0, 0]\n",
        "p2 = [1, 1]\n",
        "line1 = [p1, p2]\n",
        "print(line1)"
      ],
      "metadata": {
        "id": "yZfy7P-bS08l",
        "outputId": "47844c99-5367-40ef-aef6-c8badf3011bb",
        "colab": {
          "base_uri": "https://localhost:8080/"
        }
      },
      "execution_count": 31,
      "outputs": [
        {
          "output_type": "stream",
          "name": "stdout",
          "text": [
            "[[0, 0], [1, 1]]\n"
          ]
        }
      ]
    },
    {
      "cell_type": "markdown",
      "source": [
        "**Use copy.deepcopy()**"
      ],
      "metadata": {
        "id": "1oRY6KUnYKgp"
      }
    },
    {
      "cell_type": "code",
      "source": [
        "line2 = copy.deepcopy(line1)\n",
        "line2"
      ],
      "metadata": {
        "id": "ElqYM8oiX_B2",
        "outputId": "7b57cd9e-b49a-4984-f0f9-cf4c594a280e",
        "colab": {
          "base_uri": "https://localhost:8080/"
        }
      },
      "execution_count": 32,
      "outputs": [
        {
          "output_type": "execute_result",
          "data": {
            "text/plain": [
              "[[0, 0], [1, 1]]"
            ]
          },
          "metadata": {},
          "execution_count": 32
        }
      ]
    },
    {
      "cell_type": "code",
      "source": [
        "line1[0]  is line2[0]"
      ],
      "metadata": {
        "id": "i6eCZ1cXYEq-",
        "outputId": "760c4d25-c081-4b3b-b074-061c904ec644",
        "colab": {
          "base_uri": "https://localhost:8080/"
        }
      },
      "execution_count": 33,
      "outputs": [
        {
          "output_type": "execute_result",
          "data": {
            "text/plain": [
              "False"
            ]
          },
          "metadata": {},
          "execution_count": 33
        }
      ]
    },
    {
      "cell_type": "code",
      "source": [],
      "metadata": {
        "id": "jT9C314DYH8w"
      },
      "execution_count": null,
      "outputs": []
    }
  ]
}